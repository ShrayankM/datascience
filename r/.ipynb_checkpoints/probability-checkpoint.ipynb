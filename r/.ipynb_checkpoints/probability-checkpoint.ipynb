{
 "cells": [
  {
   "cell_type": "markdown",
   "metadata": {},
   "source": [
    "# Probability\n",
    "A theoretical reference notebook with examples in R."
   ]
  },
  {
   "cell_type": "markdown",
   "metadata": {},
   "source": [
    "## Definitions"
   ]
  },
  {
   "cell_type": "markdown",
   "metadata": {},
   "source": [
    "### Sample space\n",
    "A sample space is the set of observations of a process."
   ]
  },
  {
   "cell_type": "markdown",
   "metadata": {},
   "source": [
    "### Joint probability\n",
    "Given a vector variable y in the sample space and a parameter vector $\\theta$ in the parameter space, $P(y = y_k, \\theta = \\theta_j)$, or simply $P(y_k, \\theta_j)$, represents the joint probability of a sample in which $y = y_k$ and $\\theta = \\theta_j$. The variable $y_k$ may depend on some other variables.   "
   ]
  },
  {
   "cell_type": "markdown",
   "metadata": {},
   "source": [
    "If the components of the sample vector x are independent variables, e.g. uncorrelated events, then  \n",
    "$P(x_k, \\theta_j) = \\prod_{i} P(x_{k,i}, \\theta_j)$"
   ]
  },
  {
   "cell_type": "markdown",
   "metadata": {},
   "source": [
    "### Conditional probability"
   ]
  },
  {
   "cell_type": "markdown",
   "metadata": {},
   "source": [
    "$P(x_k,\\theta_j) = P(\\theta_j|x_k)P(x_k)$  \n",
    "$P(x_k,\\theta_j) = P(x_k|\\theta_j)P(\\theta_j)$\n"
   ]
  },
  {
   "cell_type": "markdown",
   "metadata": {},
   "source": [
    "### Marginal probability"
   ]
  },
  {
   "cell_type": "markdown",
   "metadata": {},
   "source": [
    "$P(\\theta_j) = \\sum_{k} P(\\theta_j|x_k)P(x_k)$  \n",
    "$P(x_k) = \\sum_{j} P(x_k|\\theta_j)P(\\theta_j)$"
   ]
  },
  {
   "cell_type": "markdown",
   "metadata": {},
   "source": [
    "## Bayes rule\n",
    "$P(x_{k}|\\theta_{j})P(\\theta_{j}) = P(\\theta_{j}| x_{k})P(x_{k})$  "
   ]
  },
  {
   "cell_type": "markdown",
   "metadata": {},
   "source": [
    "$$P(\\theta_{j}| x_{k}) = \\frac{P(x_{k}|\\theta_{j})P(\\theta_{j})}{P(x_{k})}$$"
   ]
  },
  {
   "cell_type": "markdown",
   "metadata": {},
   "source": [
    "$$P(\\theta_{j}| x_{k}) = \\frac{P(x_{k}|\\theta_{j})P(\\theta_{j})}{\\sum_{i} P(x_k|\\theta_i)P(\\theta_i)}$$"
   ]
  },
  {
   "cell_type": "markdown",
   "metadata": {},
   "source": [
    "$P(\\theta_j)$ is called the prior probability and represents the probability of $\\theta$ before we see any data.  \n",
    "$P(x_k|\\theta_j)$ is called the likelihood and represents the probability of any mathematically plausible value of $\\theta$.    \n",
    "$P(x_k)$ is called the marginal probability  \n",
    "$P(\\theta_j|x_k)$ is called the posterior probability  "
   ]
  },
  {
   "cell_type": "markdown",
   "metadata": {},
   "source": [
    "|           |$\\theta_1$|$\\theta_2$|$\\theta_3$|$\\theta_4$|\n",
    "|-----------|-----------|----------|---------|----------|\n",
    "|$x_1$      |$P(x_1,\\theta_1)$|$P(x_1,\\theta_2)$|$P(x_1,\\theta_3)$|$P(x_1,\\theta_4)$|\n",
    "|$x_2$      |$P(x_2,\\theta_1)$|$P(x_2,\\theta_2)$|$P(x_2,\\theta_3)$|$P(x_2,\\theta_4)$|\n",
    "|$x_3$      |$P(x_3,\\theta_1)$|$P(x_3,\\theta_2)$|$P(x_3,\\theta_3)$|$P(x_3,\\theta_4)$|\n",
    "|$x_4$      |$P(x_4,\\theta_1)$|$P(x_4,\\theta_2)$|$P(x_4,\\theta_3)$|$P(x_4,\\theta_4)$|"
   ]
  },
  {
   "cell_type": "markdown",
   "metadata": {},
   "source": [
    "## Distributions\n",
    "Distributions are used to represent priors and likelihoods when building a model. A first differentiation is between discrete and continuous distributions. Discrete distributions are used to represent proceses whose data are integers numbers. Continuous distributions are used to represent processes whose data are real numbers. Another characteristic that guides us to choose a distribution is the scale type, the type of values we are going to deal with. Some continuous distributions are defined in an closed interval, e.g. $[0, 1]$ or infinite, e.g. $[0, + \\infty)$. The discrete Bernoulli distribution is defined in the set {0, 1}. There exist many standard distributions used for the analysis of experiments or observations that are shown in the next sections. When it is used to represent the likelihood, a distribution is selected also depending on the sampling method or stop rule, that is the rule that applies when we collect a sample. The two main sampling methods, or stop rules, are set or by the number of events, that is the sample size, or by the time used to gather the data of the sample. For example the binomial distribution is used when our sample has a specific size. The same applies for the normal distribution, the bernoulli distribution and others. The Poisson disribution and the exponential distribution are used when the stop rule is the time, or the space, between events. The likelihood represents all the possible states in which our system can be found. The data in our sample tell us which of all those possible states are more or less likely taking into account what we already know about the system before we start to collect the data and that is represented by the prior distribution."
   ]
  },
  {
   "cell_type": "markdown",
   "metadata": {},
   "source": [
    "### Binomial distribution\n",
    "A sample of the discrete binomial distribution is characterized by  \n",
    "*n* the number of events (e.g. tosses of a coin)  \n",
    "*k* the number of successes (e.g. heads)  \n",
    "*p* the probability of success in a toss"
   ]
  },
  {
   "cell_type": "markdown",
   "metadata": {},
   "source": [
    "$$Binomial(k, n, \\theta) = \\binom{n}{k}\\theta^k(1 - \\theta)^{(n - k)}$$"
   ]
  },
  {
   "cell_type": "markdown",
   "metadata": {},
   "source": [
    "$$P(x_k|\\theta_j) =\\binom{n}{k}{\\theta_j}^k(1 - \\theta_j)^{(n - k)}$$"
   ]
  },
  {
   "cell_type": "code",
   "execution_count": 1,
   "metadata": {},
   "outputs": [
    {
     "data": {
      "image/png": "[encoded data removed]",
      "text/plain": [
       "plot without title"
      ]
     },
     "metadata": {},
     "output_type": "display_data"
    }
   ],
   "source": [
    "N <- 20 # number of flips\n",
    "k <- seq(from = 1, to = N, by = 1) # number of successes (e.g. heads)\n",
    "theta <- 0.5 # probability of success at every flip\n",
    "plot(k, dbinom(k, size = N, prob = theta), type = \"h\", col = \"skyblue\", ylab = \"probability\") "
   ]
  },
  {
   "cell_type": "markdown",
   "metadata": {},
   "source": [
    "### Bernoulli distribution\n",
    "For N = 1 and $k \\in {0, 1}$ the binomial distribution becomes\n",
    "\n",
    "$$Bernoulli(\\theta, k) = \\theta^k (1 - \\theta)^{(1 - k)}$$  \n"
   ]
  },
  {
   "cell_type": "markdown",
   "metadata": {},
   "source": [
    "### Beta distribution\n",
    "The beta continuous distribution is defined over the interval [0, 1]. Its shape depends on two positive parameters, a and b. It can be used as conjugate prior distribution of a binomial distribution likelihood."
   ]
  },
  {
   "cell_type": "markdown",
   "metadata": {},
   "source": [
    "$$Beta(\\theta|a,b) = \\frac{\\theta^{(a - 1)}(1 - \\theta)^{(b - 1)}}{B(a,b)}$$\n",
    "\n",
    "where\n",
    "\n",
    "$$B(a,b) = \\int^1_0 \\theta^{(a - 1)}(1 - \\theta)^{(b - 1)}d\\theta$$  \n",
    "\n",
    "is the beta function."
   ]
  },
  {
   "cell_type": "markdown",
   "metadata": {},
   "source": [
    "Other parameters of the beta distribution can be computed from the shape parameters $a$ and $b$.  \n",
    "\n",
    "$$\\mu = \\frac{a}{a + b}$$  \n",
    "$$\\omega = \\frac{a - 1}{a + b - 2}$$  \n",
    "$$k = a + b$$  \n",
    "\n",
    "where $\\mu$ is the mean of the beta distribution, $\\omega$ the mode and $k$ the concentration. The larger is k the narrower, or more concentrated, is the distribution. We can invert the relationships to get the shape parameters $a$ and $b$.\n",
    "\n",
    "$$a = \\omega(k - 2) + 1 $$  \n",
    "$$b = (1 - \\omega)(k - 2) + 1$$    \n"
   ]
  },
  {
   "cell_type": "code",
   "execution_count": 30,
   "metadata": {},
   "outputs": [
    {
     "data": {
      "image/png": "[encoded data removed]",
      "text/plain": [
       "plot without title"
      ]
     },
     "metadata": {},
     "output_type": "display_data"
    }
   ],
   "source": [
    "om <- 0.8                      # mode\n",
    "k <- 7                         # concentration (or spread)\n",
    "#a <- om * (k - 2) + 1          # can be seen as the number of heads in a coin toss\n",
    "a <- 11\n",
    "#b <- (1 - om) * (k - 2) + 1    # can be seen as the number of tails in a coin toss\n",
    "b <- 11\n",
    "s <- seq(from = 0, to = 1, by = 0.001)\n",
    "plot(s, s^(a - 1) * (1 - s)^(b - 1) / beta(a, b), type = \"h\", col = \"skyblue\", ylab = \"probability\")"
   ]
  },
  {
   "cell_type": "markdown",
   "metadata": {},
   "source": [
    "### Gamma distribution\n",
    "The gamma continuous distribution is defined in the interval $[0, + \\infty)$ and characterized by two parameters, the scale s and the rate r."
   ]
  },
  {
   "cell_type": "markdown",
   "metadata": {},
   "source": [
    "$$Gamma(k| r, s) = \\frac{r^sk^{(s - 1)}e^{-rk}}{\\Gamma(s)}$$"
   ]
  },
  {
   "cell_type": "markdown",
   "metadata": {},
   "source": [
    "where\n",
    "\n",
    "$$\\Gamma(s) = \\int_0^\\infty t^{(s - 1)}e^{-t}dt$$\n",
    "\n",
    "is the gamma function that can be used to compute the factorial of complex numbers\n",
    "\n",
    "$$\\Gamma(s) = (s - 1)!$$"
   ]
  },
  {
   "cell_type": "markdown",
   "metadata": {},
   "source": [
    "Other parameters of the gamma distribution can be computed from the shape and the rate\n",
    "\n",
    "$$\\mu = \\frac{s}{r}$$     \n",
    "$$\\omega = \\frac{s - 1}{r}$$  \n",
    "$$\\sigma = \\frac{\\sqrt{s}}{r}$$\n",
    "\n",
    "where $\\mu$ is the mean of the gamma distribution, $\\omega$ the mode and $\\sigma$ the standard deviation. We can invert the relationships to get shape and rate\n",
    "\n",
    "$$s = 1 + \\omega r$$  \n",
    "$$r = \\frac{\\mu}{\\sigma^2}$$"
   ]
  },
  {
   "cell_type": "code",
   "execution_count": 23,
   "metadata": {},
   "outputs": [
    {
     "data": {
      "image/png": "[encoded data removed]",
      "text/plain": [
       "plot without title"
      ]
     },
     "metadata": {},
     "output_type": "display_data"
    }
   ],
   "source": [
    "mu <- 50\n",
    "sd <- 20\n",
    "mode <- 42\n",
    "r <- mu / sd^2\n",
    "s <- 1 + mode * r\n",
    "k <- seq(from = 0, to = 150, by = 0.1)\n",
    "plot(k, r^s * k^(s - 1) * exp(-r * k) / gamma(s), type = \"h\", col = \"skyblue\", ylab = \"probability\")"
   ]
  },
  {
   "cell_type": "markdown",
   "metadata": {},
   "source": [
    "### Poisson distribution\n",
    "The Poisson discrete distribution is defined over integer values from 0 to $+ \\infty$ and can represent the number of occurrences of an event in a time interval.\n",
    "\n",
    "$$f(k, \\lambda) = \\frac{\\lambda^k e^{-\\lambda}}{k!}$$\n",
    "\n",
    "$\\lambda$ is a real number that represents the mean and the variance of the distribution."
   ]
  },
  {
   "cell_type": "code",
   "execution_count": 22,
   "metadata": {},
   "outputs": [
    {
     "data": {
      "image/png": "[encoded data removed]",
      "text/plain": [
       "plot without title"
      ]
     },
     "metadata": {},
     "output_type": "display_data"
    }
   ],
   "source": [
    "k <- seq(from = 0, to = 10, by = 1)\n",
    "lambda <- 4\n",
    "plot(k, lambda^k * exp( - lambda) / factorial(k), type = \"h\", col = \"skyblue\", ylab = \"probability\")"
   ]
  },
  {
   "cell_type": "markdown",
   "metadata": {},
   "source": [
    "### Gaussian distribution"
   ]
  },
  {
   "cell_type": "markdown",
   "metadata": {},
   "source": [
    "### Exponential distribution"
   ]
  },
  {
   "cell_type": "code",
   "execution_count": null,
   "metadata": {},
   "outputs": [],
   "source": []
  }
 ],
 "metadata": {
  "kernelspec": {
   "display_name": "R",
   "language": "R",
   "name": "ir"
  },
  "language_info": {
   "codemirror_mode": "r",
   "file_extension": ".r",
   "mimetype": "text/x-r-source",
   "name": "R",
   "pygments_lexer": "r",
   "version": "3.6.1"
  }
 },
 "nbformat": 4,
 "nbformat_minor": 4
}
