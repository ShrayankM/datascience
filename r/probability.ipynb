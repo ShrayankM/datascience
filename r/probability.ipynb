{
 "cells": [
  {
   "cell_type": "markdown",
   "metadata": {},
   "source": [
    "# Probability\n",
    "A reference notebook"
   ]
  },
  {
   "cell_type": "markdown",
   "metadata": {},
   "source": [
    "## Definitions"
   ]
  },
  {
   "cell_type": "markdown",
   "metadata": {},
   "source": [
    "### Joint probability\n",
    "Given a vector variable x in the sample space and a parameter vector $\\theta$, $P(x = x_k, \\theta = \\theta_j)$, or simply $P(x_k, \\theta_j)$, represents the joint probability of a sample in which $x = x_k$ and $\\theta = \\theta_j$.   "
   ]
  },
  {
   "cell_type": "markdown",
   "metadata": {},
   "source": [
    "If the components of the sample vector x are independent variables, e.g. uncorrelated events, then  \n",
    "$P(x_k, \\theta_j) = \\prod_{i} P(x_{k,i}, \\theta_j)$"
   ]
  },
  {
   "cell_type": "markdown",
   "metadata": {},
   "source": [
    "### Conditional probability"
   ]
  },
  {
   "cell_type": "markdown",
   "metadata": {},
   "source": [
    "$P(x_k,\\theta_j) = P(\\theta_j|x_k)P(x_k)$  \n",
    "$P(x_k,\\theta_j) = P(x_k|\\theta_j)P(\\theta_j)$\n"
   ]
  },
  {
   "cell_type": "markdown",
   "metadata": {},
   "source": [
    "### Marginal probability"
   ]
  },
  {
   "cell_type": "markdown",
   "metadata": {},
   "source": [
    "$P(\\theta_j) = \\sum_{k} P(\\theta_j|x_k)P(x_k)$  \n",
    "$P(x_k) = \\sum_{j} P(x_k|\\theta_j)P(\\theta_j)$"
   ]
  },
  {
   "cell_type": "markdown",
   "metadata": {},
   "source": [
    "## Bayes rule\n",
    "$P(x_{k}|\\theta_{j})P(\\theta_{j}) = P(\\theta_{j}| x_{k})P(x_{k})$  "
   ]
  },
  {
   "cell_type": "markdown",
   "metadata": {},
   "source": [
    "$$P(\\theta_{j}| x_{k}) = \\frac{P(x_{k}|\\theta_{j})P(\\theta_{j})}{P(x_{k})}$$"
   ]
  },
  {
   "cell_type": "markdown",
   "metadata": {},
   "source": [
    "$$P(\\theta_{j}| x_{k}) = \\frac{P(x_{k}|\\theta_{j})P(\\theta_{j})}{\\sum_{j} P(x_k|\\theta_j)P(\\theta_j)}$$"
   ]
  },
  {
   "cell_type": "markdown",
   "metadata": {},
   "source": [
    "$P(\\theta_j|x_k)$ is called the posterior probability  \n",
    "$P(x_k|\\theta_j)$ is called the likelihood  \n",
    "$P(\\theta_j)$ is called the prior probability  \n",
    "$P(x_k)$ is called the marginal probability"
   ]
  },
  {
   "cell_type": "markdown",
   "metadata": {},
   "source": [
    "|           |$\\theta_1$|$\\theta_2$|$\\theta_3$|$\\theta_4$|\n",
    "|-----------|-----------|----------|---------|----------|\n",
    "|$x_1$      |$P(x_1,\\theta_1)$|$P(x_1,\\theta_2)$|$P(x_1,\\theta_3)$|$P(x_1,\\theta_4)$|\n",
    "|$x_2$      |$P(x_2,\\theta_1)$|$P(x_2,\\theta_2)$|$P(x_2,\\theta_3)$|$P(x_2,\\theta_4)$|\n",
    "|$x_3$      |$P(x_3,\\theta_1)$|$P(x_3,\\theta_2)$|$P(x_3,\\theta_3)$|$P(x_3,\\theta_4)$|\n",
    "|$x_4$      |$P(x_4,\\theta_1)$|$P(x_4,\\theta_2)$|$P(x_4,\\theta_3)$|$P(x_4,\\theta_4)$|"
   ]
  },
  {
   "cell_type": "markdown",
   "metadata": {},
   "source": [
    "## Binomial distribution\n",
    "A sample of the discrete binomial distribution is characterized by  \n",
    "*n* the number of events (e.g. tosses of a coin)  \n",
    "*k* the number of successes (e.g. heads)  \n",
    "*p* the probability of success in a toss"
   ]
  },
  {
   "cell_type": "markdown",
   "metadata": {},
   "source": [
    "$$Binomial(k, n, p) = \\binom{n}{k}p^k(1 - p)^{(n - k)}$$"
   ]
  },
  {
   "cell_type": "markdown",
   "metadata": {},
   "source": [
    "$$P(x_k|\\theta_j) =\\binom{n}{k}{\\theta_j}^k(1 - \\theta_j)^{(n - k)}$$"
   ]
  },
  {
   "cell_type": "code",
   "execution_count": 2,
   "metadata": {},
   "outputs": [
    {
     "data": {
      "text/html": [
       "0.375"
      ],
      "text/latex": [
       "0.375"
      ],
      "text/markdown": [
       "0.375"
      ],
      "text/plain": [
       "[1] 0.375"
      ]
     },
     "metadata": {},
     "output_type": "display_data"
    }
   ],
   "source": [
    "N <- 3 # number of tosses\n",
    "k <- 2 # number of successes (e.g. heads)\n",
    "p <- 0.5 # probability of success at every toss\n",
    "dbinom(k, size = N, prob = p) "
   ]
  },
  {
   "cell_type": "code",
   "execution_count": null,
   "metadata": {},
   "outputs": [],
   "source": []
  }
 ],
 "metadata": {
  "kernelspec": {
   "display_name": "R",
   "language": "R",
   "name": "ir"
  },
  "language_info": {
   "codemirror_mode": "r",
   "file_extension": ".r",
   "mimetype": "text/x-r-source",
   "name": "R",
   "pygments_lexer": "r",
   "version": "3.6.1"
  }
 },
 "nbformat": 4,
 "nbformat_minor": 4
}
