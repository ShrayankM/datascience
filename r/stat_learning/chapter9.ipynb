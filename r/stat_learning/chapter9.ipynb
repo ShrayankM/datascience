{
 "cells": [
  {
   "cell_type": "markdown",
   "metadata": {},
   "source": [
    "# Chapter 9 - Support Vector Machines\n",
    "The topics of this chapter are\n",
    "\n",
    "- Support Vector Classifiers\n",
    "- Support Vector Machines\n",
    "\n",
    "Three packages are used in the examples of this chapter: e1071, ISLR, ROCR.\n",
    "\n",
    "The support vector machine is used for classification. It is defined by a function that represents the boundary between two classes of observations. If the classes can be separated by a linear boundary, e.g. a line in a two-dimesional space, then the algorithm is called support vector classifier. When the observations can be separated by a linear function and are defined by more than two variables, the decision boundary is an hyperplane represented by the equation\n",
    "\n",
    "$$\\beta_0 + \\beta_1 X_1 + \\beta_2 X_2 + \\beta_p X_p = 0$$\n",
    "\n",
    "\n",
    "An observation belongs to one of the two regions separated by the decision boundary depending whether the value of the function for that observation is higher or lower than zero. The members of the two classes should not fall too close to the boundary and two margins are defined on each side of the two classes where no observations should be found with the decision boundary in between. Only a subset of the observations are used to define the margins. When the two classes cannot be separated by a linear functions it is possible to use polynomials or other non-linear functions. "
   ]
  },
  {
   "cell_type": "markdown",
   "metadata": {},
   "source": [
    "### 9.6.1 Support Vector Classifier\n",
    "We simulate the data taking a random sample of data points in two dimensions, $X(X_1, X_2)$ to create two classes of points, in a two-dimensional space, that are not linearly separable. "
   ]
  },
  {
   "cell_type": "code",
   "execution_count": 2,
   "metadata": {},
   "outputs": [
    {
     "data": {
      "image/png": "[encoded data removed]",
      "text/plain": [
       "plot without title"
      ]
     },
     "metadata": {},
     "output_type": "display_data"
    }
   ],
   "source": [
    "set.seed(1)\n",
    "X <- matrix(rnorm(20 * 2), ncol = 2) # random sample matrix from a normal distribution with mean = 0 and standard deviation = 1\n",
    "y <- c(rep(-1, 10), rep(1, 10)) # two classes y = -1 and y = 1\n",
    "X[y == 1, ] <- X[y == 1, ] + 1 # adds 1 to data points with y = 1 to somewhat pull them apart from those with y = -1 (still, the two classes are not linearly separable)\n",
    "plot(X, col = (3 - y), xlab = \"X1\", ylab = \"X2\") # plots the data points with different colors, y = 1 -> red (2), y = - 1 -> blue (4)"
   ]
  },
  {
   "cell_type": "code",
   "execution_count": 4,
   "metadata": {},
   "outputs": [
    {
     "data": {
      "text/plain": [
       "\n",
       "Call:\n",
       "svm(formula = y ~ ., data = dat, kernel = \"linear\", cost = 10, scale = FALSE)\n",
       "\n",
       "\n",
       "Parameters:\n",
       "   SVM-Type:  C-classification \n",
       " SVM-Kernel:  linear \n",
       "       cost:  10 \n",
       "\n",
       "Number of Support Vectors:  7\n",
       "\n",
       " ( 4 3 )\n",
       "\n",
       "\n",
       "Number of Classes:  2 \n",
       "\n",
       "Levels: \n",
       " -1 1\n",
       "\n",
       "\n"
      ]
     },
     "metadata": {},
     "output_type": "display_data"
    },
    {
     "data": {
      "image/png": "[encoded data removed]",
      "text/plain": [
       "Plot with title \"SVM classification plot\""
      ]
     },
     "metadata": {},
     "output_type": "display_data"
    }
   ],
   "source": [
    "dat <- data.frame(x = X, y = as.factor(y)) # the response variable is encoded as a variable of (two) classes\n",
    "library(e1071)\n",
    "svmfit <- svm(y ~ ., data = dat, kernel = \"linear\", cost = 10, scale = FALSE) \n",
    "summary(svmfit)\n",
    "plot(svmfit, dat)"
   ]
  },
  {
   "cell_type": "markdown",
   "metadata": {},
   "source": [
    "We try now different values of the cost, the higher is the value of the cost the larger is the margin and the more data point are allowed to be between the margin and the decision boundary."
   ]
  },
  {
   "cell_type": "code",
   "execution_count": 5,
   "metadata": {},
   "outputs": [
    {
     "data": {
      "text/plain": [
       "\n",
       "Parameter tuning of 'svm':\n",
       "\n",
       "- sampling method: 10-fold cross validation \n",
       "\n",
       "- best parameters:\n",
       " cost\n",
       "  0.1\n",
       "\n",
       "- best performance: 0.05 \n",
       "\n",
       "- Detailed performance results:\n",
       "     cost error dispersion\n",
       "1   0.001  0.55  0.4377975\n",
       "2   0.010  0.55  0.4377975\n",
       "3   0.100  0.05  0.1581139\n",
       "4   1.500  0.15  0.2415229\n",
       "5  10.000  0.15  0.2415229\n",
       "6 100.000  0.15  0.2415229\n"
      ]
     },
     "metadata": {},
     "output_type": "display_data"
    }
   ],
   "source": [
    "set.seed(1)\n",
    "cost_range <- c(0.001, 0.01, 0.1, 1.5, 10, 100)\n",
    "tune.out <- tune(svm, y ~ ., data = dat, kernel = \"linear\", ranges = list(cost = cost_range))\n",
    "best_model <- tune.out$best.model\n",
    "summary(tune.out)"
   ]
  },
  {
   "cell_type": "markdown",
   "metadata": {},
   "source": [
    "We can see that the lowest cross-validation error is when cost = 0.1. We will use the best model, with cost = 0.1, to make predictions. Before that we need to create a test set of observations, then we use the best model to predict the class of each observation and finally we see how many observations have been misclassified."
   ]
  },
  {
   "cell_type": "code",
   "execution_count": 6,
   "metadata": {},
   "outputs": [
    {
     "data": {
      "text/html": [
       "15"
      ],
      "text/latex": [
       "15"
      ],
      "text/markdown": [
       "15"
      ],
      "text/plain": [
       "[1] 15"
      ]
     },
     "metadata": {},
     "output_type": "display_data"
    }
   ],
   "source": [
    "Xtest <- matrix(rnorm(20 * 2), ncol = 2) # random sample matrix from a normal distribution with mean = 0 and standard deviation = 1\n",
    "ytest <- sample(c(-1, 1), size = 20, replace = TRUE) # random permutations with replacement from the set {-1, 1}\n",
    "Xtest[ytest == 1, ] <- Xtest[ytest == 1, ] + 1 # adds 1 to the data points for which ytest = 1\n",
    "testdat <- data.frame(x = Xtest, y = as.factor(ytest))\n",
    "ypred <- predict(best_model, testdat)\n",
    "t <- table(predict = ypred, truth = testdat$y)\n",
    "(1 - (t[1,1] + t[2,2]) / 20) * 100 # percentage of misclassified data points"
   ]
  },
  {
   "cell_type": "markdown",
   "metadata": {},
   "source": [
    "### 9.6.2 Support Vector Machine\n",
    "We want to move beyond the linear model in order to be able to separate observations that belong to classes that are not linearly separable, in other words, classes for which the decision boundary cannot be represented as a linear function. We can use the same svm() function that we used for the linear case, we just need to set the kernel to \"polynomial\" or \"radial\". We first create a data set of observations that will belong to two classes that are not linearly separable. "
   ]
  },
  {
   "cell_type": "code",
   "execution_count": 47,
   "metadata": {},
   "outputs": [
    {
     "data": {
      "image/png": "[encoded data removed]",
      "text/plain": [
       "plot without title"
      ]
     },
     "metadata": {},
     "output_type": "display_data"
    }
   ],
   "source": [
    "set.seed(1)\n",
    "X <- matrix(rnorm(200 * 2), ncol = 2) # random sample matrix from a normal distribution with mean = 0 and standard deviation = 1\n",
    "X[1:100, ] <- X[1:100, ] + 2\n",
    "X[101:150, ] <- X[101:150, ] - 2\n",
    "y <- c(rep(1, 150), rep(2, 50))\n",
    "dat <- data.frame(x = X, y = as.factor(y))\n",
    "plot(X, col = y, xlab = \"X1\", ylab = \"X2\") # plots the data points with different colors, y = 2 -> red , y = 1 -> black"
   ]
  },
  {
   "cell_type": "markdown",
   "metadata": {},
   "source": [
    "The two classes, 1 and 2 represented as black and red dots respectively, are not linearly separable. We split the observations randomly into a training set and a test set and use the training set to fit a model with the radial kernel."
   ]
  },
  {
   "cell_type": "code",
   "execution_count": 48,
   "metadata": {},
   "outputs": [
    {
     "data": {
      "text/plain": [
       "\n",
       "Call:\n",
       "svm(formula = y ~ ., data = dat[train, ], kernel = \"radial\", gamma = 1, \n",
       "    cost = 1)\n",
       "\n",
       "\n",
       "Parameters:\n",
       "   SVM-Type:  C-classification \n",
       " SVM-Kernel:  radial \n",
       "       cost:  1 \n",
       "\n",
       "Number of Support Vectors:  31\n",
       "\n",
       " ( 16 15 )\n",
       "\n",
       "\n",
       "Number of Classes:  2 \n",
       "\n",
       "Levels: \n",
       " 1 2\n",
       "\n",
       "\n"
      ]
     },
     "metadata": {},
     "output_type": "display_data"
    },
    {
     "data": {
      "image/png": "[encoded data removed]",
      "text/plain": [
       "Plot with title \"SVM classification plot\""
      ]
     },
     "metadata": {},
     "output_type": "display_data"
    }
   ],
   "source": [
    "train <- sample(200, 100) # create a sample of 100 integers from a set that ranges from 1 to 200 (each with probability 1/200)\n",
    "svmfit <- svm(y ~ ., data = dat[train, ], kernel = \"radial\", gamma = 1, cost = 1)\n",
    "summary(svmfit)\n",
    "plot(svmfit, dat[train, ])"
   ]
  },
  {
   "cell_type": "markdown",
   "metadata": {},
   "source": [
    "We now train different non-linear support vector machines using the radial kernel with different values of the gamma parameter and of the cost parameter. As we saw before, the higher is the value of the cost, the larger is the margin and the more data points are allowed to be between the margin and the decision boundary. The gamma parameter weights the distance of a data point from a training observation. A large value of the gama parameter decreases the relevance of observations that are far from the training data points, in other words, the kernel is more localized. In particular we try 5 values for the cost and 5 values for the gamma parameter for a total of 25 models. We use cross-validation to select the best model on the training data set."
   ]
  },
  {
   "cell_type": "code",
   "execution_count": 49,
   "metadata": {},
   "outputs": [
    {
     "data": {
      "text/plain": [
       "\n",
       "Parameter tuning of 'svm':\n",
       "\n",
       "- sampling method: 10-fold cross validation \n",
       "\n",
       "- best parameters:\n",
       " cost gamma\n",
       "    1   0.5\n",
       "\n",
       "- best performance: 0.07 \n",
       "\n",
       "- Detailed performance results:\n",
       "    cost gamma error dispersion\n",
       "1  1e-01   0.5  0.26 0.15776213\n",
       "2  1e+00   0.5  0.07 0.08232726\n",
       "3  1e+01   0.5  0.07 0.08232726\n",
       "4  1e+02   0.5  0.14 0.15055453\n",
       "5  1e+03   0.5  0.11 0.07378648\n",
       "6  1e-01   1.0  0.22 0.16193277\n",
       "7  1e+00   1.0  0.07 0.08232726\n",
       "8  1e+01   1.0  0.09 0.07378648\n",
       "9  1e+02   1.0  0.12 0.12292726\n",
       "10 1e+03   1.0  0.11 0.11005049\n",
       "11 1e-01   2.0  0.27 0.15670212\n",
       "12 1e+00   2.0  0.07 0.08232726\n",
       "13 1e+01   2.0  0.11 0.07378648\n",
       "14 1e+02   2.0  0.12 0.13165612\n",
       "15 1e+03   2.0  0.16 0.13498971\n",
       "16 1e-01   3.0  0.27 0.15670212\n",
       "17 1e+00   3.0  0.07 0.08232726\n",
       "18 1e+01   3.0  0.08 0.07888106\n",
       "19 1e+02   3.0  0.13 0.14181365\n",
       "20 1e+03   3.0  0.15 0.13540064\n",
       "21 1e-01   4.0  0.27 0.15670212\n",
       "22 1e+00   4.0  0.07 0.08232726\n",
       "23 1e+01   4.0  0.09 0.07378648\n",
       "24 1e+02   4.0  0.13 0.14181365\n",
       "25 1e+03   4.0  0.15 0.13540064\n"
      ]
     },
     "metadata": {},
     "output_type": "display_data"
    }
   ],
   "source": [
    "set.seed(1)\n",
    "cost_range <- c(0.1, 1, 10, 100, 1000)\n",
    "gamma_range <- c(0.5, 1, 2, 3, 4)\n",
    "tune.out <- tune(svm, y ~ ., data = dat[train, ], kernel = \"radial\", ranges = list(cost = cost_range, gamma = gamma_range))\n",
    "best_model <- tune.out$best.model\n",
    "summary(tune.out)"
   ]
  },
  {
   "cell_type": "markdown",
   "metadata": {},
   "source": [
    "We now use the best model to predict the class of observations in the test data set and compute the percentage of misclassifications."
   ]
  },
  {
   "cell_type": "code",
   "execution_count": 71,
   "metadata": {},
   "outputs": [
    {
     "data": {
      "text/plain": [
       "       truth\n",
       "predict  1  2\n",
       "      1 67  2\n",
       "      2 10 21"
      ]
     },
     "metadata": {},
     "output_type": "display_data"
    },
    {
     "data": {
      "text/html": [
       "12"
      ],
      "text/latex": [
       "12"
      ],
      "text/markdown": [
       "12"
      ],
      "text/plain": [
       "[1] 12"
      ]
     },
     "metadata": {},
     "output_type": "display_data"
    }
   ],
   "source": [
    "Xtest <- X[-train, ]\n",
    "ytest <- y[-train]\n",
    "testdat <- data.frame(x = Xtest, y = as.factor(ytest))\n",
    "ypred <- predict(best_model, testdat)\n",
    "t <- table(predict = ypred, truth = testdat$y) # truth-prediction table \n",
    "t\n",
    "(1 - (t[1,1] + t[2,2]) / 100) * 100 # percentage of misclassified data points"
   ]
  },
  {
   "cell_type": "markdown",
   "metadata": {},
   "source": [
    "### 9.6.3 ROC Curves"
   ]
  },
  {
   "cell_type": "code",
   "execution_count": 72,
   "metadata": {},
   "outputs": [],
   "source": [
    "library(ROCR)\n",
    "rocplot <- function(pred, truth, ...) {\n",
    "   predob <- prediction(pred, truth)\n",
    "   perf <- performance(predob, \"fpr\", \"tpr\") \n",
    "   plot(perf,...)\n",
    "}"
   ]
  },
  {
   "cell_type": "code",
   "execution_count": 86,
   "metadata": {},
   "outputs": [
    {
     "data": {
      "image/png": "[encoded data removed]",
      "text/plain": [
       "Plot with title \"Training Data\""
      ]
     },
     "metadata": {},
     "output_type": "display_data"
    }
   ],
   "source": [
    "svmfit.opt <- svm(y ~ ., data = dat[train, ], kernel = \"radial\", gamma = 2, cost = 1, decision.values = TRUE)\n",
    "fitted <- attributes(predict(svmfit.opt,dat[train, ], decision.values = TRUE))$decision.values\n",
    "#par(mfrow = c(1,2))\n",
    "rocplot(fitted, dat[train,\"y\"], main = \"Training Data\")"
   ]
  },
  {
   "cell_type": "code",
   "execution_count": 82,
   "metadata": {},
   "outputs": [
    {
     "data": {
      "image/png": "[encoded data removed]",
      "text/plain": [
       "Plot with title \"Test Data\""
      ]
     },
     "metadata": {},
     "output_type": "display_data"
    }
   ],
   "source": [
    "fitted <- attributes(predict(svmfit.opt,dat[-train, ], decision.values = TRUE))$decision.values\n",
    "rocplot(fitted, dat[-train,\"y\"], main = \"Test Data\")"
   ]
  },
  {
   "cell_type": "markdown",
   "metadata": {},
   "source": [
    "If we increase the value of gamma, e.g. to 50, we will see that the function will fit perfectly the training data but it will be less accurate with the test data."
   ]
  },
  {
   "cell_type": "code",
   "execution_count": null,
   "metadata": {},
   "outputs": [],
   "source": []
  }
 ],
 "metadata": {
  "kernelspec": {
   "display_name": "R",
   "language": "R",
   "name": "ir"
  },
  "language_info": {
   "codemirror_mode": "r",
   "file_extension": ".r",
   "mimetype": "text/x-r-source",
   "name": "R",
   "pygments_lexer": "r",
   "version": "3.6.1"
  }
 },
 "nbformat": 4,
 "nbformat_minor": 4
}
