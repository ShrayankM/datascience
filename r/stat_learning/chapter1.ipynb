{
 "cells": [
  {
   "cell_type": "markdown",
   "metadata": {},
   "source": [
    "# An Introduction to Statistical Learning\n",
    "This is a collection of Jupyter notebooks from the course [Statistical Learning](https://courses.edx.org/courses/course-v1:StanfordOnline+STATSX0001+1T2020/course/) taught by Prof. Trevor Hastie and Prof. Robert Tibshirani, offered by StanfordOnline on the edX platform. The course is based on the book [An Introduction to Statistical Learning with Applications in R](http://faculty.marshall.usc.edu/gareth-james/ISL/code.html) by James Gareth et al.. The notebooks are based on the Lab exercises that are at the end of each chapter in the book. The programming language is R. Each notebook begins with a short summary of the topics discussed in the online course and in the related chapters in the book, and then proceeds with the exercises. I wrote these notebooks because I think that writing helps in clarifying the subject discussed. I hope that my summaries of the chapters still make sense and will help to remind me quickly the material learned. \n",
    "\n",
    "2. [Statistical Learning](chapter2.ipynb)\n",
    "3. [Linear Regression](chapter3.ipynb)\n",
    "4. [Classification](chapter4.ipynb)\n",
    "5. [Resampling Methods](chapter5.ipynb)\n",
    "6. [Linear Model Selection and Regularization](chapter6.ipynb)\n",
    "7. [Moving Beyond Linearity](chapter7.ipynb)\n",
    "8. [Three-Based Methods](chapter8.ipynb)\n",
    "9. [Support Vector Machines](chapter9.ipynb)\n",
    "10. [Unsupervised Learning](chapter10.ipynb)"
   ]
  },
  {
   "cell_type": "code",
   "execution_count": null,
   "metadata": {},
   "outputs": [],
   "source": []
  }
 ],
 "metadata": {
  "kernelspec": {
   "display_name": "R",
   "language": "R",
   "name": "ir"
  },
  "language_info": {
   "codemirror_mode": "r",
   "file_extension": ".r",
   "mimetype": "text/x-r-source",
   "name": "R",
   "pygments_lexer": "r",
   "version": "3.6.1"
  }
 },
 "nbformat": 4,
 "nbformat_minor": 4
}
