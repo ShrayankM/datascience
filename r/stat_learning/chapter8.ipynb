{
 "cells": [
  {
   "cell_type": "markdown",
   "metadata": {},
   "source": [
    "# Chapter - 8 Tree-Based Methods\n",
    "The topics of this chapter are\n",
    "\n",
    "- Decision trees for regression and classification\n",
    "- Cost complexity pruning\n",
    "- Random forests\n",
    "- Boosting\n",
    "\n",
    "Five packages are used in the examples of this chapter: ISLR, tree, randomForest, MASS, gbm."
   ]
  },
  {
   "cell_type": "markdown",
   "metadata": {},
   "source": [
    "### Regression Trees\n",
    "The main idea here is to split the predictors' space in such a way that the residual sum of squares (RSS) is minimized. For example let's suppose the response variable Y depends on two predictors $X_1$ and $X_2$. We start with $X_1$ to see which is the value $x_1 = s$ that splits the predictors' space in two boxes $R_1$ and $R_2$ for which some observations fall in $R_1$ and the rest fall in $R_2$ so that  \n",
    "\n",
    "$$RSS = \\sum_{j=1}^J \\sum_{x_i \\in R_j} (y_i - \\hat{y}_{R_j})^2$$"
   ]
  },
  {
   "cell_type": "markdown",
   "metadata": {},
   "source": [
    "is minimized, and where where $\\hat{y}_{R_j}$ is the mean response in the $R_j$ box. The next step is to look for the value $x_2 = s$ that results in the minimum value for RSS. We choose the predictor to split depending on which will result in the lowest RSS, in other words we split the predictor that has higher variance. We repeat again the same steps till we reach a stopping criterion such as a minimum number of observations in each box. The training phase consists of finding the splitting rules that minimize the residual sum of squares.  "
   ]
  },
  {
   "cell_type": "markdown",
   "metadata": {},
   "source": [
    "### Classification Trees\n",
    "The prediction, in case of a categorical predictor, is the most likely category for that predictor. We cannot use RSS to estimate the error in predicting the response for categorical predictors. As an alternative to estimate the error in making binary decisions over a categorical predictor we can use the classification error rate, that is the fraction of observations that do not belong to the most common class in a given box. As an example we consider a bag of marbles with 64 red marbles and 36 blue marbles. We can have a tree with a node \"color\" so that if a marble taken from the bag is red we follow the branch to the red box and if the marble is blue we follow the branch to the blue box. The classification error rate for the \"color\" node that we want to minimize is defined as\n",
    "\n",
    "$$E = 1 - max(\\hat p_{red}, \\hat p_{blue})$$\n",
    "\n",
    "where $\\hat p_{red}$ is the proportion of red marbles and $\\hat p_{blue}$ is the proportion of blue marbles"
   ]
  },
  {
   "cell_type": "code",
   "execution_count": 2,
   "metadata": {},
   "outputs": [
    {
     "data": {
      "text/html": [
       "0.36"
      ],
      "text/latex": [
       "0.36"
      ],
      "text/markdown": [
       "0.36"
      ],
      "text/plain": [
       "[1] 0.36"
      ]
     },
     "metadata": {},
     "output_type": "display_data"
    }
   ],
   "source": [
    "red_marbles <- 64\n",
    "blue_marbles <- 36\n",
    "p_red_box <- red_marbles / (red_marbles + blue_marbles)\n",
    "p_blue_box <- blue_marbles / (red_marbles + blue_marbles)\n",
    "error_rate <- 1 - max(p_red_box, p_blue_box)\n",
    "error_rate"
   ]
  },
  {
   "cell_type": "markdown",
   "metadata": {},
   "source": [
    "Other measures of misclassification are the Gini index\n",
    "\n",
    "$$G = \\sum_{k=1}^K \\hat p_{mk} (1 - \\hat p_{mk})$$"
   ]
  },
  {
   "cell_type": "markdown",
   "metadata": {},
   "source": [
    "where in our example m is the node, color, and K = 2 is the number of categories, blue and red."
   ]
  },
  {
   "cell_type": "code",
   "execution_count": 3,
   "metadata": {},
   "outputs": [
    {
     "data": {
      "text/html": [
       "0.4608"
      ],
      "text/latex": [
       "0.4608"
      ],
      "text/markdown": [
       "0.4608"
      ],
      "text/plain": [
       "[1] 0.4608"
      ]
     },
     "metadata": {},
     "output_type": "display_data"
    }
   ],
   "source": [
    "gini_index <- p_red_box * (1 - p_red_box) + p_blue_box * (1 - p_blue_box)\n",
    "gini_index"
   ]
  },
  {
   "cell_type": "markdown",
   "metadata": {},
   "source": [
    "and the cross entropy\n",
    "\n",
    "$$D = - \\sum_{k=1}^K \\hat p_{mk} log(\\hat p_{mk})$$"
   ]
  },
  {
   "cell_type": "code",
   "execution_count": 4,
   "metadata": {},
   "outputs": [
    {
     "data": {
      "text/html": [
       "0.653418194793702"
      ],
      "text/latex": [
       "0.653418194793702"
      ],
      "text/markdown": [
       "0.653418194793702"
      ],
      "text/plain": [
       "[1] 0.6534182"
      ]
     },
     "metadata": {},
     "output_type": "display_data"
    }
   ],
   "source": [
    "cross_entropy <- - (p_red_box * log(p_red_box) + p_blue_box * log(p_blue_box))\n",
    "cross_entropy"
   ]
  },
  {
   "cell_type": "markdown",
   "metadata": {},
   "source": [
    "### 8.3.1 Fitting Classification Trees\n",
    "In this example we want to figure out how sales of child car seats are going in different stores depending on some statistics about the population, the location, advertising and other paramenters. We use the Carseats data set from the ISLR package. "
   ]
  },
  {
   "cell_type": "code",
   "execution_count": 6,
   "metadata": {},
   "outputs": [
    {
     "data": {
      "text/html": [
       "<ol class=list-inline>\n",
       "\t<li>'Sales'</li>\n",
       "\t<li>'CompPrice'</li>\n",
       "\t<li>'Income'</li>\n",
       "\t<li>'Advertising'</li>\n",
       "\t<li>'Population'</li>\n",
       "\t<li>'Price'</li>\n",
       "\t<li>'ShelveLoc'</li>\n",
       "\t<li>'Age'</li>\n",
       "\t<li>'Education'</li>\n",
       "\t<li>'Urban'</li>\n",
       "\t<li>'US'</li>\n",
       "</ol>\n"
      ],
      "text/latex": [
       "\\begin{enumerate*}\n",
       "\\item 'Sales'\n",
       "\\item 'CompPrice'\n",
       "\\item 'Income'\n",
       "\\item 'Advertising'\n",
       "\\item 'Population'\n",
       "\\item 'Price'\n",
       "\\item 'ShelveLoc'\n",
       "\\item 'Age'\n",
       "\\item 'Education'\n",
       "\\item 'Urban'\n",
       "\\item 'US'\n",
       "\\end{enumerate*}\n"
      ],
      "text/markdown": [
       "1. 'Sales'\n",
       "2. 'CompPrice'\n",
       "3. 'Income'\n",
       "4. 'Advertising'\n",
       "5. 'Population'\n",
       "6. 'Price'\n",
       "7. 'ShelveLoc'\n",
       "8. 'Age'\n",
       "9. 'Education'\n",
       "10. 'Urban'\n",
       "11. 'US'\n",
       "\n",
       "\n"
      ],
      "text/plain": [
       " [1] \"Sales\"       \"CompPrice\"   \"Income\"      \"Advertising\" \"Population\" \n",
       " [6] \"Price\"       \"ShelveLoc\"   \"Age\"         \"Education\"   \"Urban\"      \n",
       "[11] \"US\"         "
      ]
     },
     "metadata": {},
     "output_type": "display_data"
    },
    {
     "data": {
      "text/html": [
       "<ol class=list-inline>\n",
       "\t<li>400</li>\n",
       "\t<li>11</li>\n",
       "</ol>\n"
      ],
      "text/latex": [
       "\\begin{enumerate*}\n",
       "\\item 400\n",
       "\\item 11\n",
       "\\end{enumerate*}\n"
      ],
      "text/markdown": [
       "1. 400\n",
       "2. 11\n",
       "\n",
       "\n"
      ],
      "text/plain": [
       "[1] 400  11"
      ]
     },
     "metadata": {},
     "output_type": "display_data"
    }
   ],
   "source": [
    "library(tree)\n",
    "library(ISLR)\n",
    "names(Carseats); dim(Carseats)"
   ]
  },
  {
   "cell_type": "markdown",
   "metadata": {},
   "source": [
    "We add a new binary field 'High' from 'Sales' to distinguish the stores that have sold more than 8 seats. We train a tree to predict whether sales will exceed the threshold or not, using all the predictors in the Carseats data set but Sales."
   ]
  },
  {
   "cell_type": "code",
   "execution_count": 7,
   "metadata": {},
   "outputs": [
    {
     "data": {
      "text/plain": [
       "\n",
       "Classification tree:\n",
       "tree(formula = High ~ . - Sales, data = Carseats)\n",
       "Variables actually used in tree construction:\n",
       "[1] \"ShelveLoc\"   \"Price\"       \"Income\"      \"CompPrice\"   \"Population\" \n",
       "[6] \"Advertising\" \"Age\"         \"US\"         \n",
       "Number of terminal nodes:  27 \n",
       "Residual mean deviance:  0.4575 = 170.7 / 373 \n",
       "Misclassification error rate: 0.09 = 36 / 400 "
      ]
     },
     "metadata": {},
     "output_type": "display_data"
    }
   ],
   "source": [
    "High <- ifelse(Carseats$Sales <= 8, \"No\", \"Yes\")\n",
    "Carseats <- data.frame(Carseats, High)\n",
    "tree.carseats <- tree(High ~ . - Sales, data = Carseats) # fits the tree using all the predictors but Sales\n",
    "summary(tree.carseats)"
   ]
  },
  {
   "cell_type": "markdown",
   "metadata": {},
   "source": [
    "We can see from the summary of the fit the misclassification error rate, the number of stores that have been misclassified by the rules of the tree. The misclassification error rate here has been estimated from the same data set used for the training so it might not be reliable on new data."
   ]
  },
  {
   "cell_type": "code",
   "execution_count": 8,
   "metadata": {},
   "outputs": [
    {
     "data": {
      "image/png": "[encoded data removed]",
      "text/plain": [
       "plot without title"
      ]
     },
     "metadata": {},
     "output_type": "display_data"
    }
   ],
   "source": [
    "plot(tree.carseats)\n",
    "text(tree.carseats, pretty = 0, cex= 0.5)"
   ]
  },
  {
   "cell_type": "markdown",
   "metadata": {},
   "source": [
    "Now we split the data set into a training set and a test set, then we re-train the tree on the training data set, we make predictions on the test set and we find out how many predictions are misclassified."
   ]
  },
  {
   "cell_type": "code",
   "execution_count": 9,
   "metadata": {},
   "outputs": [],
   "source": [
    "set.seed(2)\n",
    "train <- sample(1:nrow(Carseats), 200) # random sample of 200 rows from Carseats\n",
    "Carseats.test <- Carseats[-train, ] # creates the test set removing the train set from the data set\n",
    "High.test <- High[-train] # same for High field\n",
    "tree.carseats <- tree(High ~ . - Sales, data = Carseats, subset = train)\n",
    "tree.pred <- predict(tree.carseats, Carseats.test, type = \"class\") # returns the class prediction\n",
    "t <- table(tree.pred, High.test)"
   ]
  },
  {
   "cell_type": "markdown",
   "metadata": {},
   "source": [
    "The right predictions are in the diagonal so the misclassifications are off the diagonal. "
   ]
  },
  {
   "cell_type": "code",
   "execution_count": 10,
   "metadata": {},
   "outputs": [
    {
     "data": {
      "text/html": [
       "0.23"
      ],
      "text/latex": [
       "0.23"
      ],
      "text/markdown": [
       "0.23"
      ],
      "text/plain": [
       "[1] 0.23"
      ]
     },
     "metadata": {},
     "output_type": "display_data"
    }
   ],
   "source": [
    "(t[1,2] + t[2,1]) / 200 "
   ]
  },
  {
   "cell_type": "markdown",
   "metadata": {},
   "source": [
    " As expected, the misclassification error rate on the test set is higher than on the trainining set that we saw before."
   ]
  },
  {
   "cell_type": "markdown",
   "metadata": {},
   "source": [
    "#### Cost complexity pruning\n",
    "The tree built so far uses almost all the predictors and ends up in many leaves that may lead to overfitting the trainining set and to higher variance in the test set. It is also not very easy to understand, so we might want to remove some of the splits. We can use the same approach used in the lasso for regularization, that is, adding a term to the RSS that penalizes the number of leaves through a cost complexity parameter $k$ to be tuned using cross-validation so that the expression to be minimized becomes\n",
    "\n",
    "$$\\sum_{m=1}^{|T|} \\sum_{x_i \\in R_m} (y_i - \\hat{y}_{R_m})^2 + k|T|$$\n",
    "\n",
    "where |T| is the number of leaves. The function cv.tree() from the 'tree' package performs all these steps."
   ]
  },
  {
   "cell_type": "code",
   "execution_count": 11,
   "metadata": {},
   "outputs": [
    {
     "data": {
      "text/html": [
       "<ol class=list-inline>\n",
       "\t<li>'size'</li>\n",
       "\t<li>'dev'</li>\n",
       "\t<li>'k'</li>\n",
       "\t<li>'method'</li>\n",
       "</ol>\n"
      ],
      "text/latex": [
       "\\begin{enumerate*}\n",
       "\\item 'size'\n",
       "\\item 'dev'\n",
       "\\item 'k'\n",
       "\\item 'method'\n",
       "\\end{enumerate*}\n"
      ],
      "text/markdown": [
       "1. 'size'\n",
       "2. 'dev'\n",
       "3. 'k'\n",
       "4. 'method'\n",
       "\n",
       "\n"
      ],
      "text/plain": [
       "[1] \"size\"   \"dev\"    \"k\"      \"method\""
      ]
     },
     "metadata": {},
     "output_type": "display_data"
    },
    {
     "data": {
      "text/plain": [
       "$size\n",
       "[1] 21 19 14  9  8  5  3  2  1\n",
       "\n",
       "$dev\n",
       "[1] 74 76 81 81 75 77 78 85 81\n",
       "\n",
       "$k\n",
       "[1] -Inf  0.0  1.0  1.4  2.0  3.0  4.0  9.0 18.0\n",
       "\n",
       "$method\n",
       "[1] \"misclass\"\n",
       "\n",
       "attr(,\"class\")\n",
       "[1] \"prune\"         \"tree.sequence\""
      ]
     },
     "metadata": {},
     "output_type": "display_data"
    }
   ],
   "source": [
    "set.seed(3)\n",
    "cv.carseats <- cv.tree(tree.carseats, FUN = prune.misclass)  # cross-validation with cost complexity pruning\n",
    "names(cv.carseats)\n",
    "cv.carseats"
   ]
  },
  {
   "cell_type": "markdown",
   "metadata": {},
   "source": [
    "We plot the cross-validation error rate of the trees as function of the number of leaves and the tuning parameter k."
   ]
  },
  {
   "cell_type": "code",
   "execution_count": 12,
   "metadata": {},
   "outputs": [
    {
     "data": {
      "image/png": "[encoded data removed]",
      "text/plain": [
       "plot without title"
      ]
     },
     "metadata": {},
     "output_type": "display_data"
    }
   ],
   "source": [
    "par(mfrow = c(1, 2))\n",
    "plot(cv.carseats$size, cv.carseats$dev, type = \"b\", xlab = \"Leaves\", ylab = \"Cross-Validation Error Rate\") \n",
    "plot(cv.carseats$k, cv.carseats$dev, type = \"b\", xlab = \"k\", ylab = \"Cross-Validation Error Rate\")"
   ]
  },
  {
   "cell_type": "markdown",
   "metadata": {},
   "source": [
    "We plot the tree that corresponds to the best fit from cross-validation "
   ]
  },
  {
   "cell_type": "code",
   "execution_count": 13,
   "metadata": {},
   "outputs": [
    {
     "data": {
      "image/png": "[encoded data removed]",
      "text/plain": [
       "plot without title"
      ]
     },
     "metadata": {},
     "output_type": "display_data"
    }
   ],
   "source": [
    "prune.carseats <- prune.misclass(tree.carseats, best = 9) # prunes the tree with best number of leaves\n",
    "plot(prune.carseats)\n",
    "text(prune.carseats, pretty = 0, cex = 0.5)"
   ]
  },
  {
   "cell_type": "code",
   "execution_count": 14,
   "metadata": {},
   "outputs": [
    {
     "data": {
      "text/html": [
       "0.225"
      ],
      "text/latex": [
       "0.225"
      ],
      "text/markdown": [
       "0.225"
      ],
      "text/plain": [
       "[1] 0.225"
      ]
     },
     "metadata": {},
     "output_type": "display_data"
    }
   ],
   "source": [
    "tree.pred <- predict(prune.carseats, Carseats.test, type = \"class\")\n",
    "t <- table(tree.pred, High.test)\n",
    "(t[1,2] + t[2,1]) / 200"
   ]
  },
  {
   "cell_type": "markdown",
   "metadata": {},
   "source": [
    "The misclassification is slightly lower than without pruning and the tree is easier to interpret."
   ]
  },
  {
   "cell_type": "markdown",
   "metadata": {},
   "source": [
    "### 8.3.2 Fitting Regression Tree\n",
    "As an example about fitting a regression tree we use the Boston data set, from the 'MASS' package, that is about housing values in suburbs of Boston. We train a tree using half of the observations to predict the medium value of homes (medv)."
   ]
  },
  {
   "cell_type": "code",
   "execution_count": 16,
   "metadata": {},
   "outputs": [
    {
     "data": {
      "text/plain": [
       "\n",
       "Regression tree:\n",
       "tree(formula = medv ~ ., data = Boston, subset = train)\n",
       "Variables actually used in tree construction:\n",
       "[1] \"rm\"    \"lstat\" \"crim\"  \"age\"  \n",
       "Number of terminal nodes:  7 \n",
       "Residual mean deviance:  10.38 = 2555 / 246 \n",
       "Distribution of residuals:\n",
       "    Min.  1st Qu.   Median     Mean  3rd Qu.     Max. \n",
       "-10.1800  -1.7770  -0.1775   0.0000   1.9230  16.5800 "
      ]
     },
     "metadata": {},
     "output_type": "display_data"
    }
   ],
   "source": [
    "library(MASS)\n",
    "set.seed(1)\n",
    "train <- sample(1:nrow(Boston), nrow(Boston) / 2)\n",
    "tree.boston <- tree(medv ~ ., data = Boston, subset = train)\n",
    "summary(tree.boston)"
   ]
  },
  {
   "cell_type": "markdown",
   "metadata": {},
   "source": [
    "The deviance represents the residual sum of squares (RSS)"
   ]
  },
  {
   "cell_type": "code",
   "execution_count": 17,
   "metadata": {},
   "outputs": [
    {
     "data": {
      "image/png": "[encoded data removed]",
      "text/plain": [
       "plot without title"
      ]
     },
     "metadata": {},
     "output_type": "display_data"
    }
   ],
   "source": [
    "plot(tree.boston)\n",
    "text(tree.boston, pretty = 0, cex = 0.5)"
   ]
  },
  {
   "cell_type": "markdown",
   "metadata": {},
   "source": [
    "Now we use the cross-validation techniques with cost complexity pruning"
   ]
  },
  {
   "cell_type": "code",
   "execution_count": 18,
   "metadata": {},
   "outputs": [
    {
     "data": {
      "image/png": "[encoded data removed]",
      "text/plain": [
       "plot without title"
      ]
     },
     "metadata": {},
     "output_type": "display_data"
    }
   ],
   "source": [
    "cv.boston <- cv.tree(tree.boston)\n",
    "plot(cv.boston$size, cv.boston$dev, type = \"b\", xlab = \"Leaves\", ylab = \"Cross-Validation Error Rate\")"
   ]
  },
  {
   "cell_type": "markdown",
   "metadata": {},
   "source": [
    "We prune the tree setting the (best) number of terminal nodes (leaves) to the one with lower cross validation error rate."
   ]
  },
  {
   "cell_type": "code",
   "execution_count": 19,
   "metadata": {},
   "outputs": [
    {
     "data": {
      "image/png": "[encoded data removed]",
      "text/plain": [
       "plot without title"
      ]
     },
     "metadata": {},
     "output_type": "display_data"
    }
   ],
   "source": [
    "prune.boston <- prune.tree(tree.boston, best = 5)\n",
    "plot(prune.boston)\n",
    "text(prune.boston, pretty = 0, cex = 0.5)"
   ]
  },
  {
   "cell_type": "markdown",
   "metadata": {},
   "source": [
    "We can use the un-pruned tree to make prediction on the test set and compute the mean squared error."
   ]
  },
  {
   "cell_type": "code",
   "execution_count": 20,
   "metadata": {},
   "outputs": [
    {
     "data": {
      "text/html": [
       "35.2868818594623"
      ],
      "text/latex": [
       "35.2868818594623"
      ],
      "text/markdown": [
       "35.2868818594623"
      ],
      "text/plain": [
       "[1] 35.28688"
      ]
     },
     "metadata": {},
     "output_type": "display_data"
    },
    {
     "data": {
      "image/png": "[encoded data removed]",
      "text/plain": [
       "plot without title"
      ]
     },
     "metadata": {},
     "output_type": "display_data"
    }
   ],
   "source": [
    "yhat <- predict(tree.boston, newdata = Boston[-train, ]) # make predictions on the test set using the un-pruned fit\n",
    "boston.test <- Boston[-train, \"medv\"] # select the field \"medv\" of the test set\n",
    "plot(yhat, boston.test, xlab = \"predictions\", ylab = \"y\")\n",
    "abline(0, 1)\n",
    "mean((yhat - boston.test)^2) # mean squared error on the test set"
   ]
  },
  {
   "cell_type": "markdown",
   "metadata": {},
   "source": [
    "### 8.3.3 Bagging and Random Forests\n",
    "A general-purpose technique to reduce variance is to averaging the responses from many different trees. More precisely the idea is to use the bootstrap to randomly sample new data sets from the original one, fit a model with each of the sample and then use all the models to estimate the average response.   \n",
    "\n",
    "$$y_{avg} = \\frac{1}{B} \\sum_{b=1}^B \\hat f^b(x)$$\n",
    "\n",
    "where B is the number of bootstrap samples taken from the original data set and $\\hat f^b(x)$ is the prediction of the model fit using the $b^{th}$ bootstrap sample.\n",
    "\n",
    "As an example we use again the Boston data set and the randomForest package to do the bagging. "
   ]
  },
  {
   "cell_type": "code",
   "execution_count": 28,
   "metadata": {},
   "outputs": [
    {
     "data": {
      "text/plain": [
       "\n",
       "Call:\n",
       " randomForest(formula = medv ~ ., data = Boston, mtry = 13, importance = TRUE,      subset = train) \n",
       "               Type of random forest: regression\n",
       "                     Number of trees: 500\n",
       "No. of variables tried at each split: 13\n",
       "\n",
       "          Mean of squared residuals: 11.39601\n",
       "                    % Var explained: 85.17"
      ]
     },
     "metadata": {},
     "output_type": "display_data"
    }
   ],
   "source": [
    "library(randomForest)\n",
    "set.seed(1)\n",
    "bag.boston <- randomForest(medv ~ ., data = Boston, subset = train, mtry = 13, importance = TRUE) # considers all 13 predictors\n",
    "bag.boston"
   ]
  },
  {
   "cell_type": "code",
   "execution_count": 22,
   "metadata": {},
   "outputs": [
    {
     "data": {
      "text/html": [
       "23.5927297079061"
      ],
      "text/latex": [
       "23.5927297079061"
      ],
      "text/markdown": [
       "23.5927297079061"
      ],
      "text/plain": [
       "[1] 23.59273"
      ]
     },
     "metadata": {},
     "output_type": "display_data"
    },
    {
     "data": {
      "image/png": "[encoded data removed]",
      "text/plain": [
       "plot without title"
      ]
     },
     "metadata": {},
     "output_type": "display_data"
    }
   ],
   "source": [
    "yhat.bag <- predict(bag.boston, newdata = Boston[-train, ])\n",
    "plot(yhat.bag, boston.test, xlab = \"predictions\", ylab = \"y\")\n",
    "abline(0, 1)\n",
    "mean((yhat.bag - boston.test)^2) # mean squared error on the test set"
   ]
  },
  {
   "cell_type": "markdown",
   "metadata": {},
   "source": [
    "As we can see, the mean squared error on the test set is significantly lower than with a single tree, and the predictions are very well aligned with the observations."
   ]
  },
  {
   "cell_type": "markdown",
   "metadata": {},
   "source": [
    "Bagging is a special case of Random forest in which all the $p$ predictors are used. We compute now the mean squared error using random forest, that is setting the number of predictors $m$ to use for each tree to a value below $p$. "
   ]
  },
  {
   "cell_type": "code",
   "execution_count": 23,
   "metadata": {},
   "outputs": [
    {
     "data": {
      "text/html": [
       "19.6202073910648"
      ],
      "text/latex": [
       "19.6202073910648"
      ],
      "text/markdown": [
       "19.6202073910648"
      ],
      "text/plain": [
       "[1] 19.62021"
      ]
     },
     "metadata": {},
     "output_type": "display_data"
    }
   ],
   "source": [
    "set.seed(1)\n",
    "rf.boston <- randomForest(medv ~ ., data = Boston, subset = train, mtry = 6, importance = TRUE) # uses 6 predictors \n",
    "yhat.rf <- predict(rf.boston, newdata = Boston[-train, ])\n",
    "mean((yhat.rf -boston.test)^2)"
   ]
  },
  {
   "cell_type": "markdown",
   "metadata": {},
   "source": [
    "Random forest is significantly better than bagging. Probably reducing the number of predictors removes some variance due to correlations."
   ]
  },
  {
   "cell_type": "markdown",
   "metadata": {},
   "source": [
    "We can see which predictors are most relevant for the accuracy, those that when they are removed from the tree, the MSE increases according to the value in the list."
   ]
  },
  {
   "cell_type": "code",
   "execution_count": 24,
   "metadata": {},
   "outputs": [
    {
     "data": {
      "text/html": [
       "<table>\n",
       "<thead><tr><th></th><th scope=col>%IncMSE</th></tr></thead>\n",
       "<tbody>\n",
       "\t<tr><th scope=row>crim</th><td>16.697017</td></tr>\n",
       "\t<tr><th scope=row>zn</th><td> 3.625784</td></tr>\n",
       "\t<tr><th scope=row>indus</th><td> 4.968621</td></tr>\n",
       "\t<tr><th scope=row>chas</th><td> 1.061432</td></tr>\n",
       "\t<tr><th scope=row>nox</th><td>13.518179</td></tr>\n",
       "\t<tr><th scope=row>rm</th><td>32.343305</td></tr>\n",
       "\t<tr><th scope=row>age</th><td>13.272498</td></tr>\n",
       "\t<tr><th scope=row>dis</th><td> 9.032477</td></tr>\n",
       "\t<tr><th scope=row>rad</th><td> 2.878434</td></tr>\n",
       "\t<tr><th scope=row>tax</th><td> 9.118801</td></tr>\n",
       "\t<tr><th scope=row>ptratio</th><td> 8.467062</td></tr>\n",
       "\t<tr><th scope=row>black</th><td> 7.579482</td></tr>\n",
       "\t<tr><th scope=row>lstat</th><td>27.129817</td></tr>\n",
       "</tbody>\n",
       "</table>\n"
      ],
      "text/latex": [
       "\\begin{tabular}{r|l}\n",
       "  & \\%IncMSE\\\\\n",
       "\\hline\n",
       "\tcrim & 16.697017\\\\\n",
       "\tzn &  3.625784\\\\\n",
       "\tindus &  4.968621\\\\\n",
       "\tchas &  1.061432\\\\\n",
       "\tnox & 13.518179\\\\\n",
       "\trm & 32.343305\\\\\n",
       "\tage & 13.272498\\\\\n",
       "\tdis &  9.032477\\\\\n",
       "\trad &  2.878434\\\\\n",
       "\ttax &  9.118801\\\\\n",
       "\tptratio &  8.467062\\\\\n",
       "\tblack &  7.579482\\\\\n",
       "\tlstat & 27.129817\\\\\n",
       "\\end{tabular}\n"
      ],
      "text/markdown": [
       "\n",
       "| <!--/--> | %IncMSE |\n",
       "|---|---|\n",
       "| crim | 16.697017 |\n",
       "| zn |  3.625784 |\n",
       "| indus |  4.968621 |\n",
       "| chas |  1.061432 |\n",
       "| nox | 13.518179 |\n",
       "| rm | 32.343305 |\n",
       "| age | 13.272498 |\n",
       "| dis |  9.032477 |\n",
       "| rad |  2.878434 |\n",
       "| tax |  9.118801 |\n",
       "| ptratio |  8.467062 |\n",
       "| black |  7.579482 |\n",
       "| lstat | 27.129817 |\n",
       "\n"
      ],
      "text/plain": [
       "        %IncMSE  \n",
       "crim    16.697017\n",
       "zn       3.625784\n",
       "indus    4.968621\n",
       "chas     1.061432\n",
       "nox     13.518179\n",
       "rm      32.343305\n",
       "age     13.272498\n",
       "dis      9.032477\n",
       "rad      2.878434\n",
       "tax      9.118801\n",
       "ptratio  8.467062\n",
       "black    7.579482\n",
       "lstat   27.129817"
      ]
     },
     "metadata": {},
     "output_type": "display_data"
    }
   ],
   "source": [
    "importance(rf.boston, type = 1) # importance by mean squared error decrease"
   ]
  },
  {
   "cell_type": "markdown",
   "metadata": {},
   "source": [
    "### 8.3.4 Boosting\n",
    "Like random forests, boosting consists of combining a large number of decision trees, fit using random bootstrap samples of the original data set, but the trees are fit using the residuals and fine tuned through a regularization parameter."
   ]
  },
  {
   "cell_type": "code",
   "execution_count": 26,
   "metadata": {},
   "outputs": [
    {
     "data": {
      "text/html": [
       "<table>\n",
       "<thead><tr><th></th><th scope=col>var</th><th scope=col>rel.inf</th></tr></thead>\n",
       "<tbody>\n",
       "\t<tr><th scope=row>rm</th><td>rm         </td><td>43.74026120</td></tr>\n",
       "\t<tr><th scope=row>lstat</th><td>lstat      </td><td>33.20732994</td></tr>\n",
       "\t<tr><th scope=row>dis</th><td>dis        </td><td> 4.73173269</td></tr>\n",
       "\t<tr><th scope=row>crim</th><td>crim       </td><td> 3.98025407</td></tr>\n",
       "\t<tr><th scope=row>age</th><td>age        </td><td> 2.88223796</td></tr>\n",
       "\t<tr><th scope=row>nox</th><td>nox        </td><td> 2.87429627</td></tr>\n",
       "\t<tr><th scope=row>black</th><td>black      </td><td> 2.70379743</td></tr>\n",
       "\t<tr><th scope=row>ptratio</th><td>ptratio    </td><td> 2.50586171</td></tr>\n",
       "\t<tr><th scope=row>tax</th><td>tax        </td><td> 1.67262086</td></tr>\n",
       "\t<tr><th scope=row>indus</th><td>indus      </td><td> 0.85966837</td></tr>\n",
       "\t<tr><th scope=row>rad</th><td>rad        </td><td> 0.68213659</td></tr>\n",
       "\t<tr><th scope=row>zn</th><td>zn         </td><td> 0.11606046</td></tr>\n",
       "\t<tr><th scope=row>chas</th><td>chas       </td><td> 0.04374246</td></tr>\n",
       "</tbody>\n",
       "</table>\n"
      ],
      "text/latex": [
       "\\begin{tabular}{r|ll}\n",
       "  & var & rel.inf\\\\\n",
       "\\hline\n",
       "\trm & rm          & 43.74026120\\\\\n",
       "\tlstat & lstat       & 33.20732994\\\\\n",
       "\tdis & dis         &  4.73173269\\\\\n",
       "\tcrim & crim        &  3.98025407\\\\\n",
       "\tage & age         &  2.88223796\\\\\n",
       "\tnox & nox         &  2.87429627\\\\\n",
       "\tblack & black       &  2.70379743\\\\\n",
       "\tptratio & ptratio     &  2.50586171\\\\\n",
       "\ttax & tax         &  1.67262086\\\\\n",
       "\tindus & indus       &  0.85966837\\\\\n",
       "\trad & rad         &  0.68213659\\\\\n",
       "\tzn & zn          &  0.11606046\\\\\n",
       "\tchas & chas        &  0.04374246\\\\\n",
       "\\end{tabular}\n"
      ],
      "text/markdown": [
       "\n",
       "| <!--/--> | var | rel.inf |\n",
       "|---|---|---|\n",
       "| rm | rm          | 43.74026120 |\n",
       "| lstat | lstat       | 33.20732994 |\n",
       "| dis | dis         |  4.73173269 |\n",
       "| crim | crim        |  3.98025407 |\n",
       "| age | age         |  2.88223796 |\n",
       "| nox | nox         |  2.87429627 |\n",
       "| black | black       |  2.70379743 |\n",
       "| ptratio | ptratio     |  2.50586171 |\n",
       "| tax | tax         |  1.67262086 |\n",
       "| indus | indus       |  0.85966837 |\n",
       "| rad | rad         |  0.68213659 |\n",
       "| zn | zn          |  0.11606046 |\n",
       "| chas | chas        |  0.04374246 |\n",
       "\n"
      ],
      "text/plain": [
       "        var     rel.inf    \n",
       "rm      rm      43.74026120\n",
       "lstat   lstat   33.20732994\n",
       "dis     dis      4.73173269\n",
       "crim    crim     3.98025407\n",
       "age     age      2.88223796\n",
       "nox     nox      2.87429627\n",
       "black   black    2.70379743\n",
       "ptratio ptratio  2.50586171\n",
       "tax     tax      1.67262086\n",
       "indus   indus    0.85966837\n",
       "rad     rad      0.68213659\n",
       "zn      zn       0.11606046\n",
       "chas    chas     0.04374246"
      ]
     },
     "metadata": {},
     "output_type": "display_data"
    },
    {
     "data": {
      "image/png": "[encoded data removed]",
      "text/plain": [
       "plot without title"
      ]
     },
     "metadata": {},
     "output_type": "display_data"
    }
   ],
   "source": [
    "library(gbm)\n",
    "set.seed(1)\n",
    "boost.boston <- gbm(medv ~ ., data = Boston[train, ], distribution = \"gaussian\", n.trees = 5000, \n",
    "                    interaction.depth = 4, shrinkage = 0.02 )\n",
    "summary(boost.boston)"
   ]
  },
  {
   "cell_type": "markdown",
   "metadata": {},
   "source": [
    "We compute the mean squared error on the test set"
   ]
  },
  {
   "cell_type": "code",
   "execution_count": 27,
   "metadata": {},
   "outputs": [
    {
     "data": {
      "text/html": [
       "17.5374848302418"
      ],
      "text/latex": [
       "17.5374848302418"
      ],
      "text/markdown": [
       "17.5374848302418"
      ],
      "text/plain": [
       "[1] 17.53748"
      ]
     },
     "metadata": {},
     "output_type": "display_data"
    }
   ],
   "source": [
    "yhat.boost <- predict(boost.boston, newdata = Boston[-train, ], n.trees = 5000)\n",
    "mean((yhat.boost - boston.test)^2)"
   ]
  },
  {
   "cell_type": "markdown",
   "metadata": {},
   "source": [
    "The accuracy can be better than using random forests if we set the shrinkage parameter carefully."
   ]
  },
  {
   "cell_type": "code",
   "execution_count": null,
   "metadata": {},
   "outputs": [],
   "source": []
  }
 ],
 "metadata": {
  "kernelspec": {
   "display_name": "R",
   "language": "R",
   "name": "ir"
  },
  "language_info": {
   "codemirror_mode": "r",
   "file_extension": ".r",
   "mimetype": "text/x-r-source",
   "name": "R",
   "pygments_lexer": "r",
   "version": "3.6.1"
  }
 },
 "nbformat": 4,
 "nbformat_minor": 4
}
