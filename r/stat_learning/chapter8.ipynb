{
 "cells": [
  {
   "cell_type": "markdown",
   "metadata": {},
   "source": [
    "# Chapter - 8 Tree-Based Methods"
   ]
  },
  {
   "cell_type": "markdown",
   "metadata": {},
   "source": [
    "### Regression Trees\n",
    "The main idea here is to split the predictors' space in such a way that the residual sum of squares (RSS) is minimized. For example let's suppose the response variable Y depends on two predictors $X_1$ and $X_2$. We start with $X_1$ to see which is the value $x_1 = s$ that splits the predictors' space in two boxes $R_1$ and $R_2$ for which some observations fall in $R_1$ and the rest fall in $R_2$ so that  \n",
    "\n",
    "$$RSS = \\sum_{j=1}^J \\sum_{x_i \\in R_j} (y_i - \\hat{y}_{R_j})^2$$"
   ]
  },
  {
   "cell_type": "markdown",
   "metadata": {},
   "source": [
    "is minimized, and where where $\\hat{y}_{R_j}$ is the mean response in the $R_j$ box. The next step is to look for the value $x_2 = s$ that results in the minimum value for RSS. We choose the predictor to split to split depending on which of the two has the lowest RSS. We repeat again the same steps till we reach a stopping criterion such as a minimum number of observations in each box. "
   ]
  },
  {
   "cell_type": "markdown",
   "metadata": {},
   "source": [
    "### Classification Trees\n",
    "The prediction, in case of a categorical predictor, is the most likely category for that predictor. We cannot use RSS to estimate the error in predicting the response for categorical predictors. As an alternative to estimate the error in making binary decisions over a categorical predictor we can use the classification error rate, that is the fraction of observations that do not belong to the most common class in a given box. As an example we consider a bag of marbles with 64 red marbles and 36 blue marbles. We can have a tree with a node \"color\" so that if a marble taken from the bag is red we follow the branch to the red box and if the marble is blue we follow the branch to the blue box. The classification error rate for the \"color\" node that we want to minimize is defined as\n",
    "\n",
    "$$E = 1 - max(\\hat p_{red}, \\hat p_{blue})$$\n",
    "\n",
    "where $\\hat p_{red}$ is the proportion of red marbles and $\\hat p_{blue}$ is the proportion of blue marbles"
   ]
  },
  {
   "cell_type": "code",
   "execution_count": 6,
   "metadata": {},
   "outputs": [
    {
     "data": {
      "text/html": [
       "0.36"
      ],
      "text/latex": [
       "0.36"
      ],
      "text/markdown": [
       "0.36"
      ],
      "text/plain": [
       "[1] 0.36"
      ]
     },
     "metadata": {},
     "output_type": "display_data"
    }
   ],
   "source": [
    "red_marbles <- 64\n",
    "blue_marbles <- 36\n",
    "p_red_box <- red_marbles / (red_marbles + blue_marbles)\n",
    "p_blue_box <- blue_marbles / (red_marbles + blue_marbles)\n",
    "error_rate <- 1 - max(p_red_box, p_blue_box)\n",
    "error_rate"
   ]
  },
  {
   "cell_type": "markdown",
   "metadata": {},
   "source": [
    "Other measures of misclassification are the Gini index\n",
    "\n",
    "$$G = \\sum_{k=1}^K \\hat p_{mk} (1 - \\hat p_{mk})$$"
   ]
  },
  {
   "cell_type": "markdown",
   "metadata": {},
   "source": [
    "where in our example m is the node, color, and K = 2 is the number of categories, blue and red."
   ]
  },
  {
   "cell_type": "code",
   "execution_count": 2,
   "metadata": {},
   "outputs": [
    {
     "data": {
      "text/html": [
       "0.4608"
      ],
      "text/latex": [
       "0.4608"
      ],
      "text/markdown": [
       "0.4608"
      ],
      "text/plain": [
       "[1] 0.4608"
      ]
     },
     "metadata": {},
     "output_type": "display_data"
    }
   ],
   "source": [
    "gini_index <- p_red_box * (1 - p_red_box) + p_blue_box * (1 - p_blue_box)\n",
    "gini_index"
   ]
  },
  {
   "cell_type": "markdown",
   "metadata": {},
   "source": [
    "and the cross entropy\n",
    "\n",
    "$$D = - \\sum_{k=1}^K \\hat p_{mk} log(\\hat p_{mk})$$"
   ]
  },
  {
   "cell_type": "code",
   "execution_count": 4,
   "metadata": {},
   "outputs": [
    {
     "data": {
      "text/html": [
       "0.653418194793702"
      ],
      "text/latex": [
       "0.653418194793702"
      ],
      "text/markdown": [
       "0.653418194793702"
      ],
      "text/plain": [
       "[1] 0.6534182"
      ]
     },
     "metadata": {},
     "output_type": "display_data"
    }
   ],
   "source": [
    "cross_entropy <- - (p_red_box * log(p_red_box) + p_blue_box * log(p_blue_box))\n",
    "cross_entropy"
   ]
  },
  {
   "cell_type": "code",
   "execution_count": null,
   "metadata": {},
   "outputs": [],
   "source": []
  }
 ],
 "metadata": {
  "kernelspec": {
   "display_name": "R",
   "language": "R",
   "name": "ir"
  },
  "language_info": {
   "codemirror_mode": "r",
   "file_extension": ".r",
   "mimetype": "text/x-r-source",
   "name": "R",
   "pygments_lexer": "r",
   "version": "3.6.1"
  }
 },
 "nbformat": 4,
 "nbformat_minor": 4
}
