{
 "cells": [
  {
   "cell_type": "markdown",
   "metadata": {},
   "source": [
    "# Chapter 6 - Linear Model Selection and Regularization\n",
    "\n",
    "When we build a model we can use many predictors but we may not know in advance which predictor is more relevant for the predictions we are interested in. There are three approaches to select the models and the predictors: subset selection, shrinkage, also known as regularization, and dimension reduction."
   ]
  },
  {
   "cell_type": "markdown",
   "metadata": {},
   "source": [
    "## Subset selection\n",
    "Subset selection consists of sistematically trying all the predictors, adding or removing them and then comparing the accuracy of all of the resulting models, for example by comparing their residual sum of squares (RSS) on the full available data set \n",
    "\n",
    "$$RSS = \\sum_{i=1}^{n}(y_i - \\hat{f}(x_i))^2$$\n",
    "\n",
    "where\n",
    "\n",
    "$$\\hat{f}(x_1,..,x_p) = \\beta_0 + \\sum_{j=1}^{p} \\beta_j x_j$$\n",
    "\n",
    "or with other techniques such as the [Akaike Information Criterion](https://en.wikipedia.org/wiki/Akaike_information_criterion) that allows to adjust the accuracy of models, taking into account the number of observations, the number of predictors, their variances."
   ]
  },
  {
   "cell_type": "markdown",
   "metadata": {},
   "source": [
    "### 6.5.1 Best Subset Selection\n",
    "We use the 'Hitters' data set from the ISLR package to show how to implement the best subset selection method. The goal is to predict the salary of a baseball player from a set of predictors."
   ]
  },
  {
   "cell_type": "code",
   "execution_count": 3,
   "metadata": {},
   "outputs": [
    {
     "data": {
      "text/html": [
       "<ol class=list-inline>\n",
       "\t<li>'AtBat'</li>\n",
       "\t<li>'Hits'</li>\n",
       "\t<li>'HmRun'</li>\n",
       "\t<li>'Runs'</li>\n",
       "\t<li>'RBI'</li>\n",
       "\t<li>'Walks'</li>\n",
       "\t<li>'Years'</li>\n",
       "\t<li>'CAtBat'</li>\n",
       "\t<li>'CHits'</li>\n",
       "\t<li>'CHmRun'</li>\n",
       "\t<li>'CRuns'</li>\n",
       "\t<li>'CRBI'</li>\n",
       "\t<li>'CWalks'</li>\n",
       "\t<li>'League'</li>\n",
       "\t<li>'Division'</li>\n",
       "\t<li>'PutOuts'</li>\n",
       "\t<li>'Assists'</li>\n",
       "\t<li>'Errors'</li>\n",
       "\t<li>'Salary'</li>\n",
       "\t<li>'NewLeague'</li>\n",
       "</ol>\n"
      ],
      "text/latex": [
       "\\begin{enumerate*}\n",
       "\\item 'AtBat'\n",
       "\\item 'Hits'\n",
       "\\item 'HmRun'\n",
       "\\item 'Runs'\n",
       "\\item 'RBI'\n",
       "\\item 'Walks'\n",
       "\\item 'Years'\n",
       "\\item 'CAtBat'\n",
       "\\item 'CHits'\n",
       "\\item 'CHmRun'\n",
       "\\item 'CRuns'\n",
       "\\item 'CRBI'\n",
       "\\item 'CWalks'\n",
       "\\item 'League'\n",
       "\\item 'Division'\n",
       "\\item 'PutOuts'\n",
       "\\item 'Assists'\n",
       "\\item 'Errors'\n",
       "\\item 'Salary'\n",
       "\\item 'NewLeague'\n",
       "\\end{enumerate*}\n"
      ],
      "text/markdown": [
       "1. 'AtBat'\n",
       "2. 'Hits'\n",
       "3. 'HmRun'\n",
       "4. 'Runs'\n",
       "5. 'RBI'\n",
       "6. 'Walks'\n",
       "7. 'Years'\n",
       "8. 'CAtBat'\n",
       "9. 'CHits'\n",
       "10. 'CHmRun'\n",
       "11. 'CRuns'\n",
       "12. 'CRBI'\n",
       "13. 'CWalks'\n",
       "14. 'League'\n",
       "15. 'Division'\n",
       "16. 'PutOuts'\n",
       "17. 'Assists'\n",
       "18. 'Errors'\n",
       "19. 'Salary'\n",
       "20. 'NewLeague'\n",
       "\n",
       "\n"
      ],
      "text/plain": [
       " [1] \"AtBat\"     \"Hits\"      \"HmRun\"     \"Runs\"      \"RBI\"       \"Walks\"    \n",
       " [7] \"Years\"     \"CAtBat\"    \"CHits\"     \"CHmRun\"    \"CRuns\"     \"CRBI\"     \n",
       "[13] \"CWalks\"    \"League\"    \"Division\"  \"PutOuts\"   \"Assists\"   \"Errors\"   \n",
       "[19] \"Salary\"    \"NewLeague\""
      ]
     },
     "metadata": {},
     "output_type": "display_data"
    },
    {
     "data": {
      "text/html": [
       "<ol class=list-inline>\n",
       "\t<li>263</li>\n",
       "\t<li>20</li>\n",
       "</ol>\n"
      ],
      "text/latex": [
       "\\begin{enumerate*}\n",
       "\\item 263\n",
       "\\item 20\n",
       "\\end{enumerate*}\n"
      ],
      "text/markdown": [
       "1. 263\n",
       "2. 20\n",
       "\n",
       "\n"
      ],
      "text/plain": [
       "[1] 263  20"
      ]
     },
     "metadata": {},
     "output_type": "display_data"
    }
   ],
   "source": [
    "library(ISLR)\n",
    "names(Hitters)\n",
    "Hitters <- na.omit(Hitters) # remove all rows with missing value for any observations\n",
    "dim(Hitters)"
   ]
  },
  {
   "cell_type": "markdown",
   "metadata": {},
   "source": [
    "We start by fitting models containing only one predictor and selecting the one that has the best accuracy, e.g. lowest RSS. We repeat the procedure by fitting the models that can be built with two predictors and so forth till the last model built with all the predictors. The last step is the selection of the model with the best accuracy among all the best models fitted with a sub set of the predictors. The total number of models fitted with this method is $2^p$, where p is the total number of predictors. We can use dfferent statistics to compute the accuracy of the models and to select the best one: RSS, $C_p$, $R^2$, AIC, BIC. If all the available observations are used to train the model, the RSS is unlikely to provide a reliable value of the accuracy for new observations. All the statistics adjust the result obtained from the RSS. Another method is to train the models and compute its accuracy using two different subsets of the observations as in the validation set or the cross-validation approach. All these steps, model selection and accuracy estimation, are implemented in the regsubsets() function of the 'leaps' R library. "
   ]
  },
  {
   "cell_type": "code",
   "execution_count": 7,
   "metadata": {},
   "outputs": [
    {
     "data": {
      "text/html": [
       "<ol class=list-inline>\n",
       "\t<li>36179679.2550418</li>\n",
       "\t<li>30646559.8903729</li>\n",
       "\t<li>29249296.8558673</li>\n",
       "\t<li>27970851.8158163</li>\n",
       "\t<li>27149899.4320115</li>\n",
       "\t<li>26194903.9275952</li>\n",
       "\t<li>25906547.5006238</li>\n",
       "\t<li>25136929.9389601</li>\n",
       "\t<li>24814051.3865869</li>\n",
       "\t<li>24500401.5377396</li>\n",
       "\t<li>24387345.0514399</li>\n",
       "\t<li>24333232.3792723</li>\n",
       "\t<li>24289147.8382415</li>\n",
       "\t<li>24248660.392792</li>\n",
       "\t<li>24235177.3552208</li>\n",
       "\t<li>24219377.4729298</li>\n",
       "\t<li>24209446.756639</li>\n",
       "\t<li>24201837.3586359</li>\n",
       "\t<li>24200699.5516628</li>\n",
       "</ol>\n"
      ],
      "text/latex": [
       "\\begin{enumerate*}\n",
       "\\item 36179679.2550418\n",
       "\\item 30646559.8903729\n",
       "\\item 29249296.8558673\n",
       "\\item 27970851.8158163\n",
       "\\item 27149899.4320115\n",
       "\\item 26194903.9275952\n",
       "\\item 25906547.5006238\n",
       "\\item 25136929.9389601\n",
       "\\item 24814051.3865869\n",
       "\\item 24500401.5377396\n",
       "\\item 24387345.0514399\n",
       "\\item 24333232.3792723\n",
       "\\item 24289147.8382415\n",
       "\\item 24248660.392792\n",
       "\\item 24235177.3552208\n",
       "\\item 24219377.4729298\n",
       "\\item 24209446.756639\n",
       "\\item 24201837.3586359\n",
       "\\item 24200699.5516628\n",
       "\\end{enumerate*}\n"
      ],
      "text/markdown": [
       "1. 36179679.2550418\n",
       "2. 30646559.8903729\n",
       "3. 29249296.8558673\n",
       "4. 27970851.8158163\n",
       "5. 27149899.4320115\n",
       "6. 26194903.9275952\n",
       "7. 25906547.5006238\n",
       "8. 25136929.9389601\n",
       "9. 24814051.3865869\n",
       "10. 24500401.5377396\n",
       "11. 24387345.0514399\n",
       "12. 24333232.3792723\n",
       "13. 24289147.8382415\n",
       "14. 24248660.392792\n",
       "15. 24235177.3552208\n",
       "16. 24219377.4729298\n",
       "17. 24209446.756639\n",
       "18. 24201837.3586359\n",
       "19. 24200699.5516628\n",
       "\n",
       "\n"
      ],
      "text/plain": [
       " [1] 36179679 30646560 29249297 27970852 27149899 26194904 25906548 25136930\n",
       " [9] 24814051 24500402 24387345 24333232 24289148 24248660 24235177 24219377\n",
       "[17] 24209447 24201837 24200700"
      ]
     },
     "metadata": {},
     "output_type": "display_data"
    }
   ],
   "source": [
    "library(leaps)\n",
    "regfit.full <- regsubsets(Salary ~ ., data = Hitters, nvmax = 19, method = \"exhaustive\")\n",
    "reg.summary <- summary(regfit.full)\n",
    "reg.summary$rss "
   ]
  },
  {
   "cell_type": "markdown",
   "metadata": {},
   "source": [
    "We plot the adjusted $R^2$ value of the best models with each number of predictor and the point with the highest adjusted $R^2$ value."
   ]
  },
  {
   "cell_type": "code",
   "execution_count": 11,
   "metadata": {},
   "outputs": [
    {
     "data": {
      "image/png": "[encoded data removed]",
      "text/plain": [
       "plot without title"
      ]
     },
     "metadata": {},
     "output_type": "display_data"
    }
   ],
   "source": [
    "#par(mfrow=c(2,2))\n",
    "plot(reg.summary$adjr2, xlab = \"Number of predictors\", ylab = \"R^2\", type = \"l\")\n",
    "maxR2 <- which.max(reg.summary$adjr2)\n",
    "points(maxR2, reg.summary$adjr2[maxR2], col = \"red\", cex = 2, pch = 20)"
   ]
  },
  {
   "cell_type": "markdown",
   "metadata": {},
   "source": [
    "We can see the variables that are used in the best models with each number of predictors. "
   ]
  },
  {
   "cell_type": "code",
   "execution_count": 9,
   "metadata": {},
   "outputs": [
    {
     "data": {
      "image/png": "[encoded data removed]",
      "text/plain": [
       "plot without title"
      ]
     },
     "metadata": {},
     "output_type": "display_data"
    }
   ],
   "source": [
    "plot(regfit.full, scale = \"r2\")"
   ]
  },
  {
   "cell_type": "markdown",
   "metadata": {},
   "source": [
    "### 6.5.2 Forward and Backward Stepwise Selection\n",
    "The best subset selection model is computationally infeasable when the number of predictors is large. In forward and backward selection methods we try to limit the number of models. In forward selection we first fit a model for each predictor, then we select the best one and we repeat the operation using the predictor selected in the previous step and another one to see whether a model with two predictors has a better accuracy. The procedure is repeated till the last model with all the p predictors. The procedure for the backward selection model is similar but it starts by fitting a model with all the predictors, then the model with all but one predictors and so forth. The number of models fitted for both methods is $1 + \\frac{p(p + 1)}{2}$."
   ]
  },
  {
   "cell_type": "markdown",
   "metadata": {},
   "source": [
    "We can see the predictors used in each of the best model. For example 'CRBI' is the predictor used for the best 1-predictor model. "
   ]
  },
  {
   "cell_type": "code",
   "execution_count": 10,
   "metadata": {},
   "outputs": [
    {
     "data": {
      "image/png": "[encoded data removed]",
      "text/plain": [
       "plot without title"
      ]
     },
     "metadata": {},
     "output_type": "display_data"
    }
   ],
   "source": [
    "regfit.fwd <- regsubsets(Salary ~ ., data = Hitters, nvmax = 19, method = \"forward\")\n",
    "plot(regfit.fwd, scale = \"r2\")"
   ]
  },
  {
   "cell_type": "markdown",
   "metadata": {},
   "source": [
    "### 6.5.3 Choosing Among Models Using the Validation Set Approach and Cross-Validation\n",
    "So far we have used all the available observations to train a model and compute its residual sum of squares (RSS) to estimate its accuracy. We have also used other statistics, such as $R^2$ or $C_p$, to adjust the accuracy estimate provided by the RSS. Since these statistics are not easy to compute and not always reliable we can use the validation set approach and its variants instead. First we split the observations into a training set and a test set, then we fit our linear models using the best subset selection method with the training set.  "
   ]
  },
  {
   "cell_type": "code",
   "execution_count": 19,
   "metadata": {},
   "outputs": [],
   "source": [
    "set.seed(1)\n",
    "train <- sample(c(TRUE, FALSE), nrow(Hitters), replace = TRUE) # extracts a random set of binary values with replacement\n",
    "test <- ! train\n",
    "regfit.best <- regsubsets(Salary ~ ., data = Hitters[train, ], nvmax = 19, method = \"exhaustive\") # best subset selection"
   ]
  },
  {
   "cell_type": "markdown",
   "metadata": {},
   "source": [
    "At this point, as a result of the best subset selection method, we have a vector of the best model of each model size built using only one predictors up to the complete set of predictors. We can now compute the predictions on the test set and the mean squared errors of each model so that we will be able to select the one with the lowest error. "
   ]
  },
  {
   "cell_type": "code",
   "execution_count": 14,
   "metadata": {},
   "outputs": [],
   "source": [
    "test.mat <- model.matrix(Salary ~ ., data = Hitters[test, ]) # creates a matrix of the data\n",
    "val.errors <- rep(NA, 19) # initializes the errors vector\n",
    "for (i in 1:19) {\n",
    "    coef_i <- coefficients(regfit.best, id = i)\n",
    "    prediction <- test.mat[, names(coef_i)] %*% coef_i # matrix multiplication\n",
    "    val.errors[i] <- mean((Hitters$Salary[test] - prediction)^2)\n",
    "}"
   ]
  },
  {
   "cell_type": "markdown",
   "metadata": {},
   "source": [
    "We select the model with the lowest mean squared error on the test set."
   ]
  },
  {
   "cell_type": "code",
   "execution_count": 15,
   "metadata": {},
   "outputs": [
    {
     "data": {
      "text/html": [
       "<dl class=dl-horizontal>\n",
       "\t<dt>(Intercept)</dt>\n",
       "\t\t<dd>67.1085369123294</dd>\n",
       "\t<dt>AtBat</dt>\n",
       "\t\t<dd>-2.14629867457481</dd>\n",
       "\t<dt>Hits</dt>\n",
       "\t\t<dd>7.01495467840133</dd>\n",
       "\t<dt>Walks</dt>\n",
       "\t\t<dd>8.07166403119075</dd>\n",
       "\t<dt>CRuns</dt>\n",
       "\t\t<dd>1.24251126334183</dd>\n",
       "\t<dt>CWalks</dt>\n",
       "\t\t<dd>-0.833784385185916</dd>\n",
       "\t<dt>DivisionW</dt>\n",
       "\t\t<dd>-118.436499846968</dd>\n",
       "\t<dt>PutOuts</dt>\n",
       "\t\t<dd>0.252692546543788</dd>\n",
       "</dl>\n"
      ],
      "text/latex": [
       "\\begin{description*}\n",
       "\\item[(Intercept)] 67.1085369123294\n",
       "\\item[AtBat] -2.14629867457481\n",
       "\\item[Hits] 7.01495467840133\n",
       "\\item[Walks] 8.07166403119075\n",
       "\\item[CRuns] 1.24251126334183\n",
       "\\item[CWalks] -0.833784385185916\n",
       "\\item[DivisionW] -118.436499846968\n",
       "\\item[PutOuts] 0.252692546543788\n",
       "\\end{description*}\n"
      ],
      "text/markdown": [
       "(Intercept)\n",
       ":   67.1085369123294AtBat\n",
       ":   -2.14629867457481Hits\n",
       ":   7.01495467840133Walks\n",
       ":   8.07166403119075CRuns\n",
       ":   1.24251126334183CWalks\n",
       ":   -0.833784385185916DivisionW\n",
       ":   -118.436499846968PutOuts\n",
       ":   0.252692546543788\n",
       "\n"
      ],
      "text/plain": [
       " (Intercept)        AtBat         Hits        Walks        CRuns       CWalks \n",
       "  67.1085369   -2.1462987    7.0149547    8.0716640    1.2425113   -0.8337844 \n",
       "   DivisionW      PutOuts \n",
       "-118.4364998    0.2526925 "
      ]
     },
     "metadata": {},
     "output_type": "display_data"
    }
   ],
   "source": [
    "best_model <- which.min(val.errors)\n",
    "coefficients(regfit.best, best_model)"
   ]
  },
  {
   "cell_type": "markdown",
   "metadata": {},
   "source": [
    "## Shrinkage (Regularization)\n",
    "The shrinkage method consists of putting a constrain on the values that can be bound to the parameters $\\beta_i$. Since the coefficients $\\beta_i$ in a linear model are estimated using the least squares method, by minimizing the residual sum of squares\n",
    "\n",
    "$$\\frac{\\partial RSS}{\\partial \\beta_i} = 0$$\n",
    "\n",
    "we can add a term to RSS that we can use to tune the values of $\\beta_i$ coefficients. The most common way is to add a penalty term that is the sum of the squared coefficients so that, instead of RSS, the function to be minimized is\n",
    "\n",
    "$$RSS + \\lambda \\sum_{j=1}^{p}\\beta_j^2$$\n",
    "\n",
    "We can then use the parameter $\\lambda$ to shrink the values of the coefficients towards zero. The technique of adding a term with squared coefficients to the expression to be minimized, or L2 norm of the $\\beta$ vector, is called Ridge Regression or [Tikhonov Regularization](https://en.wikipedia.org/wiki/Regularization_(mathematics)). \n",
    "\n",
    "Ridge Regression does not completely set any coefficient to zero so it cannot be used to select the predictors. Using a different penalty term, the L1 norm of the $\\beta$ vector, will force some of the coefficient to be exactly zero. The quantity to be minimized is\n",
    "\n",
    "$$RSS + \\lambda \\sum_{j=1}^{p}|\\beta_j|$$\n",
    "\n",
    "The technique is called Lasso (Least Absolute Shrinkage and Selection Operator). "
   ]
  },
  {
   "cell_type": "markdown",
   "metadata": {},
   "source": [
    "### 6.6.1 Ridge Regression"
   ]
  },
  {
   "cell_type": "markdown",
   "metadata": {},
   "source": [
    "We are going to use the glmnet library to apply the ridge regression on the Hitters data set. The function that we are going to use needs the predictors' data as an X matrix and the corresponding responses as a y vector. "
   ]
  },
  {
   "cell_type": "code",
   "execution_count": 46,
   "metadata": {},
   "outputs": [],
   "source": [
    "X <- model.matrix(Salary ~ ., data = Hitters)[, -1] # matrix of the data set without the 1st column 'Salary'\n",
    "y <- Hitters$Salary"
   ]
  },
  {
   "cell_type": "markdown",
   "metadata": {},
   "source": [
    "The ridge regression models are computed for a selected range of $\\lambda$ values. All the variables are standardized by default. The result of the ridge regression is a matrix whose columns represent the coefficients computed for each $\\lambda$ value."
   ]
  },
  {
   "cell_type": "code",
   "execution_count": 47,
   "metadata": {},
   "outputs": [
    {
     "data": {
      "text/html": [
       "<ol class=list-inline>\n",
       "\t<li>20</li>\n",
       "\t<li>100</li>\n",
       "</ol>\n"
      ],
      "text/latex": [
       "\\begin{enumerate*}\n",
       "\\item 20\n",
       "\\item 100\n",
       "\\end{enumerate*}\n"
      ],
      "text/markdown": [
       "1. 20\n",
       "2. 100\n",
       "\n",
       "\n"
      ],
      "text/plain": [
       "[1]  20 100"
      ]
     },
     "metadata": {},
     "output_type": "display_data"
    }
   ],
   "source": [
    "library(glmnet)\n",
    "grid <- 10^seq(10, -2, length = 100) # generates a sequence of 100 numbers from 10^10 to 10^-2\n",
    "ridge.mod <- glmnet(X, y, alpha = 0, lambda = grid) # alpha = 0 -> ridge regression, alpha = 1 -> Lasso\n",
    "dim(coefficients(ridge.mod))"
   ]
  },
  {
   "cell_type": "markdown",
   "metadata": {},
   "source": [
    "At this point we should compute the mean squared error (MSE) for each model that corresponds to a value of $\\lambda$ in order to find which is the lowest. As usual, in order compute the mean squared errors we need to compute the difference between the prediction for the response and the value from an observation. Moreover we want to compute the predictions and the MSE using a test set taken from the observations and not used for training the models that is use the validation set or the cross-validation methods. \n",
    "\n",
    "We create two subsets of indices. The train subset is a random sample from a vector of indices whose length is the same as the observations. We can choose the size of the train set to, e.g. half of the observations. The test set is created by removing the indices used for the train set. "
   ]
  },
  {
   "cell_type": "code",
   "execution_count": 48,
   "metadata": {},
   "outputs": [],
   "source": [
    "set.seed(1)\n",
    "train <- sample(1:nrow(X), nrow(X) / 2) \n",
    "test <- - train  # vector of indeces that will be removed from observations to be used for test\n",
    "y.test <- y[test]"
   ]
  },
  {
   "cell_type": "markdown",
   "metadata": {},
   "source": [
    "We can perform all the steps, from computing the models, the predictions and selecting the $\\lambda$ value that corresponds to the best ridge regression model with cross-validation using a function from the glmnet package "
   ]
  },
  {
   "cell_type": "code",
   "execution_count": 61,
   "metadata": {},
   "outputs": [
    {
     "data": {
      "image/png": "[encoded data removed]",
      "text/plain": [
       "plot without title"
      ]
     },
     "metadata": {},
     "output_type": "display_data"
    }
   ],
   "source": [
    "cv.out <- cv.glmnet(X[train, ], y[train], alpha = 0)\n",
    "plot(cv.out)"
   ]
  },
  {
   "cell_type": "markdown",
   "metadata": {},
   "source": [
    "The output of the cv.glmnet() function contains the value of the $\\lambda$ parameter that minimizes the ridge regression mean squared error. "
   ]
  },
  {
   "cell_type": "code",
   "execution_count": 62,
   "metadata": {},
   "outputs": [
    {
     "data": {
      "text/html": [
       "5.60108381963232"
      ],
      "text/latex": [
       "5.60108381963232"
      ],
      "text/markdown": [
       "5.60108381963232"
      ],
      "text/plain": [
       "[1] 5.601084"
      ]
     },
     "metadata": {},
     "output_type": "display_data"
    },
    {
     "data": {
      "text/html": [
       "118075.912874418"
      ],
      "text/latex": [
       "118075.912874418"
      ],
      "text/markdown": [
       "118075.912874418"
      ],
      "text/plain": [
       "[1] 118075.9"
      ]
     },
     "metadata": {},
     "output_type": "display_data"
    }
   ],
   "source": [
    "best_lambda <- cv.out$lambda.min\n",
    "ridge.pred <- predict(ridge.mod, s = best_lambda, newx = X[test, ])\n",
    "log(best_lambda); mean((ridge.pred - y.test)^2)"
   ]
  },
  {
   "cell_type": "markdown",
   "metadata": {},
   "source": [
    "Finally we re-fit the model with the best lambda parameter using all the available observations to compute the $\\beta$ coefficients of our linear model."
   ]
  },
  {
   "cell_type": "code",
   "execution_count": 74,
   "metadata": {},
   "outputs": [
    {
     "data": {
      "text/plain": [
       "20 x 1 sparse Matrix of class \"dgCMatrix\"\n",
       "                       1\n",
       "(Intercept)  11.77047053\n",
       "AtBat         0.06029316\n",
       "Hits          0.91935271\n",
       "HmRun         0.41074809\n",
       "Runs          1.08662559\n",
       "RBI           0.87798392\n",
       "Walks         1.69974717\n",
       "Years         0.87629226\n",
       "CAtBat        0.01130398\n",
       "CHits         0.06045630\n",
       "CHmRun        0.42518722\n",
       "CRuns         0.12040137\n",
       "CRBI          0.12780544\n",
       "CWalks        0.04410465\n",
       "LeagueN      24.25024864\n",
       "DivisionW   -84.65821787\n",
       "PutOuts       0.17738789\n",
       "Assists       0.03448930\n",
       "Errors       -1.55065726\n",
       "NewLeagueN    8.51484645"
      ]
     },
     "metadata": {},
     "output_type": "display_data"
    }
   ],
   "source": [
    "out <- glmnet(X, y, alpha = 0)\n",
    "predict(out, type = \"coefficients\", s = best_lambda)"
   ]
  },
  {
   "cell_type": "markdown",
   "metadata": {},
   "source": [
    "## Dimension Reduction\n",
    "This technique consists of mapping the predictors in the p-dimensional space to a subspace of dimension M < p, by finding a linear transformation of the predictors. The next step is to fit the linear model defined using the transformed M predictors. We can represent our linear model using vectors x and y, for the predictor and the response, and a diagonal matrix B for the coefficients, so that the linear model can be written as\n",
    "\n",
    "$$y = B x$$\n",
    "\n",
    "We can then define a linear transformation $\\Phi$ of the predictor \n",
    "\n",
    "$$z = \\Phi x$$\n",
    "\n",
    "We fit the linear model for the transformed predictors  \n",
    "\n",
    "$$y = \\Theta z$$\n",
    "\n",
    "and by replacing z we have\n",
    "\n",
    "$$y = \\Theta \\Phi x$$\n",
    "\n",
    "that is \n",
    "\n",
    "$$B = \\Theta \\Phi$$\n"
   ]
  },
  {
   "cell_type": "code",
   "execution_count": null,
   "metadata": {},
   "outputs": [],
   "source": []
  }
 ],
 "metadata": {
  "kernelspec": {
   "display_name": "R",
   "language": "R",
   "name": "ir"
  },
  "language_info": {
   "codemirror_mode": "r",
   "file_extension": ".r",
   "mimetype": "text/x-r-source",
   "name": "R",
   "pygments_lexer": "r",
   "version": "3.6.1"
  }
 },
 "nbformat": 4,
 "nbformat_minor": 4
}
