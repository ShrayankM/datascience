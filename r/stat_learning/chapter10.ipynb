{
 "cells": [
  {
   "cell_type": "markdown",
   "metadata": {},
   "source": [
    "# Chapter 10 - Unsupervised Learning\n",
    "The topics of this chapter are\n",
    "\n",
    "- Principal Components Analysis\n",
    "- Clustering Methods\n",
    "\n",
    "## Principal Component Analysis\n",
    "Principal Component Analysis (PCA) is a technique for unsupervised exploratory data analysis. It is used to reduce the dimensions of the observations' space so that the main components, represented as linear combinations of the original predictors, can be represented in a space of lower dimensions. If p is the number of predictors, we can represent the first principal component of the $i$th observation as \n",
    "\n",
    "$$z_{i1} = \\phi_{11}x_{i1} + \\phi_{21}x_{i2} + ... + \\phi_{p1}x_{ip}$$\n",
    "\n",
    "subject to the constraint\n",
    "\n",
    "$$\\sum_{j=1}^p \\phi_{j1}^2 = 1$$\n",
    "\n",
    "The coefficients $\\phi_{j1}$ are called loadings. We assume that all variables $x_j$ are standardized so that they have standard deviation one and mean value zero \n",
    "\n",
    "$$\\bar{x}_j = \\frac{1}{n} \\sum_{i=1}^n x_{ij} = 0$$\n",
    "\n",
    "We want the first principal component $z_{1}$ to have the largest variance\n",
    "\n",
    "$$Var(z_1) = \\frac{1}{n} \\sum_{i=1}^n (z_{i1} - \\bar{z}_1)^2$$\n",
    "\n",
    "This means that we have to maximize $Var(z_1)$. We can simplify the expression of the variance as follows\n",
    "\n",
    "$$\\bar{z}_1 = \\frac{1}{n} \\sum_{i=1}^n z_{i1} = \\frac{1}{n} \\sum_{i=1}^n \\sum_{j=1}^p \\phi_{j1} x_{ij} = \\sum_{j=1}^p \\phi_{j1} (\\frac{1}{n} \\sum_{i=1}^n x_{ij}) = \\sum_{j=1}^p \\phi_{j1} \\bar{x}_j = 0$$\n",
    "\n",
    "so that \n",
    "\n",
    "$$Var(z_1) = \\frac{1}{n} \\sum_{i=1}^n z_{i1}^2 = \\frac{1}{n} \\sum_{i=1}^n (\\sum_{j=1}^p \\phi_{j1} x_{ij})^2$$\n",
    "\n",
    "and the problem to find the coefficients $\\phi_{j1}$ that maximize the variance $Var(z_1)$ becomes\n",
    "\n",
    "$$\\frac{\\partial}{\\partial \\phi_{k1}} Var(z_1) = \\frac{2}{n} \\sum_{i=1}^n (\\sum_{j=1}^p \\phi_{j1} x_{ij}) x_{ik} = 0$$\n",
    "\n",
    "that is a system of p linear equations in $\\phi_{j1}$ that can be solved with the [singular value decomposition](https://en.wikipedia.org/wiki/Singular_value_decomposition) technique.  \n",
    "\n",
    "After we have found the first principal component, we can determine the second principal component as the direction that is orthogonal to the first principal component and that has the highest variance in this subspace, practically repeating the same procedure we have followed to compute the first principal component. A geometric interpretation of the first principal component is that it is the line that is the closest to the n observations. The first two principal components determine the plane that is the closest to the observations, and so forth. We can determine the first M < p principal components that represent the bulk of the variability of our observations. The proportion of variance captured by the $m$th principal component is represented by the ratio \n",
    "\n",
    "$$\\frac{Var(z_m)}{ \\sum_{j=1}^p Var(x_j)}$$\n"
   ]
  },
  {
   "cell_type": "markdown",
   "metadata": {},
   "source": [
    "## Clustering Methods\n",
    "There are two types of clustering methods: K-Means clustering and Hierarchical clustering. In K-Means clustering the number of clusters K must be specified in advance.\n",
    "We want the distances between observations within each cluster \n",
    "\n",
    "$$W(C_k) = \\frac{1}{|C_k|} \\sum_{i,i' \\in C_k} \\sum_{j=1}^p (x_{ij} - x_{i'j})^2$$\n",
    "\n",
    "such that\n",
    "\n",
    "$$\\sum_{k=1}^K W(C_k)$$\n",
    "\n",
    "is minimized. Each observation belongs to only one of the non-overlapping clusters.\n",
    "\n",
    "In hierarchical clustering the number of classes is not specified in advance. The process starts by assigning to each observation its own cluster and then by fusing pairs of closest clusters. The process is repeated till all clusters are fused into a single one. The process can be represented as a dendrogram, a tree-like structure that is built bottom-up from the observations to the root that represents the fusion of all the observations in one single cluster. Three linkage methods can be performed to fuse two clusters and different metrics, such as euclidean metrics and correlation, can be used to compute the dissimilarity between any two observations. It depends on the problem at hand to choose which level of the dendrogram, and as a consequence the number of clusters, is most effective in representing the structure of the observations."
   ]
  },
  {
   "cell_type": "markdown",
   "metadata": {},
   "source": [
    "### 10.4 Principal Component Analysis\n",
    "We wil perform PCA on the USArrests data set. The data set contains the number of four types of crimes in each state of the US."
   ]
  },
  {
   "cell_type": "code",
   "execution_count": 2,
   "metadata": {},
   "outputs": [
    {
     "data": {
      "text/html": [
       "<ol class=list-inline>\n",
       "\t<li>'Murder'</li>\n",
       "\t<li>'Assault'</li>\n",
       "\t<li>'UrbanPop'</li>\n",
       "\t<li>'Rape'</li>\n",
       "</ol>\n"
      ],
      "text/latex": [
       "\\begin{enumerate*}\n",
       "\\item 'Murder'\n",
       "\\item 'Assault'\n",
       "\\item 'UrbanPop'\n",
       "\\item 'Rape'\n",
       "\\end{enumerate*}\n"
      ],
      "text/markdown": [
       "1. 'Murder'\n",
       "2. 'Assault'\n",
       "3. 'UrbanPop'\n",
       "4. 'Rape'\n",
       "\n",
       "\n"
      ],
      "text/plain": [
       "[1] \"Murder\"   \"Assault\"  \"UrbanPop\" \"Rape\"    "
      ]
     },
     "metadata": {},
     "output_type": "display_data"
    },
    {
     "data": {
      "text/html": [
       "<ol class=list-inline>\n",
       "\t<li>50</li>\n",
       "\t<li>4</li>\n",
       "</ol>\n"
      ],
      "text/latex": [
       "\\begin{enumerate*}\n",
       "\\item 50\n",
       "\\item 4\n",
       "\\end{enumerate*}\n"
      ],
      "text/markdown": [
       "1. 50\n",
       "2. 4\n",
       "\n",
       "\n"
      ],
      "text/plain": [
       "[1] 50  4"
      ]
     },
     "metadata": {},
     "output_type": "display_data"
    }
   ],
   "source": [
    "names(USArrests); dim(USArrests)"
   ]
  },
  {
   "cell_type": "code",
   "execution_count": 3,
   "metadata": {},
   "outputs": [
    {
     "data": {
      "text/html": [
       "<dl class=dl-horizontal>\n",
       "\t<dt>Murder</dt>\n",
       "\t\t<dd>7.788</dd>\n",
       "\t<dt>Assault</dt>\n",
       "\t\t<dd>170.76</dd>\n",
       "\t<dt>UrbanPop</dt>\n",
       "\t\t<dd>65.54</dd>\n",
       "\t<dt>Rape</dt>\n",
       "\t\t<dd>21.232</dd>\n",
       "</dl>\n"
      ],
      "text/latex": [
       "\\begin{description*}\n",
       "\\item[Murder] 7.788\n",
       "\\item[Assault] 170.76\n",
       "\\item[UrbanPop] 65.54\n",
       "\\item[Rape] 21.232\n",
       "\\end{description*}\n"
      ],
      "text/markdown": [
       "Murder\n",
       ":   7.788Assault\n",
       ":   170.76UrbanPop\n",
       ":   65.54Rape\n",
       ":   21.232\n",
       "\n"
      ],
      "text/plain": [
       "  Murder  Assault UrbanPop     Rape \n",
       "   7.788  170.760   65.540   21.232 "
      ]
     },
     "metadata": {},
     "output_type": "display_data"
    }
   ],
   "source": [
    "apply(USArrests, 2, mean) # applies the mean() function to the columns (margin 2, 1 for rows) of the USArrests data set"
   ]
  },
  {
   "cell_type": "code",
   "execution_count": 4,
   "metadata": {},
   "outputs": [
    {
     "data": {
      "text/html": [
       "<dl class=dl-horizontal>\n",
       "\t<dt>Murder</dt>\n",
       "\t\t<dd>18.9704653061224</dd>\n",
       "\t<dt>Assault</dt>\n",
       "\t\t<dd>6945.16571428571</dd>\n",
       "\t<dt>UrbanPop</dt>\n",
       "\t\t<dd>209.518775510204</dd>\n",
       "\t<dt>Rape</dt>\n",
       "\t\t<dd>87.7291591836735</dd>\n",
       "</dl>\n"
      ],
      "text/latex": [
       "\\begin{description*}\n",
       "\\item[Murder] 18.9704653061224\n",
       "\\item[Assault] 6945.16571428571\n",
       "\\item[UrbanPop] 209.518775510204\n",
       "\\item[Rape] 87.7291591836735\n",
       "\\end{description*}\n"
      ],
      "text/markdown": [
       "Murder\n",
       ":   18.9704653061224Assault\n",
       ":   6945.16571428571UrbanPop\n",
       ":   209.518775510204Rape\n",
       ":   87.7291591836735\n",
       "\n"
      ],
      "text/plain": [
       "    Murder    Assault   UrbanPop       Rape \n",
       "  18.97047 6945.16571  209.51878   87.72916 "
      ]
     },
     "metadata": {},
     "output_type": "display_data"
    }
   ],
   "source": [
    "apply(USArrests, 2, var) # applies the var() function to compute the variance"
   ]
  },
  {
   "cell_type": "markdown",
   "metadata": {},
   "source": [
    "We see a huge difference in the values because of the different units used. We use the prcomp() to perform PCA and we set the scale argument to true to standardize the variables' standard deviation to remove the effect due to the different units of measure used for each of them. We can see the proportion of the variance captured by each principal component."
   ]
  },
  {
   "cell_type": "code",
   "execution_count": 5,
   "metadata": {},
   "outputs": [
    {
     "data": {
      "text/plain": [
       "Importance of components:\n",
       "                          PC1    PC2     PC3     PC4\n",
       "Standard deviation     1.5749 0.9949 0.59713 0.41645\n",
       "Proportion of Variance 0.6201 0.2474 0.08914 0.04336\n",
       "Cumulative Proportion  0.6201 0.8675 0.95664 1.00000"
      ]
     },
     "metadata": {},
     "output_type": "display_data"
    }
   ],
   "source": [
    "pr.out <- prcomp(USArrests, scale = TRUE)\n",
    "summary(pr.out)"
   ]
  },
  {
   "cell_type": "markdown",
   "metadata": {},
   "source": [
    "We can also see the loadings of each principal component."
   ]
  },
  {
   "cell_type": "code",
   "execution_count": 6,
   "metadata": {},
   "outputs": [
    {
     "data": {
      "text/html": [
       "<table>\n",
       "<thead><tr><th></th><th scope=col>PC1</th><th scope=col>PC2</th><th scope=col>PC3</th><th scope=col>PC4</th></tr></thead>\n",
       "<tbody>\n",
       "\t<tr><th scope=row>Murder</th><td>-0.5358995 </td><td> 0.4181809 </td><td>-0.3412327 </td><td> 0.64922780</td></tr>\n",
       "\t<tr><th scope=row>Assault</th><td>-0.5831836 </td><td> 0.1879856 </td><td>-0.2681484 </td><td>-0.74340748</td></tr>\n",
       "\t<tr><th scope=row>UrbanPop</th><td>-0.2781909 </td><td>-0.8728062 </td><td>-0.3780158 </td><td> 0.13387773</td></tr>\n",
       "\t<tr><th scope=row>Rape</th><td>-0.5434321 </td><td>-0.1673186 </td><td> 0.8177779 </td><td> 0.08902432</td></tr>\n",
       "</tbody>\n",
       "</table>\n"
      ],
      "text/latex": [
       "\\begin{tabular}{r|llll}\n",
       "  & PC1 & PC2 & PC3 & PC4\\\\\n",
       "\\hline\n",
       "\tMurder & -0.5358995  &  0.4181809  & -0.3412327  &  0.64922780\\\\\n",
       "\tAssault & -0.5831836  &  0.1879856  & -0.2681484  & -0.74340748\\\\\n",
       "\tUrbanPop & -0.2781909  & -0.8728062  & -0.3780158  &  0.13387773\\\\\n",
       "\tRape & -0.5434321  & -0.1673186  &  0.8177779  &  0.08902432\\\\\n",
       "\\end{tabular}\n"
      ],
      "text/markdown": [
       "\n",
       "| <!--/--> | PC1 | PC2 | PC3 | PC4 |\n",
       "|---|---|---|---|---|\n",
       "| Murder | -0.5358995  |  0.4181809  | -0.3412327  |  0.64922780 |\n",
       "| Assault | -0.5831836  |  0.1879856  | -0.2681484  | -0.74340748 |\n",
       "| UrbanPop | -0.2781909  | -0.8728062  | -0.3780158  |  0.13387773 |\n",
       "| Rape | -0.5434321  | -0.1673186  |  0.8177779  |  0.08902432 |\n",
       "\n"
      ],
      "text/plain": [
       "         PC1        PC2        PC3        PC4        \n",
       "Murder   -0.5358995  0.4181809 -0.3412327  0.64922780\n",
       "Assault  -0.5831836  0.1879856 -0.2681484 -0.74340748\n",
       "UrbanPop -0.2781909 -0.8728062 -0.3780158  0.13387773\n",
       "Rape     -0.5434321 -0.1673186  0.8177779  0.08902432"
      ]
     },
     "metadata": {},
     "output_type": "display_data"
    }
   ],
   "source": [
    "pr.out$rotation"
   ]
  },
  {
   "cell_type": "markdown",
   "metadata": {},
   "source": [
    "The three crimes reported equally contribute to the first principal component that can be interpreted as a predictor for crimes."
   ]
  },
  {
   "cell_type": "code",
   "execution_count": 9,
   "metadata": {},
   "outputs": [
    {
     "data": {
      "image/png": "[encoded data removed]",
      "text/plain": [
       "plot without title"
      ]
     },
     "metadata": {},
     "output_type": "display_data"
    }
   ],
   "source": [
    "pr.out$rotation <- - pr.out$rotation\n",
    "pr.out$x <- - pr.out$x\n",
    "biplot(pr.out, scale = 0, cex = 0.7)"
   ]
  },
  {
   "cell_type": "markdown",
   "metadata": {},
   "source": [
    "We now work out an exercise. We have a data set of 300 observations with 200 predictors with labes y. We have also a test set of 1000 labelled observations. We want to see whether we can use less predictors while keeping the bulk of the variance in the data. We start by loading the data, concatenating all the observations, and computing the principal components."
   ]
  },
  {
   "cell_type": "code",
   "execution_count": 96,
   "metadata": {},
   "outputs": [],
   "source": [
    "load(\"data/10.R.RData\") # we load the 300x200 'x' matrix with its labels 'y' and the 1000x200 'x.test' matrix with its labels 'y.test'\n",
    "x.bind <- rbind(x, x.test)\n",
    "pr.out <- prcomp(x.bind, scale = TRUE)"
   ]
  },
  {
   "cell_type": "markdown",
   "metadata": {},
   "source": [
    "The principal components object, pr.out, contains the standard deviations of all the 200 principal components. We want to compute the proportion of the variance of the first five principal components to see whether they capture the bulk of it. We first compute the variance, then we compute the total variance and finally we compute the proportion of the variance of the first 5 principal components. "
   ]
  },
  {
   "cell_type": "code",
   "execution_count": 97,
   "metadata": {},
   "outputs": [
    {
     "data": {
      "text/html": [
       "0.349856465332264"
      ],
      "text/latex": [
       "0.349856465332264"
      ],
      "text/markdown": [
       "0.349856465332264"
      ],
      "text/plain": [
       "[1] 0.3498565"
      ]
     },
     "metadata": {},
     "output_type": "display_data"
    }
   ],
   "source": [
    "variance <- (pr.out$sdev)^2\n",
    "total_variance <- sum(variance)\n",
    "prop_variance_5 <- sum(variance[1:5]) / total_variance\n",
    "prop_variance_5"
   ]
  },
  {
   "cell_type": "markdown",
   "metadata": {},
   "source": [
    "\n",
    "We see that 35 % of the variance is captured by the first 5 principal components. Now we want to see what could be the mean squared error on the test set if we fit a linear into the 5-dimensional space of the first five principal components. We have to map the train observation x into z using the first 5 loadings"
   ]
  },
  {
   "cell_type": "code",
   "execution_count": 126,
   "metadata": {},
   "outputs": [
    {
     "data": {
      "text/html": [
       "<ol class=list-inline>\n",
       "\t<li>1000</li>\n",
       "\t<li>5</li>\n",
       "</ol>\n"
      ],
      "text/latex": [
       "\\begin{enumerate*}\n",
       "\\item 1000\n",
       "\\item 5\n",
       "\\end{enumerate*}\n"
      ],
      "text/markdown": [
       "1. 1000\n",
       "2. 5\n",
       "\n",
       "\n"
      ],
      "text/plain": [
       "[1] 1000    5"
      ]
     },
     "metadata": {},
     "output_type": "display_data"
    }
   ],
   "source": [
    "phi_5 <- t(pr.out$rotation[, 1:5])\n",
    "x_transpose <- t(x)\n",
    "z <- t(phi_5 %*% x_transpose)\n",
    "x.test_transpose <- t(x.test)\n",
    "z.test <- t(phi_5 %*% x.test_transpose)\n",
    "dat <- data.frame(\"y\" = y, \"z\" = z)\n",
    "dim(z.test)"
   ]
  },
  {
   "cell_type": "markdown",
   "metadata": {},
   "source": [
    "Now we fit a linear model using the transformed training data and then we compute the predictions using the transformed test data such that we will be able to compute the mean squared error."
   ]
  },
  {
   "cell_type": "code",
   "execution_count": 147,
   "metadata": {},
   "outputs": [
    {
     "data": {
      "text/plain": [
       "\n",
       "Call:\n",
       "lm(formula = y ~ z, data = dat)\n",
       "\n",
       "Residuals:\n",
       "    Min      1Q  Median      3Q     Max \n",
       "-3.3004 -0.6899  0.0311  0.8082  2.5320 \n",
       "\n",
       "Coefficients:\n",
       "             Estimate Std. Error t value Pr(>|t|)    \n",
       "(Intercept)  0.101474   0.061353   1.654 0.099205 .  \n",
       "zPC1         0.057576   0.008625   6.675 1.23e-10 ***\n",
       "zPC2        -0.018521   0.010013  -1.850 0.065352 .  \n",
       "zPC3        -0.031111   0.011903  -2.614 0.009417 ** \n",
       "zPC4        -0.051695   0.017941  -2.881 0.004252 ** \n",
       "zPC5        -0.134176   0.035585  -3.771 0.000197 ***\n",
       "---\n",
       "Signif. codes:  0 '***' 0.001 '**' 0.01 '*' 0.05 '.' 0.1 ' ' 1\n",
       "\n",
       "Residual standard error: 1.056 on 294 degrees of freedom\n",
       "Multiple R-squared:  0.1912,\tAdjusted R-squared:  0.1775 \n",
       "F-statistic:  13.9 on 5 and 294 DF,  p-value: 3.341e-12\n"
      ]
     },
     "metadata": {},
     "output_type": "display_data"
    }
   ],
   "source": [
    "fit <- lm(y ~ z, data = dat)\n",
    "summary(fit)"
   ]
  },
  {
   "cell_type": "code",
   "execution_count": 143,
   "metadata": {},
   "outputs": [],
   "source": [
    "z.test_df <- data.frame(\"z\" = z.test)\n"
   ]
  },
  {
   "cell_type": "markdown",
   "metadata": {},
   "source": [
    "### 10.5.1 K-means Clustering"
   ]
  },
  {
   "cell_type": "markdown",
   "metadata": {},
   "source": [
    "We create a synthetic data set of 50 observations from a normal distribution in a two-dimensional space, then we split it apart in two groups."
   ]
  },
  {
   "cell_type": "code",
   "execution_count": 35,
   "metadata": {},
   "outputs": [
    {
     "data": {
      "image/png": "[encoded data removed]",
      "text/plain": [
       "plot without title"
      ]
     },
     "metadata": {},
     "output_type": "display_data"
    }
   ],
   "source": [
    "set.seed(2)\n",
    "x <- matrix(rnorm(50 * 2), ncol = 2)\n",
    "x[1:25, 1] <- x[1:25, 1] + 3\n",
    "x[25:50, 2] <- x[25:50, 2] - 4\n",
    "plot(x[1:25,], xlim=c(-3, 5), ylim=c(-7, 3), xlab = \"\", ylab = \"\", pch = 1, cex = 1) # plot the first group\n",
    "points(x[25:50,], pch = 19, cex = 1) # adds the 2nd group of observations "
   ]
  },
  {
   "cell_type": "markdown",
   "metadata": {},
   "source": [
    "We perform a K_means clustering with K = 2"
   ]
  },
  {
   "cell_type": "code",
   "execution_count": 38,
   "metadata": {},
   "outputs": [
    {
     "data": {
      "text/html": [
       "24"
      ],
      "text/latex": [
       "24"
      ],
      "text/markdown": [
       "24"
      ],
      "text/plain": [
       "[1] 24"
      ]
     },
     "metadata": {},
     "output_type": "display_data"
    },
    {
     "data": {
      "text/html": [
       "26"
      ],
      "text/latex": [
       "26"
      ],
      "text/markdown": [
       "26"
      ],
      "text/plain": [
       "[1] 26"
      ]
     },
     "metadata": {},
     "output_type": "display_data"
    }
   ],
   "source": [
    "km.out <- kmeans(x, 2, nstart = 20) # nstarts is the number of random cluster in which the observation are put at the beginning\n",
    "sum(km.out$cluster == 1); sum(km.out$cluster == 2) "
   ]
  },
  {
   "cell_type": "markdown",
   "metadata": {},
   "source": [
    "We can see from the plot that the observations have been correctly classified"
   ]
  },
  {
   "cell_type": "code",
   "execution_count": 39,
   "metadata": {},
   "outputs": [
    {
     "data": {
      "image/png": "[encoded data removed]",
      "text/plain": [
       "Plot with title \"K-Means Clustering Results with K = 2\""
      ]
     },
     "metadata": {},
     "output_type": "display_data"
    }
   ],
   "source": [
    "plot(x, col = (km.out$cluster + 1), main = \"K-Means Clustering Results with K = 2\", xlab = \"\", ylab = \"\", pch = 20, cex = 2)"
   ]
  },
  {
   "cell_type": "markdown",
   "metadata": {},
   "source": [
    "### 10.5.2 Hierarchical Clustering\n",
    "We use the same synthetic data set that we used for the K-means clustering. We want to plot the dendrogram produced using any of the three linkage methods available. All of them require the computation of the distance between any two observations.  The most used metrics is euclidean distance. The function dist() computes the distances between any two rows of a vector passed as argument and returns a diagonal matrix with the values that are used by the function hclust() to create the dendrogram according to the linkage method chosen."
   ]
  },
  {
   "cell_type": "code",
   "execution_count": 96,
   "metadata": {},
   "outputs": [],
   "source": [
    "distance_matrix <- dist(x)\n",
    "hc.complete <- hclust(distance_matrix, method = \"complete\")\n",
    "hc.average <- hclust(distance_matrix, method = \"average\")\n",
    "hc.single <- hclust(distance_matrix, method = \"single\")"
   ]
  },
  {
   "cell_type": "code",
   "execution_count": 97,
   "metadata": {},
   "outputs": [
    {
     "data": {
      "image/png": "[encoded data removed]",
      "text/plain": [
       "Plot with title \"Single Linkage\""
      ]
     },
     "metadata": {},
     "output_type": "display_data"
    }
   ],
   "source": [
    "par(mfrow = c(1,3))\n",
    "plot(hc.complete, main = \"Complete Linkage\", xlab = \"\", sub = \"\", cex = 0.9)\n",
    "plot(hc.average, main = \"Average Linkage\", xlab = \"\", sub = \"\", cex = 0.9)\n",
    "plot(hc.single, main = \"Single Linkage\", xlab = \"\", sub = \"\", cex = 0.9)"
   ]
  },
  {
   "cell_type": "markdown",
   "metadata": {},
   "source": [
    "We can plot the observations separated in two groups by cutting the dendrogram at a certain height, for example 8 for the dendrogram created using the \"complete\" linkage method. We can see that one observation is misclassified."
   ]
  },
  {
   "cell_type": "code",
   "execution_count": 105,
   "metadata": {},
   "outputs": [
    {
     "data": {
      "image/png": "[encoded data removed]",
      "text/plain": [
       "plot without title"
      ]
     },
     "metadata": {},
     "output_type": "display_data"
    }
   ],
   "source": [
    "plot(x, col = (cutree(hc.complete, h = 8) + 1), xlab = \"\", ylab = \"\", pch = 20, cex = 2)"
   ]
  },
  {
   "cell_type": "markdown",
   "metadata": {},
   "source": [
    "### NCI-60 Data Example\n",
    "The NCI-60 data setz contains the gene expression of 6830 genes from 64 cancer cell lines. Each cell line comes from a patient that is affected by a type of cancer. The expression of 6830 genes in each cell line has been measured using a technique called micro array.\n",
    "[paper](https://www.pnas.org/content/pnas/100/14/8418.full.pdf)"
   ]
  },
  {
   "cell_type": "code",
   "execution_count": 102,
   "metadata": {},
   "outputs": [
    {
     "data": {
      "text/html": [
       "<ol class=list-inline>\n",
       "\t<li>64</li>\n",
       "\t<li>6830</li>\n",
       "</ol>\n"
      ],
      "text/latex": [
       "\\begin{enumerate*}\n",
       "\\item 64\n",
       "\\item 6830\n",
       "\\end{enumerate*}\n"
      ],
      "text/markdown": [
       "1. 64\n",
       "2. 6830\n",
       "\n",
       "\n"
      ],
      "text/plain": [
       "[1]   64 6830"
      ]
     },
     "metadata": {},
     "output_type": "display_data"
    }
   ],
   "source": [
    "library(ISLR)\n",
    "nci.labels <- NCI60$labs\n",
    "nci.data <- NCI60$data\n",
    "dim(nci.data)"
   ]
  },
  {
   "cell_type": "markdown",
   "metadata": {},
   "source": [
    "We can see the types of cancer and the number of cell lines for each of them."
   ]
  },
  {
   "cell_type": "code",
   "execution_count": 113,
   "metadata": {},
   "outputs": [
    {
     "data": {
      "text/plain": [
       "nci.labels\n",
       "     BREAST         CNS       COLON K562A-repro K562B-repro    LEUKEMIA \n",
       "          7           5           7           1           1           6 \n",
       "MCF7A-repro MCF7D-repro    MELANOMA       NSCLC     OVARIAN    PROSTATE \n",
       "          1           1           8           9           6           2 \n",
       "      RENAL     UNKNOWN \n",
       "          9           1 "
      ]
     },
     "metadata": {},
     "output_type": "display_data"
    }
   ],
   "source": [
    "table(nci.labels)"
   ]
  },
  {
   "cell_type": "markdown",
   "metadata": {},
   "source": [
    "We perfome PCA to lower the dimension of the data"
   ]
  },
  {
   "cell_type": "code",
   "execution_count": 115,
   "metadata": {},
   "outputs": [],
   "source": [
    "Cols <- function(vec) {\n",
    "    cols <- rainbow(length(unique(vec)))\n",
    "    return(cols[as.numeric(as.factor(vec))])\n",
    "}"
   ]
  },
  {
   "cell_type": "code",
   "execution_count": 117,
   "metadata": {},
   "outputs": [
    {
     "data": {
      "image/png": "[encoded data removed]",
      "text/plain": [
       "plot without title"
      ]
     },
     "metadata": {},
     "output_type": "display_data"
    }
   ],
   "source": [
    "pr.out <- prcomp(nci.data, scale = TRUE)\n",
    "par(mfrow = c(1,2))\n",
    "plot(pr.out$x[, 1:2], col = Cols(nci.labels), pch = 19, xlab = \"Z1\", ylab = \"Z2\")\n",
    "plot(pr.out$x[, c(1,3)], col = Cols(nci.labels), pch = 19, xlab =\"Z1\", ylab = \"Z3\")"
   ]
  },
  {
   "cell_type": "code",
   "execution_count": 118,
   "metadata": {},
   "outputs": [
    {
     "data": {
      "text/plain": [
       "Importance of components:\n",
       "                           PC1      PC2      PC3      PC4      PC5      PC6\n",
       "Standard deviation     27.8535 21.48136 19.82046 17.03256 15.97181 15.72108\n",
       "Proportion of Variance  0.1136  0.06756  0.05752  0.04248  0.03735  0.03619\n",
       "Cumulative Proportion   0.1136  0.18115  0.23867  0.28115  0.31850  0.35468\n",
       "                            PC7      PC8      PC9     PC10     PC11     PC12\n",
       "Standard deviation     14.47145 13.54427 13.14400 12.73860 12.68672 12.15769\n",
       "Proportion of Variance  0.03066  0.02686  0.02529  0.02376  0.02357  0.02164\n",
       "Cumulative Proportion   0.38534  0.41220  0.43750  0.46126  0.48482  0.50646\n",
       "                           PC13     PC14     PC15     PC16     PC17     PC18\n",
       "Standard deviation     11.83019 11.62554 11.43779 11.00051 10.65666 10.48880\n",
       "Proportion of Variance  0.02049  0.01979  0.01915  0.01772  0.01663  0.01611\n",
       "Cumulative Proportion   0.52695  0.54674  0.56590  0.58361  0.60024  0.61635\n",
       "                           PC19    PC20     PC21    PC22    PC23    PC24\n",
       "Standard deviation     10.43518 10.3219 10.14608 10.0544 9.90265 9.64766\n",
       "Proportion of Variance  0.01594  0.0156  0.01507  0.0148 0.01436 0.01363\n",
       "Cumulative Proportion   0.63229  0.6479  0.66296  0.6778 0.69212 0.70575\n",
       "                          PC25    PC26    PC27   PC28    PC29    PC30    PC31\n",
       "Standard deviation     9.50764 9.33253 9.27320 9.0900 8.98117 8.75003 8.59962\n",
       "Proportion of Variance 0.01324 0.01275 0.01259 0.0121 0.01181 0.01121 0.01083\n",
       "Cumulative Proportion  0.71899 0.73174 0.74433 0.7564 0.76824 0.77945 0.79027\n",
       "                          PC32    PC33    PC34    PC35    PC36    PC37    PC38\n",
       "Standard deviation     8.44738 8.37305 8.21579 8.15731 7.97465 7.90446 7.82127\n",
       "Proportion of Variance 0.01045 0.01026 0.00988 0.00974 0.00931 0.00915 0.00896\n",
       "Cumulative Proportion  0.80072 0.81099 0.82087 0.83061 0.83992 0.84907 0.85803\n",
       "                          PC39    PC40    PC41   PC42    PC43   PC44    PC45\n",
       "Standard deviation     7.72156 7.58603 7.45619 7.3444 7.10449 7.0131 6.95839\n",
       "Proportion of Variance 0.00873 0.00843 0.00814 0.0079 0.00739 0.0072 0.00709\n",
       "Cumulative Proportion  0.86676 0.87518 0.88332 0.8912 0.89861 0.9058 0.91290\n",
       "                         PC46    PC47    PC48    PC49    PC50    PC51    PC52\n",
       "Standard deviation     6.8663 6.80744 6.64763 6.61607 6.40793 6.21984 6.20326\n",
       "Proportion of Variance 0.0069 0.00678 0.00647 0.00641 0.00601 0.00566 0.00563\n",
       "Cumulative Proportion  0.9198 0.92659 0.93306 0.93947 0.94548 0.95114 0.95678\n",
       "                          PC53    PC54    PC55    PC56    PC57   PC58    PC59\n",
       "Standard deviation     6.06706 5.91805 5.91233 5.73539 5.47261 5.2921 5.02117\n",
       "Proportion of Variance 0.00539 0.00513 0.00512 0.00482 0.00438 0.0041 0.00369\n",
       "Cumulative Proportion  0.96216 0.96729 0.97241 0.97723 0.98161 0.9857 0.98940\n",
       "                          PC60    PC61    PC62    PC63      PC64\n",
       "Standard deviation     4.68398 4.17567 4.08212 4.04124 1.237e-14\n",
       "Proportion of Variance 0.00321 0.00255 0.00244 0.00239 0.000e+00\n",
       "Cumulative Proportion  0.99262 0.99517 0.99761 1.00000 1.000e+00"
      ]
     },
     "metadata": {},
     "output_type": "display_data"
    }
   ],
   "source": [
    "summary(pr.out)"
   ]
  },
  {
   "cell_type": "code",
   "execution_count": 119,
   "metadata": {},
   "outputs": [
    {
     "data": {
      "image/png": "[encoded data removed]",
      "text/plain": [
       "Plot with title \"pr.out\""
      ]
     },
     "metadata": {},
     "output_type": "display_data"
    }
   ],
   "source": [
    "plot(pr.out)"
   ]
  },
  {
   "cell_type": "code",
   "execution_count": 121,
   "metadata": {},
   "outputs": [
    {
     "data": {
      "image/png": "[encoded data removed]",
      "text/plain": [
       "plot without title"
      ]
     },
     "metadata": {},
     "output_type": "display_data"
    }
   ],
   "source": [
    "pve <- 100 * pr.out$sdev^2 / sum(pr.out$sdev^2) # proportion of variance explained\n",
    "par(mfrow = c(1,2))\n",
    "plot(pve, type = \"o\", ylab = \"PVE\", xlab = \"Principal Component\", col = \"blue\")\n",
    "plot(cumsum(pve), type = \"o\", ylab = \"Cumulative PVE\", xlab = \"Principal Component\", col = \"brown3\")"
   ]
  },
  {
   "cell_type": "code",
   "execution_count": 126,
   "metadata": {},
   "outputs": [
    {
     "data": {
      "image/png": "[encoded data removed]",
      "text/plain": [
       "Plot with title \"Complete Linkage\""
      ]
     },
     "metadata": {},
     "output_type": "display_data"
    }
   ],
   "source": [
    "sd.data <- scale(nci.data)\n",
    "#par(mfrow = c(1,3))\n",
    "data.dist <- dist(sd.data)\n",
    "plot(hclust(data.dist), labels = nci.labels, main = \"Complete Linkage\", xlab = \"\", sub = \"\", ylab = \"\", cex = 0.7)"
   ]
  },
  {
   "cell_type": "code",
   "execution_count": 128,
   "metadata": {},
   "outputs": [
    {
     "data": {
      "text/plain": [
       "           nci.labels\n",
       "hc.clusters BREAST CNS COLON K562A-repro K562B-repro LEUKEMIA MCF7A-repro\n",
       "          1      2   3     2           0           0        0           0\n",
       "          2      3   2     0           0           0        0           0\n",
       "          3      0   0     0           1           1        6           0\n",
       "          4      2   0     5           0           0        0           1\n",
       "           nci.labels\n",
       "hc.clusters MCF7D-repro MELANOMA NSCLC OVARIAN PROSTATE RENAL UNKNOWN\n",
       "          1           0        8     8       6        2     8       1\n",
       "          2           0        0     1       0        0     1       0\n",
       "          3           0        0     0       0        0     0       0\n",
       "          4           1        0     0       0        0     0       0"
      ]
     },
     "metadata": {},
     "output_type": "display_data"
    }
   ],
   "source": [
    "hc.out <- hclust(dist(sd.data))\n",
    "hc.clusters <- cutree(hc.out, 4)\n",
    "table(hc.clusters, nci.labels)"
   ]
  },
  {
   "cell_type": "code",
   "execution_count": 130,
   "metadata": {},
   "outputs": [
    {
     "data": {
      "image/png": "[encoded data removed]",
      "text/plain": [
       "Plot with title \"Cluster Dendrogram\""
      ]
     },
     "metadata": {},
     "output_type": "display_data"
    }
   ],
   "source": [
    "par(mfrow = c(1,1))\n",
    "plot(hc.out, labels = nci.labs, cex = 0.8)\n",
    "abline(h = 139, col = \"red\")"
   ]
  },
  {
   "cell_type": "code",
   "execution_count": null,
   "metadata": {},
   "outputs": [],
   "source": []
  }
 ],
 "metadata": {
  "kernelspec": {
   "display_name": "R",
   "language": "R",
   "name": "ir"
  },
  "language_info": {
   "codemirror_mode": "r",
   "file_extension": ".r",
   "mimetype": "text/x-r-source",
   "name": "R",
   "pygments_lexer": "r",
   "version": "3.6.1"
  }
 },
 "nbformat": 4,
 "nbformat_minor": 4
}
