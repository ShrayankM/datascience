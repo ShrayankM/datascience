{
 "cells": [
  {
   "cell_type": "markdown",
   "metadata": {},
   "source": [
    "# Chapter 10 - Unsupervised Learning\n",
    "The topics of this chapter are\n",
    "\n",
    "- Principal Components Analysis\n",
    "- Clustering Methods\n",
    "\n",
    "Principal Component Analysis (PCA) is a technique for unsupervised exploratory data analysis. It is used to reduce the dimensions of the observations' space so that the main components, represented as linear combinations of the original predictors, can be represented in a space of lower dimensions. If p is the number of predictors, we can represent the first principal component of the $i^{th}$ observation as \n",
    "\n",
    "$$z_{i1} = \\phi_{11}x_{i1} + \\phi_{21}x_{i2} + ... + \\phi_{p1}x_{ip}$$\n",
    "\n",
    "subject to the constraint\n",
    "\n",
    "$$\\sum_{j=1}^p \\phi_{j1}^2 = 1$$\n",
    "\n",
    "We assume that all variables $x_j$ are standardized so that \n",
    "\n",
    "$$\\bar{x}_j = \\frac{1}{n} \\sum_{i=1}^n x_{ij} = 0$$\n",
    "\n",
    "We want the first principal component $z_{1}$ to have the largest variance\n",
    "\n",
    "$$Var(z_1) = \\frac{1}{n} \\sum_{i=1}^n (z_{i1} - \\bar{z}_1)^2$$\n",
    "\n",
    "This means that we have to maximize $Var(z_1)$. We can simplify the expression of the variance as follows\n",
    "\n",
    "$$\\bar{z}_1 = \\frac{1}{n} \\sum_{i=1}^n z_{i1} = \\frac{1}{n} \\sum_{i=1}^n \\sum_{j=1}^p \\phi_{j1} x_{ij} = \\sum_{j=1}^p \\phi_{j1} (\\frac{1}{n} \\sum_{i=1}^n x_{ij}) = \\sum_{j=1}^p \\phi_{j1} \\bar{x}_j = 0$$\n",
    "\n",
    "so that \n",
    "\n",
    "$$Var(z_1) = \\frac{1}{n} \\sum_{i=1}^n z_{i1}^2 = \\frac{1}{n} \\sum_{i=1}^n (\\sum_{j=1}^p \\phi_{j1} x_{ij})^2$$\n",
    "\n",
    "and the problem to find the coefficients $\\phi_{j1}$ that maximize the variance $Var(z_1)$ becomes\n",
    "\n",
    "$$\\frac{\\partial}{\\partial \\phi_{k1}} Var(z_1) = \\frac{2}{n} \\sum_{i=1}^n (\\sum_{j=1}^p \\phi_{j1} x_{ij}) x_{ik} = 0$$\n",
    "\n",
    "that is a system of p linear equations in $\\phi_{j1}$ that can be solved with the singular value decomposition technique."
   ]
  },
  {
   "cell_type": "code",
   "execution_count": null,
   "metadata": {},
   "outputs": [],
   "source": []
  }
 ],
 "metadata": {
  "kernelspec": {
   "display_name": "R",
   "language": "R",
   "name": "ir"
  },
  "language_info": {
   "codemirror_mode": "r",
   "file_extension": ".r",
   "mimetype": "text/x-r-source",
   "name": "R",
   "pygments_lexer": "r",
   "version": "3.6.1"
  }
 },
 "nbformat": 4,
 "nbformat_minor": 4
}
