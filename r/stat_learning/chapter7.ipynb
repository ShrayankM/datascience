{
 "cells": [
  {
   "cell_type": "markdown",
   "metadata": {},
   "source": [
    "# Chapter 7 - Moving Beyond Linearity"
   ]
  },
  {
   "cell_type": "code",
   "execution_count": 8,
   "metadata": {},
   "outputs": [
    {
     "data": {
      "text/html": [
       "<table>\n",
       "<thead><tr><th></th><th scope=col>Estimate</th><th scope=col>Std. Error</th><th scope=col>t value</th><th scope=col>Pr(&gt;|t|)</th></tr></thead>\n",
       "<tbody>\n",
       "\t<tr><th scope=row>(Intercept)</th><td>-5421.2466887</td><td>1.546580e+03 </td><td>-3.505313    </td><td>0.0006921695 </td></tr>\n",
       "\t<tr><th scope=row>poly(x, 2, raw = TRUE)1</th><td>   77.7075083</td><td>2.197402e+01 </td><td> 3.536336    </td><td>0.0006240344 </td></tr>\n",
       "\t<tr><th scope=row>poly(x, 2, raw = TRUE)2</th><td>   -0.2784125</td><td>7.805107e-02 </td><td>-3.567055    </td><td>0.0005628472 </td></tr>\n",
       "</tbody>\n",
       "</table>\n"
      ],
      "text/latex": [
       "\\begin{tabular}{r|llll}\n",
       "  & Estimate & Std. Error & t value & Pr(>\\textbar{}t\\textbar{})\\\\\n",
       "\\hline\n",
       "\t(Intercept) & -5421.2466887 & 1.546580e+03  & -3.505313     & 0.0006921695 \\\\\n",
       "\tpoly(x, 2, raw = TRUE)1 &    77.7075083 & 2.197402e+01  &  3.536336     & 0.0006240344 \\\\\n",
       "\tpoly(x, 2, raw = TRUE)2 &    -0.2784125 & 7.805107e-02  & -3.567055     & 0.0005628472 \\\\\n",
       "\\end{tabular}\n"
      ],
      "text/markdown": [
       "\n",
       "| <!--/--> | Estimate | Std. Error | t value | Pr(>|t|) |\n",
       "|---|---|---|---|---|\n",
       "| (Intercept) | -5421.2466887 | 1.546580e+03  | -3.505313     | 0.0006921695  |\n",
       "| poly(x, 2, raw = TRUE)1 |    77.7075083 | 2.197402e+01  |  3.536336     | 0.0006240344  |\n",
       "| poly(x, 2, raw = TRUE)2 |    -0.2784125 | 7.805107e-02  | -3.567055     | 0.0005628472  |\n",
       "\n"
      ],
      "text/plain": [
       "                        Estimate      Std. Error   t value   Pr(>|t|)    \n",
       "(Intercept)             -5421.2466887 1.546580e+03 -3.505313 0.0006921695\n",
       "poly(x, 2, raw = TRUE)1    77.7075083 2.197402e+01  3.536336 0.0006240344\n",
       "poly(x, 2, raw = TRUE)2    -0.2784125 7.805107e-02 -3.567055 0.0005628472"
      ]
     },
     "metadata": {},
     "output_type": "display_data"
    },
    {
     "data": {
      "image/png": "[encoded data removed]",
      "text/plain": [
       "plot without title"
      ]
     },
     "metadata": {},
     "output_type": "display_data"
    }
   ],
   "source": [
    "load(\"data/7.R.RData\")\n",
    "fit <- lm(y ~ poly(x, 2, raw = TRUE)) # raw = TRUE constraints the use of x,x^2 and not orthogonal polynomial \n",
    "coef(summary(fit))\n",
    "plot(y ~ x)\n",
    "points(x, fitted(fit), col ='blue', pch=20)"
   ]
  },
  {
   "cell_type": "code",
   "execution_count": null,
   "metadata": {},
   "outputs": [],
   "source": []
  }
 ],
 "metadata": {
  "kernelspec": {
   "display_name": "R",
   "language": "R",
   "name": "ir"
  },
  "language_info": {
   "codemirror_mode": "r",
   "file_extension": ".r",
   "mimetype": "text/x-r-source",
   "name": "R",
   "pygments_lexer": "r",
   "version": "3.6.1"
  }
 },
 "nbformat": 4,
 "nbformat_minor": 4
}
