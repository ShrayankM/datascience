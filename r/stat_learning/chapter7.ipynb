{
 "cells": [
  {
   "cell_type": "markdown",
   "metadata": {},
   "source": [
    "# Chapter 7 - Moving Beyond Linearity"
   ]
  },
  {
   "cell_type": "markdown",
   "metadata": {},
   "source": [
    "A linear model may not be able to represent a process properly and in that case we may need to add some flexibility to the it. One of the easiest way is to add polynomials to the model \n",
    "\n",
    "$$y_i = \\beta_0 + \\beta_1 x_i + \\beta_2 x_i^2 + \\beta_3 x_i^3 + ... + \\beta_d x_i^d + \\epsilon_i$$\n",
    "\n",
    "Models that have polynomials of the 2nd or 3rd are used often. The coefficients are computed in the same way as for the linear model, computing the least squares. A disatvantage is that a polynomial has a global effect on the full range of the predictor's domain. Other non-linear models, such as step functions and splines, allow to split the predictor domain so that different models are used in each subdomain.  \n",
    "\n",
    "Here is a simple example of how we can fit a data set using a quadratic polynomial in R. Polynomials can form a set of orthonormal functions"
   ]
  },
  {
   "cell_type": "code",
   "execution_count": 35,
   "metadata": {},
   "outputs": [
    {
     "data": {
      "text/html": [
       "<table>\n",
       "<thead><tr><th></th><th scope=col>Estimate</th><th scope=col>Std. Error</th><th scope=col>t value</th><th scope=col>Pr(&gt;|t|)</th></tr></thead>\n",
       "<tbody>\n",
       "\t<tr><th scope=row>(Intercept)</th><td>-5421.2466887</td><td>1.546580e+03 </td><td>-3.505313    </td><td>0.0006921695 </td></tr>\n",
       "\t<tr><th scope=row>poly(x, 2, raw = TRUE)1</th><td>   77.7075083</td><td>2.197402e+01 </td><td> 3.536336    </td><td>0.0006240344 </td></tr>\n",
       "\t<tr><th scope=row>poly(x, 2, raw = TRUE)2</th><td>   -0.2784125</td><td>7.805107e-02 </td><td>-3.567055    </td><td>0.0005628472 </td></tr>\n",
       "</tbody>\n",
       "</table>\n"
      ],
      "text/latex": [
       "\\begin{tabular}{r|llll}\n",
       "  & Estimate & Std. Error & t value & Pr(>\\textbar{}t\\textbar{})\\\\\n",
       "\\hline\n",
       "\t(Intercept) & -5421.2466887 & 1.546580e+03  & -3.505313     & 0.0006921695 \\\\\n",
       "\tpoly(x, 2, raw = TRUE)1 &    77.7075083 & 2.197402e+01  &  3.536336     & 0.0006240344 \\\\\n",
       "\tpoly(x, 2, raw = TRUE)2 &    -0.2784125 & 7.805107e-02  & -3.567055     & 0.0005628472 \\\\\n",
       "\\end{tabular}\n"
      ],
      "text/markdown": [
       "\n",
       "| <!--/--> | Estimate | Std. Error | t value | Pr(>|t|) |\n",
       "|---|---|---|---|---|\n",
       "| (Intercept) | -5421.2466887 | 1.546580e+03  | -3.505313     | 0.0006921695  |\n",
       "| poly(x, 2, raw = TRUE)1 |    77.7075083 | 2.197402e+01  |  3.536336     | 0.0006240344  |\n",
       "| poly(x, 2, raw = TRUE)2 |    -0.2784125 | 7.805107e-02  | -3.567055     | 0.0005628472  |\n",
       "\n"
      ],
      "text/plain": [
       "                        Estimate      Std. Error   t value   Pr(>|t|)    \n",
       "(Intercept)             -5421.2466887 1.546580e+03 -3.505313 0.0006921695\n",
       "poly(x, 2, raw = TRUE)1    77.7075083 2.197402e+01  3.536336 0.0006240344\n",
       "poly(x, 2, raw = TRUE)2    -0.2784125 7.805107e-02 -3.567055 0.0005628472"
      ]
     },
     "metadata": {},
     "output_type": "display_data"
    },
    {
     "data": {
      "image/png": "[encoded data removed]",
      "text/plain": [
       "plot without title"
      ]
     },
     "metadata": {},
     "output_type": "display_data"
    }
   ],
   "source": [
    "load(\"data/7.R.RData\")\n",
    "fit <- lm(y ~ poly(x, 2, raw = TRUE)) # raw = TRUE selects a base of x,x^2 instead of orthogonal polynomials  \n",
    "coef(summary(fit))\n",
    "plot(y ~ x) # plot the data\n",
    "points(x, fitted(fit), col ='blue', pch=20) # plot the fit for each value of the predictor"
   ]
  },
  {
   "cell_type": "markdown",
   "metadata": {},
   "source": [
    "### 7.8.1 Polynomial Regression and Step Functions\n",
    "We will use the Wage data set for our examples about polynomial regression and step functions. We want to see how wage depends on the other variables."
   ]
  },
  {
   "cell_type": "code",
   "execution_count": 36,
   "metadata": {},
   "outputs": [
    {
     "data": {
      "text/html": [
       "<ol class=list-inline>\n",
       "\t<li>3000</li>\n",
       "\t<li>11</li>\n",
       "</ol>\n"
      ],
      "text/latex": [
       "\\begin{enumerate*}\n",
       "\\item 3000\n",
       "\\item 11\n",
       "\\end{enumerate*}\n"
      ],
      "text/markdown": [
       "1. 3000\n",
       "2. 11\n",
       "\n",
       "\n"
      ],
      "text/plain": [
       "[1] 3000   11"
      ]
     },
     "metadata": {},
     "output_type": "display_data"
    },
    {
     "data": {
      "text/html": [
       "<ol class=list-inline>\n",
       "\t<li>'year'</li>\n",
       "\t<li>'age'</li>\n",
       "\t<li>'maritl'</li>\n",
       "\t<li>'race'</li>\n",
       "\t<li>'education'</li>\n",
       "\t<li>'region'</li>\n",
       "\t<li>'jobclass'</li>\n",
       "\t<li>'health'</li>\n",
       "\t<li>'health_ins'</li>\n",
       "\t<li>'logwage'</li>\n",
       "\t<li>'wage'</li>\n",
       "</ol>\n"
      ],
      "text/latex": [
       "\\begin{enumerate*}\n",
       "\\item 'year'\n",
       "\\item 'age'\n",
       "\\item 'maritl'\n",
       "\\item 'race'\n",
       "\\item 'education'\n",
       "\\item 'region'\n",
       "\\item 'jobclass'\n",
       "\\item 'health'\n",
       "\\item 'health\\_ins'\n",
       "\\item 'logwage'\n",
       "\\item 'wage'\n",
       "\\end{enumerate*}\n"
      ],
      "text/markdown": [
       "1. 'year'\n",
       "2. 'age'\n",
       "3. 'maritl'\n",
       "4. 'race'\n",
       "5. 'education'\n",
       "6. 'region'\n",
       "7. 'jobclass'\n",
       "8. 'health'\n",
       "9. 'health_ins'\n",
       "10. 'logwage'\n",
       "11. 'wage'\n",
       "\n",
       "\n"
      ],
      "text/plain": [
       " [1] \"year\"       \"age\"        \"maritl\"     \"race\"       \"education\" \n",
       " [6] \"region\"     \"jobclass\"   \"health\"     \"health_ins\" \"logwage\"   \n",
       "[11] \"wage\"      "
      ]
     },
     "metadata": {},
     "output_type": "display_data"
    }
   ],
   "source": [
    "library(ISLR)\n",
    "dim(Wage); names(Wage)"
   ]
  },
  {
   "cell_type": "code",
   "execution_count": 37,
   "metadata": {},
   "outputs": [
    {
     "data": {
      "text/html": [
       "<table>\n",
       "<thead><tr><th></th><th scope=col>Estimate</th><th scope=col>Std. Error</th><th scope=col>t value</th><th scope=col>Pr(&gt;|t|)</th></tr></thead>\n",
       "<tbody>\n",
       "\t<tr><th scope=row>(Intercept)</th><td> 111.70361  </td><td> 0.7287409  </td><td>153.283015  </td><td>0.000000e+00</td></tr>\n",
       "\t<tr><th scope=row>poly(age, 4)1</th><td> 447.06785  </td><td>39.9147851  </td><td> 11.200558  </td><td>1.484604e-28</td></tr>\n",
       "\t<tr><th scope=row>poly(age, 4)2</th><td>-478.31581  </td><td>39.9147851  </td><td>-11.983424  </td><td>2.355831e-32</td></tr>\n",
       "\t<tr><th scope=row>poly(age, 4)3</th><td> 125.52169  </td><td>39.9147851  </td><td>  3.144742  </td><td>1.678622e-03</td></tr>\n",
       "\t<tr><th scope=row>poly(age, 4)4</th><td> -77.91118  </td><td>39.9147851  </td><td> -1.951938  </td><td>5.103865e-02</td></tr>\n",
       "</tbody>\n",
       "</table>\n"
      ],
      "text/latex": [
       "\\begin{tabular}{r|llll}\n",
       "  & Estimate & Std. Error & t value & Pr(>\\textbar{}t\\textbar{})\\\\\n",
       "\\hline\n",
       "\t(Intercept) &  111.70361   &  0.7287409   & 153.283015   & 0.000000e+00\\\\\n",
       "\tpoly(age, 4)1 &  447.06785   & 39.9147851   &  11.200558   & 1.484604e-28\\\\\n",
       "\tpoly(age, 4)2 & -478.31581   & 39.9147851   & -11.983424   & 2.355831e-32\\\\\n",
       "\tpoly(age, 4)3 &  125.52169   & 39.9147851   &   3.144742   & 1.678622e-03\\\\\n",
       "\tpoly(age, 4)4 &  -77.91118   & 39.9147851   &  -1.951938   & 5.103865e-02\\\\\n",
       "\\end{tabular}\n"
      ],
      "text/markdown": [
       "\n",
       "| <!--/--> | Estimate | Std. Error | t value | Pr(>|t|) |\n",
       "|---|---|---|---|---|\n",
       "| (Intercept) |  111.70361   |  0.7287409   | 153.283015   | 0.000000e+00 |\n",
       "| poly(age, 4)1 |  447.06785   | 39.9147851   |  11.200558   | 1.484604e-28 |\n",
       "| poly(age, 4)2 | -478.31581   | 39.9147851   | -11.983424   | 2.355831e-32 |\n",
       "| poly(age, 4)3 |  125.52169   | 39.9147851   |   3.144742   | 1.678622e-03 |\n",
       "| poly(age, 4)4 |  -77.91118   | 39.9147851   |  -1.951938   | 5.103865e-02 |\n",
       "\n"
      ],
      "text/plain": [
       "              Estimate   Std. Error t value    Pr(>|t|)    \n",
       "(Intercept)    111.70361  0.7287409 153.283015 0.000000e+00\n",
       "poly(age, 4)1  447.06785 39.9147851  11.200558 1.484604e-28\n",
       "poly(age, 4)2 -478.31581 39.9147851 -11.983424 2.355831e-32\n",
       "poly(age, 4)3  125.52169 39.9147851   3.144742 1.678622e-03\n",
       "poly(age, 4)4  -77.91118 39.9147851  -1.951938 5.103865e-02"
      ]
     },
     "metadata": {},
     "output_type": "display_data"
    }
   ],
   "source": [
    "fit <- lm(wage ~ poly(age, 4), data = Wage) # fit of a 4-degree polynomial\n",
    "coefficients(summary(fit))"
   ]
  },
  {
   "cell_type": "markdown",
   "metadata": {},
   "source": [
    "Now we plot the data and the fit for each value of the predictor. This is just a quick plot because usually we are interested in using the fit with a grid that may have different limits and number of points than the original predictor. "
   ]
  },
  {
   "cell_type": "code",
   "execution_count": 38,
   "metadata": {},
   "outputs": [
    {
     "data": {
      "image/png": "[encoded data removed]",
      "text/plain": [
       "plot without title"
      ]
     },
     "metadata": {},
     "output_type": "display_data"
    }
   ],
   "source": [
    "plot(Wage$wage ~ Wage$age, xlab = \"Age\", ylab = \"Wage\")\n",
    "points(Wage$age, fitted(fit), col ='blue', pch=20)"
   ]
  },
  {
   "cell_type": "markdown",
   "metadata": {},
   "source": [
    "Now we define a grid for the age variable. In this case we set the same limits as in the original data set and we use the default step, one, since the age is given as integers. Once we have the grid we use the predict() function and the fit to compute the response of the model for each point of the grid and finally we plot the fit with the standard error."
   ]
  },
  {
   "cell_type": "code",
   "execution_count": 39,
   "metadata": {},
   "outputs": [
    {
     "data": {
      "image/png": "[encoded data removed]",
      "text/plain": [
       "plot without title"
      ]
     },
     "metadata": {},
     "output_type": "display_data"
    }
   ],
   "source": [
    "age_interval <- range(Wage$age) # lower and upper limits of the predictor\n",
    "age.grid <- seq(from = age_interval[1], to = age_interval[2]) # builds the grid\n",
    "preds <- predict(fit, newdata = list(age = age.grid), se = TRUE) # compute the prediction for the grid points\n",
    "#par(mfrow = c(1,2), mar = c(4.5, 4.5, 1, 1), oma = c(0, 0, 4, 0)) # set the frame of the plot\n",
    "plot(Wage$age, Wage$wage, xlim = age_interval, cex = 0.5, col = \"darkgrey\", xlab = \"Age\", ylab = \"Wage\") # plot the data points\n",
    "lines(age.grid, preds$fit, lwd = 2, col = \"blue\") # adds the fit to the data points\n",
    "se.bands <- cbind(preds$fit + 2 * preds$se.fit, preds$fit - 2 * preds$se.fit) # defines the curves of the standard error\n",
    "matlines(age.grid, se.bands, lwd = 1, col = \"blue\", lty = 3) # adds the standard error"
   ]
  },
  {
   "cell_type": "markdown",
   "metadata": {},
   "source": [
    "#### Analysis of Variance (ANOVA F-test)\n",
    "We fit models of increasing degree polynomials and then we compare them to look for the simplest one that fits the data well enough. The models are nested, the one with higher degree containing those with lower degree. The anova() function tests the null hypothesis: the simpler model is sufficient to explain the data. A low p-value means that the test is significant and the null hyphotesis is false, that is, the simpler model cannot explain the data. A p-value not very small means that the null hypothesis is true and the simpler model can explain the data (see chapter 3 for an explanation of the ANOVA F-test)."
   ]
  },
  {
   "cell_type": "code",
   "execution_count": 40,
   "metadata": {},
   "outputs": [
    {
     "data": {
      "text/html": [
       "<table>\n",
       "<thead><tr><th scope=col>Res.Df</th><th scope=col>RSS</th><th scope=col>Df</th><th scope=col>Sum of Sq</th><th scope=col>F</th><th scope=col>Pr(&gt;F)</th></tr></thead>\n",
       "<tbody>\n",
       "\t<tr><td>2998        </td><td>5022216     </td><td>NA          </td><td>        NA  </td><td>         NA </td><td>          NA</td></tr>\n",
       "\t<tr><td>2997        </td><td>4793430     </td><td> 1          </td><td>228786.010  </td><td>143.5931074 </td><td>2.367734e-32</td></tr>\n",
       "\t<tr><td>2996        </td><td>4777674     </td><td> 1          </td><td> 15755.694  </td><td>  9.8887559 </td><td>1.679213e-03</td></tr>\n",
       "\t<tr><td>2995        </td><td>4771604     </td><td> 1          </td><td>  6070.152  </td><td>  3.8098134 </td><td>5.104623e-02</td></tr>\n",
       "\t<tr><td>2994        </td><td>4770322     </td><td> 1          </td><td>  1282.563  </td><td>  0.8049758 </td><td>3.696820e-01</td></tr>\n",
       "</tbody>\n",
       "</table>\n"
      ],
      "text/latex": [
       "\\begin{tabular}{r|llllll}\n",
       " Res.Df & RSS & Df & Sum of Sq & F & Pr(>F)\\\\\n",
       "\\hline\n",
       "\t 2998         & 5022216      & NA           &         NA   &          NA  &           NA\\\\\n",
       "\t 2997         & 4793430      &  1           & 228786.010   & 143.5931074  & 2.367734e-32\\\\\n",
       "\t 2996         & 4777674      &  1           &  15755.694   &   9.8887559  & 1.679213e-03\\\\\n",
       "\t 2995         & 4771604      &  1           &   6070.152   &   3.8098134  & 5.104623e-02\\\\\n",
       "\t 2994         & 4770322      &  1           &   1282.563   &   0.8049758  & 3.696820e-01\\\\\n",
       "\\end{tabular}\n"
      ],
      "text/markdown": [
       "\n",
       "| Res.Df | RSS | Df | Sum of Sq | F | Pr(>F) |\n",
       "|---|---|---|---|---|---|\n",
       "| 2998         | 5022216      | NA           |         NA   |          NA  |           NA |\n",
       "| 2997         | 4793430      |  1           | 228786.010   | 143.5931074  | 2.367734e-32 |\n",
       "| 2996         | 4777674      |  1           |  15755.694   |   9.8887559  | 1.679213e-03 |\n",
       "| 2995         | 4771604      |  1           |   6070.152   |   3.8098134  | 5.104623e-02 |\n",
       "| 2994         | 4770322      |  1           |   1282.563   |   0.8049758  | 3.696820e-01 |\n",
       "\n"
      ],
      "text/plain": [
       "  Res.Df RSS     Df Sum of Sq  F           Pr(>F)      \n",
       "1 2998   5022216 NA         NA          NA           NA\n",
       "2 2997   4793430  1 228786.010 143.5931074 2.367734e-32\n",
       "3 2996   4777674  1  15755.694   9.8887559 1.679213e-03\n",
       "4 2995   4771604  1   6070.152   3.8098134 5.104623e-02\n",
       "5 2994   4770322  1   1282.563   0.8049758 3.696820e-01"
      ]
     },
     "metadata": {},
     "output_type": "display_data"
    }
   ],
   "source": [
    "fit1 <- lm(wage ~ age, data = Wage)\n",
    "fit2 <- lm(wage ~ poly(age, 2), data = Wage)\n",
    "fit3 <- lm(wage ~ poly(age, 3), data = Wage)\n",
    "fit4 <- lm(wage ~ poly(age, 4), data = Wage)\n",
    "fit5 <- lm(wage ~ poly(age, 5), data = Wage)\n",
    "anova(fit1, fit2, fit3, fit4, fit5)"
   ]
  },
  {
   "cell_type": "markdown",
   "metadata": {},
   "source": [
    "The last row is the result of the comparison between the 4-degree and the 5-degree models and being the p-value, Pr(>F), not very small it means that the null hypothesys is not false and the model with 4 degree can explain the data."
   ]
  },
  {
   "cell_type": "markdown",
   "metadata": {},
   "source": [
    "#### Logistic regression\n",
    "From the plot we see that there are two distinct groups, those who earn more than 250K, and those who earn less than 200K. We may be interested in predicting to which group an individual can belong. We train the logit model \n",
    "\n",
    "$$log(\\frac{Pr(y_i=1|x_i)}{1 - Pr(y_i=1|x_i)}) = \\beta_0 + \\beta_1 x_i + \\beta_2 x_i^2 + \\beta_3 x_i^3 + ... + \\beta_d x_i^d $$"
   ]
  },
  {
   "cell_type": "code",
   "execution_count": 41,
   "metadata": {},
   "outputs": [],
   "source": [
    "fit <- glm(I(wage > 250) ~ poly(age, 4), data = Wage, family = \"binomial\")\n",
    "preds <- predict(fit, newdata = list(age = age.grid), se = TRUE)"
   ]
  },
  {
   "cell_type": "markdown",
   "metadata": {},
   "source": [
    "In order to get the probability of earning more than 250K we have to transform the logit\n",
    "\n",
    "$$Pr(y_i = 1|x_i) = \\frac{exp(\\beta_0 + \\beta_1 x_i + \\beta_2 x_i^2 + \\beta_3 x_i^3 + ... + \\beta_d x_i^d)}{1 + exp(\\beta_0 + \\beta_1 x_i + \\beta_2 x_i^2 + \\beta_3 x_i^3 + ... + \\beta_d x_i^d)}$$\n",
    "\n",
    "and then compute the values of the fit for each x value in the grid with the standard errors."
   ]
  },
  {
   "cell_type": "code",
   "execution_count": 42,
   "metadata": {},
   "outputs": [
    {
     "data": {
      "image/png": "[encoded data removed]",
      "text/plain": [
       "plot without title"
      ]
     },
     "metadata": {},
     "output_type": "display_data"
    }
   ],
   "source": [
    "pfit <- exp(preds$fit) / (1 + exp(preds$fit))\n",
    "se.bands.logit <- cbind(preds$fit + 2 * preds$se.fit, preds$fit - 2 * preds$se.fit)\n",
    "se.bands <- exp(se.bands.logit) / (1 + exp(se.bands.logit))\n",
    "plot(Wage$age, Wage$wage, xlim = age_interval, type = \"n\", ylim = c(0, 0.2), xlab = \"Age\", ylab = \"Wage\")\n",
    "points(jitter(Wage$age), I((Wage$wage > 250) / 5), cex = 0.5, pch = \"l\", col = \"darkgrey\")\n",
    "lines(age.grid, pfit, lwd = 2, col = \"blue\")\n",
    "matlines(age.grid, se.bands, lwd = 1, col = \"blue\", lty = 3)"
   ]
  },
  {
   "cell_type": "code",
   "execution_count": null,
   "metadata": {},
   "outputs": [],
   "source": []
  }
 ],
 "metadata": {
  "kernelspec": {
   "display_name": "R",
   "language": "R",
   "name": "ir"
  },
  "language_info": {
   "codemirror_mode": "r",
   "file_extension": ".r",
   "mimetype": "text/x-r-source",
   "name": "R",
   "pygments_lexer": "r",
   "version": "3.6.1"
  }
 },
 "nbformat": 4,
 "nbformat_minor": 4
}
