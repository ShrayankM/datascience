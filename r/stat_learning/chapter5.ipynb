{
 "cells": [
  {
   "cell_type": "markdown",
   "metadata": {},
   "source": [
    "# Chapter 5 - Resampling Methods  \n",
    "\n",
    "The topics of this chapter are:\n",
    "\n",
    "- The Validation Set Approach\n",
    "- Cross-Validation\n",
    "- The Bootstrap\n",
    "\n",
    "Two packages are used in the examples of this chapter: ISLR and boot.\n",
    "\n",
    "---\n",
    "Once we have fitted a model using a set of observations we want to test its performance on new data. Three approaches are discussed in the book: validation set, cross validation and bootstrap. \n",
    "\n",
    "The validation set approach consists of splitting the available data set into two parts, the training set, used to fit our model, and the validation set, used to test the performance of our model. The problem of the validation set approach is that the model will have a lower performance than it could achieve if the full available data set could be used for training. \n",
    "\n",
    "Cross validation solves this problem by splitting the observations in k subsets, using one of them to test the model trained with the other k - 1 sets, repeating the procedure k times and taking the average error rate. The paramenter k can be small, 1, 5, 10 being the most used values, so that the problem raised by the validation set will not have impact. \n",
    "\n",
    "Bootstrap is a technique that can be used even with small data sets to estimate the accuracy of an estimate. it is similar to cross-validation, but the bootstrap samples are created by taking random observations with replacement from the available observations.     "
   ]
  },
  {
   "cell_type": "markdown",
   "metadata": {},
   "source": [
    "### Standard error of the regression parameters\n",
    "Any parameter that is used in a statistical model is distributed according to a probability distribution and it comes with an error. When we use a function in R to fit a model, such asd lm(), it returns the mean values of the parameters and the standard error associated with them. In the example we load a data set, fit a linear regression model of y on X1 and X2 and print the standard error for β1."
   ]
  },
  {
   "cell_type": "code",
   "execution_count": 31,
   "metadata": {},
   "outputs": [
    {
     "data": {
      "text/html": [
       "<ol class=list-inline>\n",
       "\t<li>1000</li>\n",
       "\t<li>3</li>\n",
       "</ol>\n"
      ],
      "text/latex": [
       "\\begin{enumerate*}\n",
       "\\item 1000\n",
       "\\item 3\n",
       "\\end{enumerate*}\n"
      ],
      "text/markdown": [
       "1. 1000\n",
       "2. 3\n",
       "\n",
       "\n"
      ],
      "text/plain": [
       "[1] 1000    3"
      ]
     },
     "metadata": {},
     "output_type": "display_data"
    },
    {
     "data": {
      "text/html": [
       "<ol class=list-inline>\n",
       "\t<li>'X1'</li>\n",
       "\t<li>'X2'</li>\n",
       "\t<li>'y'</li>\n",
       "</ol>\n"
      ],
      "text/latex": [
       "\\begin{enumerate*}\n",
       "\\item 'X1'\n",
       "\\item 'X2'\n",
       "\\item 'y'\n",
       "\\end{enumerate*}\n"
      ],
      "text/markdown": [
       "1. 'X1'\n",
       "2. 'X2'\n",
       "3. 'y'\n",
       "\n",
       "\n"
      ],
      "text/plain": [
       "[1] \"X1\" \"X2\" \"y\" "
      ]
     },
     "metadata": {},
     "output_type": "display_data"
    }
   ],
   "source": [
    "load(\"data/5.R.RData\")\n",
    "dim(Xy); names(Xy)"
   ]
  },
  {
   "cell_type": "markdown",
   "metadata": {},
   "source": [
    "We fit a linear model using all the observations"
   ]
  },
  {
   "cell_type": "code",
   "execution_count": 46,
   "metadata": {},
   "outputs": [
    {
     "data": {
      "text/plain": [
       "\n",
       "Call:\n",
       "lm(formula = y ~ X1 + X2, data = Xy)\n",
       "\n",
       "Residuals:\n",
       "     Min       1Q   Median       3Q      Max \n",
       "-1.44171 -0.25468 -0.01736  0.33081  1.45860 \n",
       "\n",
       "Coefficients:\n",
       "            Estimate Std. Error t value Pr(>|t|)    \n",
       "(Intercept)  0.26583    0.01988  13.372  < 2e-16 ***\n",
       "X1           0.14533    0.02593   5.604 2.71e-08 ***\n",
       "X2           0.31337    0.02923  10.722  < 2e-16 ***\n",
       "---\n",
       "Signif. codes:  0 '***' 0.001 '**' 0.01 '*' 0.05 '.' 0.1 ' ' 1\n",
       "\n",
       "Residual standard error: 0.5451 on 997 degrees of freedom\n",
       "Multiple R-squared:  0.1171,\tAdjusted R-squared:  0.1154 \n",
       "F-statistic: 66.14 on 2 and 997 DF,  p-value: < 2.2e-16\n"
      ]
     },
     "metadata": {},
     "output_type": "display_data"
    }
   ],
   "source": [
    "fit <- lm(y ~ X1 + X2, data = Xy)\n",
    "summary(fit)"
   ]
  },
  {
   "cell_type": "markdown",
   "metadata": {},
   "source": [
    "The standard error for $\\beta_1$ is 0.02593. We cannot trust the error because it is computed using the full data set and the summary cannot give us the error on new observations. We will see how to use the bootstrap method to compute the standard error of the fitting parameters."
   ]
  },
  {
   "cell_type": "markdown",
   "metadata": {},
   "source": [
    "### 5.3.1 The Validation Set Approach\n",
    "The validation set approach is used to estimate the mean squared error (MSE)\n",
    "\n",
    "$$MSE = \\frac{1}{n}\\sum_{i=1}^{n}(y_i - \\hat{f}(x_i))^2$$\n",
    "\n",
    "where $y_i$ is an observation and $\\hat{f}(x_i)$ is a prediction from the fit. The set of available observation is split into two subsets. One subset is used for training and the other subset, the validation set, is used to test the quality of the fit by computing the MSE on unseen data. In the equation n is the size of the validation set. The observations in each subset are taken randomly from the original set of observations. \n",
    "\n",
    "In this example we use a cleaned version of the Auto data set in which the rows (5) without a value for the 'horsepower' field have been removed because the function na.omit(Auto) doesn't seem to work within the Jupyter notebook (it does work in RStudio). "
   ]
  },
  {
   "cell_type": "code",
   "execution_count": 8,
   "metadata": {},
   "outputs": [
    {
     "data": {
      "text/plain": [
       "      mpg          cylinders      displacement     horsepower        weight    \n",
       " Min.   : 9.00   Min.   :3.000   Min.   : 68.0   Min.   : 46.0   Min.   :1613  \n",
       " 1st Qu.:17.00   1st Qu.:4.000   1st Qu.:105.0   1st Qu.: 75.0   1st Qu.:2225  \n",
       " Median :22.75   Median :4.000   Median :151.0   Median : 93.5   Median :2804  \n",
       " Mean   :23.45   Mean   :5.472   Mean   :194.4   Mean   :104.5   Mean   :2978  \n",
       " 3rd Qu.:29.00   3rd Qu.:8.000   3rd Qu.:275.8   3rd Qu.:126.0   3rd Qu.:3615  \n",
       " Max.   :46.60   Max.   :8.000   Max.   :455.0   Max.   :230.0   Max.   :5140  \n",
       "                                                                               \n",
       "  acceleration        year           origin                      name    \n",
       " Min.   : 8.00   Min.   :70.00   Min.   :1.000   amc matador       :  5  \n",
       " 1st Qu.:13.78   1st Qu.:73.00   1st Qu.:1.000   ford pinto        :  5  \n",
       " Median :15.50   Median :76.00   Median :1.000   toyota corolla    :  5  \n",
       " Mean   :15.54   Mean   :75.98   Mean   :1.577   amc gremlin       :  4  \n",
       " 3rd Qu.:17.02   3rd Qu.:79.00   3rd Qu.:2.000   amc hornet        :  4  \n",
       " Max.   :24.80   Max.   :82.00   Max.   :3.000   chevrolet chevette:  4  \n",
       "                                                 (Other)           :365  "
      ]
     },
     "metadata": {},
     "output_type": "display_data"
    },
    {
     "data": {
      "text/html": [
       "<ol class=list-inline>\n",
       "\t<li>392</li>\n",
       "\t<li>9</li>\n",
       "</ol>\n"
      ],
      "text/latex": [
       "\\begin{enumerate*}\n",
       "\\item 392\n",
       "\\item 9\n",
       "\\end{enumerate*}\n"
      ],
      "text/markdown": [
       "1. 392\n",
       "2. 9\n",
       "\n",
       "\n"
      ],
      "text/plain": [
       "[1] 392   9"
      ]
     },
     "metadata": {},
     "output_type": "display_data"
    }
   ],
   "source": [
    "library(ISLR)\n",
    "Auto <- read.csv(\"data/Auto.csv\")\n",
    "summary(Auto); dim(Auto)"
   ]
  },
  {
   "cell_type": "code",
   "execution_count": 7,
   "metadata": {},
   "outputs": [
    {
     "data": {
      "image/png": "[encoded data removed]",
      "text/plain": [
       "plot without title"
      ]
     },
     "metadata": {},
     "output_type": "display_data"
    }
   ],
   "source": [
    "plot(Auto$horsepower, Auto$mpg, ylab=\"mpg\", xlab=\"horsepower\")"
   ]
  },
  {
   "cell_type": "markdown",
   "metadata": {},
   "source": [
    "We fit a linear model using a random subset of observations, the training set, then we make predictions for the subset of observations that have not been used to compute the $\\beta$ parameters, the validation set, and finally we compute the mean squared error on the validation set."
   ]
  },
  {
   "cell_type": "code",
   "execution_count": 6,
   "metadata": {},
   "outputs": [
    {
     "data": {
      "text/html": [
       "26.476939232895"
      ],
      "text/latex": [
       "26.476939232895"
      ],
      "text/markdown": [
       "26.476939232895"
      ],
      "text/plain": [
       "[1] 26.47694"
      ]
     },
     "metadata": {},
     "output_type": "display_data"
    },
    {
     "data": {
      "image/png": "[encoded data removed]",
      "text/plain": [
       "plot without title"
      ]
     },
     "metadata": {},
     "output_type": "display_data"
    }
   ],
   "source": [
    "set.seed(1)\n",
    "train <- sample(397, 196) # extract a random sample of integers as indexes of the records to be used for training\n",
    "#Auto1.train <- Auto1[train,] # training set\n",
    "#Auto1.val <- Auto1[-train,] # validation set\n",
    "lm.fit <- lm(mpg ~ horsepower, data = Auto, subset = train) # fit the model using the train data\n",
    "pred <- predict(lm.fit, Auto) # using the model make predictions for the unseen observation\n",
    "squared_residuals <- (Auto$mpg - pred)^2 # compute the square of the residuals for the validation set\n",
    "mse <- mean(squared_residuals[-train]) # compute the mean squared error on the validation set\n",
    "mse # mean squared error on the validation set\n",
    "plot(Auto$horsepower, Auto$mpg, ylab=\"mpg\", xlab=\"horsepower\")\n",
    "abline(lm.fit, col = \"red\")"
   ]
  },
  {
   "cell_type": "markdown",
   "metadata": {},
   "source": [
    "We try to improve the fit adding a term of the 2nd order for horsepower. We use I(horsepower^2) instead of poly(horsepower,2) as in the book because poly() returns an error."
   ]
  },
  {
   "cell_type": "code",
   "execution_count": 24,
   "metadata": {},
   "outputs": [
    {
     "data": {
      "text/html": [
       "20.5255818557232"
      ],
      "text/latex": [
       "20.5255818557232"
      ],
      "text/markdown": [
       "20.5255818557232"
      ],
      "text/plain": [
       "[1] 20.52558"
      ]
     },
     "metadata": {},
     "output_type": "display_data"
    }
   ],
   "source": [
    "lm.fit2 <- lm(mpg ~ horsepower + I(horsepower^2), data = Auto, subset = train) # fit the model using the train data\n",
    "pred <- predict(lm.fit2, Auto) # using the model make predictions for the unseen observation\n",
    "squared_residuals <- (Auto$mpg - pred)^2 # compute the square of the residuals for the validation set\n",
    "mse <- mean(squared_residuals[-train]) # compute the mean squared error on the validation set\n",
    "mse # mean squared error on the validation set"
   ]
  },
  {
   "cell_type": "markdown",
   "metadata": {},
   "source": [
    "We can see that the mean squared error on the test set with the polynomial fit is significantly lower that with the linear one. We can see also from the plot that indeed the 2nd order polynomial is a better fit of the data."
   ]
  },
  {
   "cell_type": "code",
   "execution_count": 25,
   "metadata": {},
   "outputs": [
    {
     "data": {
      "image/png": "[encoded data removed]",
      "text/plain": [
       "plot without title"
      ]
     },
     "metadata": {},
     "output_type": "display_data"
    }
   ],
   "source": [
    "plot(Auto$horsepower, Auto$mpg, ylab=\"mpg\", xlab=\"horsepower\")\n",
    "points(Auto$horsepower, pred, col ='red', pch=20) # plot the fit for each value of the predictor"
   ]
  },
  {
   "cell_type": "markdown",
   "metadata": {},
   "source": [
    "### 5.3.2 Leave-One-Out Cross-Validation\n",
    "We try to solve of the problem of the validation set approach, that part of the data cannot be used for training. The idea is to reduce the size of the validation set but resampling many of them from the observations and then computing the average mean squared error. The size of the smallest validation set is one so in the Auto data set, where we have 392 rows, we can create 393 validation set, compute the mean squared error for each of them and then take the mean value as the mean square error. In the following example we use this method to fit 5 polynomial models of the Auto data set to see at which order we can stop to have the best fit. As we will see a 2nd order polynomial provides the best fit with the lowest error."
   ]
  },
  {
   "cell_type": "code",
   "execution_count": 33,
   "metadata": {},
   "outputs": [
    {
     "data": {
      "image/png": "[encoded data removed]",
      "text/plain": [
       "plot without title"
      ]
     },
     "metadata": {},
     "output_type": "display_data"
    }
   ],
   "source": [
    "library(boot)\n",
    "cv.error <- rep(0, 5)\n",
    "\n",
    "for (i in 1:5) {\n",
    "  glm.fit <- glm(mpg ~ poly(horsepower, i), data = Auto) # fit increasing higher order polynomials\n",
    "  cv.error[i] <- cv.glm(Auto, glm.fit)$delta[1] # computes the k-fold prediction error, default k = size of the data\n",
    "}\n",
    "\n",
    "plot(1:5, cv.error, type = \"b\", xlab = \"degree of polynomial\", ylab = \"mean squared error\" )"
   ]
  },
  {
   "cell_type": "markdown",
   "metadata": {},
   "source": [
    "### 5.3.3 k-Fold Cross-Validation\n",
    "This method is a generalization of the Leave-One-Out Cross-Validation method. We randomly split the data in K groups and use one for validation and the other K-1 for training. We fit the data and then we compute the prediction error. We repeat the procedure again K times using each time one of the split for validation and the rest for training.  "
   ]
  },
  {
   "cell_type": "code",
   "execution_count": 34,
   "metadata": {},
   "outputs": [
    {
     "data": {
      "image/png": "[encoded data removed]",
      "text/plain": [
       "plot without title"
      ]
     },
     "metadata": {},
     "output_type": "display_data"
    }
   ],
   "source": [
    "set.seed(17)\n",
    "cv.error = rep(0, 10)\n",
    "for (i in 1:10) {\n",
    "  glm.fit <- glm(mpg ~ poly(horsepower, i), data = Auto)\n",
    "  cv.error[i] <- cv.glm(Auto, glm.fit, K = 10)$delta[1]\n",
    "}\n",
    "\n",
    "plot(1:10, cv.error, type = \"b\", xlab = \"degree of polynomial\", ylab = \"mean squared error\" )"
   ]
  },
  {
   "cell_type": "markdown",
   "metadata": {},
   "source": [
    "### 5.3.4 The Bootstrap\n",
    "The bootstrap is a technique to obtain samples from a given data set by taking random samples with replacement of the original data set. As an example we have two stocks, X and Y, for which we have the returns and we want to build a portfolio allocating our money in such a way that the variance of our portfolio, that represents the risk, is minimized\n",
    "\n",
    "$$Var(\\alpha X + (1 - \\alpha) Y)$$\n",
    "\n",
    "where\n",
    "\n",
    "$$\\alpha = \\frac{\\sigma_Y^2 - \\sigma_{XY}}{\\sigma_X^2 + \\sigma_Y^2 - 2 \\sigma_{XY}}$$\n",
    "\n",
    "In order to compute a good estimation of $\\sigma_X, \\sigma_Y$ and $\\sigma_{XY}$ and the accuracy of $\\alpha$ we can use the bootstrap to create many samples of the original data set."
   ]
  },
  {
   "cell_type": "code",
   "execution_count": 27,
   "metadata": {},
   "outputs": [
    {
     "data": {
      "text/plain": [
       "       X                  Y           \n",
       " Min.   :-2.43276   Min.   :-2.72528  \n",
       " 1st Qu.:-0.88847   1st Qu.:-0.88572  \n",
       " Median :-0.26889   Median :-0.22871  \n",
       " Mean   :-0.07713   Mean   :-0.09694  \n",
       " 3rd Qu.: 0.55809   3rd Qu.: 0.80671  \n",
       " Max.   : 2.46034   Max.   : 2.56599  "
      ]
     },
     "metadata": {},
     "output_type": "display_data"
    },
    {
     "data": {
      "text/html": [
       "<ol class=list-inline>\n",
       "\t<li>100</li>\n",
       "\t<li>2</li>\n",
       "</ol>\n"
      ],
      "text/latex": [
       "\\begin{enumerate*}\n",
       "\\item 100\n",
       "\\item 2\n",
       "\\end{enumerate*}\n"
      ],
      "text/markdown": [
       "1. 100\n",
       "2. 2\n",
       "\n",
       "\n"
      ],
      "text/plain": [
       "[1] 100   2"
      ]
     },
     "metadata": {},
     "output_type": "display_data"
    }
   ],
   "source": [
    "summary(Portfolio); dim(Portfolio)"
   ]
  },
  {
   "cell_type": "markdown",
   "metadata": {},
   "source": [
    "We define the function $\\alpha$ as a function that takes as imput the data, the stock returns, and a randomized index for that data."
   ]
  },
  {
   "cell_type": "code",
   "execution_count": 28,
   "metadata": {},
   "outputs": [],
   "source": [
    "alpha.fn <- function(data, index) {\n",
    "    X <- data$X[index]\n",
    "    Y <- data$Y[index]\n",
    "    return ((var(Y) - cov(X, Y)) / (var(X) + var(Y) - 2 * cov(X,Y)))\n",
    "}"
   ]
  },
  {
   "cell_type": "markdown",
   "metadata": {},
   "source": [
    "We use the boot() function from the 'boot' package to create random samples with replacement from the original data set and estimate the function $\\alpha$ and its standard error."
   ]
  },
  {
   "cell_type": "code",
   "execution_count": 29,
   "metadata": {},
   "outputs": [
    {
     "data": {
      "text/plain": [
       "\n",
       "ORDINARY NONPARAMETRIC BOOTSTRAP\n",
       "\n",
       "\n",
       "Call:\n",
       "boot(data = Portfolio, statistic = alpha.fn, R = 1000)\n",
       "\n",
       "\n",
       "Bootstrap Statistics :\n",
       "     original       bias    std. error\n",
       "t1* 0.5758321 -0.001596422  0.09376093"
      ]
     },
     "metadata": {},
     "output_type": "display_data"
    }
   ],
   "source": [
    "set.seed(1)\n",
    "boot(Portfolio, alpha.fn, R = 1000) # R is the number of bootstrap samples"
   ]
  },
  {
   "cell_type": "markdown",
   "metadata": {},
   "source": [
    "Going back to the example at the beginning of the chapter, we can compute again the $\\beta$ parameters for the linear regression problem using the bootstrap method."
   ]
  },
  {
   "cell_type": "code",
   "execution_count": 32,
   "metadata": {},
   "outputs": [
    {
     "data": {
      "text/plain": [
       "\n",
       "ORDINARY NONPARAMETRIC BOOTSTRAP\n",
       "\n",
       "\n",
       "Call:\n",
       "boot(data = Xy, statistic = linear_fit, R = 1000)\n",
       "\n",
       "\n",
       "Bootstrap Statistics :\n",
       "     original       bias    std. error\n",
       "t1* 0.2658349 2.482855e-05  0.01435620\n",
       "t2* 0.1453263 1.189974e-03  0.02839089\n",
       "t3* 0.3133670 1.565310e-03  0.03514502"
      ]
     },
     "metadata": {},
     "output_type": "display_data"
    }
   ],
   "source": [
    "linear_fit <- function(data, index) {\n",
    "    fit <- lm(y ~ X1 + X2, data = data, subset = index)\n",
    "    coef(fit)\n",
    "}\n",
    "\n",
    "library(boot)\n",
    "boot(Xy, linear_fit, R = 1000)"
   ]
  },
  {
   "cell_type": "markdown",
   "metadata": {},
   "source": [
    "As we can see the standard error for the $\\beta_1$ parameter computed with the bootstrap method is somewhat bigger than before because not all the observations are used to train the model, but it is not far from that. "
   ]
  },
  {
   "cell_type": "code",
   "execution_count": null,
   "metadata": {},
   "outputs": [],
   "source": []
  }
 ],
 "metadata": {
  "kernelspec": {
   "display_name": "R",
   "language": "R",
   "name": "ir"
  },
  "language_info": {
   "codemirror_mode": "r",
   "file_extension": ".r",
   "mimetype": "text/x-r-source",
   "name": "R",
   "pygments_lexer": "r",
   "version": "3.6.1"
  }
 },
 "nbformat": 4,
 "nbformat_minor": 4
}
