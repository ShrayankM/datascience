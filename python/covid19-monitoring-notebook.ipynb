{
 "cells": [
  {
   "cell_type": "markdown",
   "metadata": {},
   "source": [
    "# Covid-19 Monitoring Notebook\n",
    "The Johns Hopkins Center for Systems Science and Engineering (CSSE) operates a [dashboard](https://systems.jhu.edu/research/public-health/ncov/) on the Web to follow the covid-19 cases and deaths all over the world. The data is collected on a daily basis from different sources and has been made available on [Github](https://github.com/CSSEGISandData/COVID-19). This is a selection for some European countries. The observed cases are shown for each country and then merged together for comparison. "
   ]
  },
  {
   "cell_type": "markdown",
   "metadata": {},
   "source": [
    "[Italy](#Italy)  \n",
    "[Germany](#Germany)  \n",
    "[France](#France)  \n",
    "[Spain](#Spain)  \n",
    "[Comparisons](#Comparisons)"
   ]
  },
  {
   "cell_type": "markdown",
   "metadata": {},
   "source": [
    "***\n",
    "## Definitions\n",
    "We follow the definitions for measures as given in the book by Bonita et al., [Basic Epidemiology, 2nd ed.](https://apps.who.int/iris/handle/10665/43541) available in different languages from the World Health Organization website.  \n",
    "Prevalence of a disease: ratio of the number of people with the disease to the number of people observed at a certain point in time.  \n",
    "Case fatality: proportion of cases with a specified disease or condition who die within a specified time."
   ]
  },
  {
   "cell_type": "code",
   "execution_count": 1,
   "metadata": {},
   "outputs": [],
   "source": [
    "import pandas as pd\n",
    "import numpy as np\n",
    "import matplotlib.pyplot as plt\n",
    "from matplotlib.pyplot import figure"
   ]
  },
  {
   "cell_type": "markdown",
   "metadata": {},
   "source": [
    "***\n",
    "## Harvested data sources"
   ]
  },
  {
   "cell_type": "markdown",
   "metadata": {},
   "source": [
    "### Johns Hopkins CSSE Github repository"
   ]
  },
  {
   "cell_type": "code",
   "execution_count": 2,
   "metadata": {},
   "outputs": [],
   "source": [
    "url_confirmed = \"https://raw.githubusercontent.com/CSSEGISandData/COVID-19/master/csse_covid_19_data/csse_covid_19_time_series/time_series_19-covid-Confirmed.csv\"\n",
    "confirmed = pd.read_csv(url_confirmed) \n",
    "url_deaths = \"https://raw.githubusercontent.com/CSSEGISandData/COVID-19/master/csse_covid_19_data/csse_covid_19_time_series/time_series_19-covid-Deaths.csv\"\n",
    "deaths = pd.read_csv(url_deaths)"
   ]
  },
  {
   "cell_type": "markdown",
   "metadata": {},
   "source": [
    "### Eurostat population data"
   ]
  },
  {
   "cell_type": "code",
   "execution_count": 3,
   "metadata": {
    "scrolled": true
   },
   "outputs": [],
   "source": [
    "url_population = \"https://raw.githubusercontent.com/luigiselmi/datascience/master/data/eurostat_population_by_age_2019.csv\"\n",
    "population = pd.read_csv(url_population)"
   ]
  },
  {
   "cell_type": "markdown",
   "metadata": {},
   "source": [
    "### Eurostat health care facilities\n",
    "Number of available beds (2017)"
   ]
  },
  {
   "cell_type": "code",
   "execution_count": 4,
   "metadata": {},
   "outputs": [],
   "source": [
    "url_beds = \"https://raw.githubusercontent.com/luigiselmi/datascience/master/data/eurostat_hlth_rs_bds.csv\"\n",
    "beds = pd.read_csv(url_beds)"
   ]
  },
  {
   "cell_type": "markdown",
   "metadata": {},
   "source": [
    "***\n",
    "## Italy"
   ]
  },
  {
   "cell_type": "code",
   "execution_count": 5,
   "metadata": {},
   "outputs": [
    {
     "name": "stdout",
     "output_type": "stream",
     "text": [
      "Italy's population (2019) = 60359546\n"
     ]
    }
   ],
   "source": [
    "population_it = population[population['country_code'] == 'IT']['total'].values\n",
    "print(\"Italy's population (2019) = %d\"%population_it)"
   ]
  },
  {
   "cell_type": "code",
   "execution_count": 6,
   "metadata": {},
   "outputs": [
    {
     "name": "stdout",
     "output_type": "stream",
     "text": [
      "Italy's public and private health care facilities, available beds in 2017 = 192548\n"
     ]
    }
   ],
   "source": [
    "beds_it = beds[beds['country_code'] == 'IT']['2017'].values\n",
    "print(\"Italy's public and private health care facilities, available beds in 2017 = %d\"%beds_it)"
   ]
  },
  {
   "cell_type": "code",
   "execution_count": 7,
   "metadata": {},
   "outputs": [
    {
     "name": "stdout",
     "output_type": "stream",
     "text": [
      "Number of persons per bed = 313\n"
     ]
    }
   ],
   "source": [
    "people_per_bed_it =  population_it / beds_it \n",
    "print(\"Number of persons per bed = %.0f\"%people_per_bed_it)"
   ]
  },
  {
   "cell_type": "markdown",
   "metadata": {},
   "source": [
    "### Confirmed infections"
   ]
  },
  {
   "cell_type": "code",
   "execution_count": 8,
   "metadata": {},
   "outputs": [
    {
     "data": {
      "text/html": [
       "<div>\n",
       "<style scoped>\n",
       "    .dataframe tbody tr th:only-of-type {\n",
       "        vertical-align: middle;\n",
       "    }\n",
       "\n",
       "    .dataframe tbody tr th {\n",
       "        vertical-align: top;\n",
       "    }\n",
       "\n",
       "    .dataframe thead th {\n",
       "        text-align: right;\n",
       "    }\n",
       "</style>\n",
       "<table border=\"1\" class=\"dataframe\">\n",
       "  <thead>\n",
       "    <tr style=\"text-align: right;\">\n",
       "      <th></th>\n",
       "      <th>1/22/20</th>\n",
       "      <th>1/23/20</th>\n",
       "      <th>1/24/20</th>\n",
       "      <th>1/25/20</th>\n",
       "      <th>1/26/20</th>\n",
       "      <th>1/27/20</th>\n",
       "      <th>1/28/20</th>\n",
       "      <th>1/29/20</th>\n",
       "      <th>1/30/20</th>\n",
       "      <th>1/31/20</th>\n",
       "      <th>...</th>\n",
       "      <th>3/3/20</th>\n",
       "      <th>3/4/20</th>\n",
       "      <th>3/5/20</th>\n",
       "      <th>3/6/20</th>\n",
       "      <th>3/7/20</th>\n",
       "      <th>3/8/20</th>\n",
       "      <th>3/9/20</th>\n",
       "      <th>3/10/20</th>\n",
       "      <th>3/11/20</th>\n",
       "      <th>3/12/20</th>\n",
       "    </tr>\n",
       "  </thead>\n",
       "  <tbody>\n",
       "    <tr>\n",
       "      <td>16</td>\n",
       "      <td>0</td>\n",
       "      <td>0</td>\n",
       "      <td>0</td>\n",
       "      <td>0</td>\n",
       "      <td>0</td>\n",
       "      <td>0</td>\n",
       "      <td>0</td>\n",
       "      <td>0</td>\n",
       "      <td>0</td>\n",
       "      <td>2</td>\n",
       "      <td>...</td>\n",
       "      <td>2502</td>\n",
       "      <td>3089</td>\n",
       "      <td>3858</td>\n",
       "      <td>4636</td>\n",
       "      <td>5883</td>\n",
       "      <td>7375</td>\n",
       "      <td>9172</td>\n",
       "      <td>10149</td>\n",
       "      <td>12462</td>\n",
       "      <td>12462</td>\n",
       "    </tr>\n",
       "  </tbody>\n",
       "</table>\n",
       "<p>1 rows × 51 columns</p>\n",
       "</div>"
      ],
      "text/plain": [
       "   1/22/20 1/23/20 1/24/20 1/25/20 1/26/20 1/27/20 1/28/20 1/29/20 1/30/20  \\\n",
       "16       0       0       0       0       0       0       0       0       0   \n",
       "\n",
       "   1/31/20  ... 3/3/20 3/4/20 3/5/20 3/6/20 3/7/20 3/8/20 3/9/20 3/10/20  \\\n",
       "16       2  ...   2502   3089   3858   4636   5883   7375   9172   10149   \n",
       "\n",
       "   3/11/20 3/12/20  \n",
       "16   12462   12462  \n",
       "\n",
       "[1 rows x 51 columns]"
      ]
     },
     "execution_count": 8,
     "metadata": {},
     "output_type": "execute_result"
    }
   ],
   "source": [
    "confirmed_infections_italy = confirmed[confirmed['Country/Region'] == 'Italy'].T[4:]\n",
    "confirmed_infections_italy.T # show the data in a row"
   ]
  },
  {
   "cell_type": "markdown",
   "metadata": {},
   "source": [
    "### Cumulative deaths"
   ]
  },
  {
   "cell_type": "code",
   "execution_count": 9,
   "metadata": {},
   "outputs": [
    {
     "data": {
      "text/html": [
       "<div>\n",
       "<style scoped>\n",
       "    .dataframe tbody tr th:only-of-type {\n",
       "        vertical-align: middle;\n",
       "    }\n",
       "\n",
       "    .dataframe tbody tr th {\n",
       "        vertical-align: top;\n",
       "    }\n",
       "\n",
       "    .dataframe thead th {\n",
       "        text-align: right;\n",
       "    }\n",
       "</style>\n",
       "<table border=\"1\" class=\"dataframe\">\n",
       "  <thead>\n",
       "    <tr style=\"text-align: right;\">\n",
       "      <th></th>\n",
       "      <th>1/22/20</th>\n",
       "      <th>1/23/20</th>\n",
       "      <th>1/24/20</th>\n",
       "      <th>1/25/20</th>\n",
       "      <th>1/26/20</th>\n",
       "      <th>1/27/20</th>\n",
       "      <th>1/28/20</th>\n",
       "      <th>1/29/20</th>\n",
       "      <th>1/30/20</th>\n",
       "      <th>1/31/20</th>\n",
       "      <th>...</th>\n",
       "      <th>3/3/20</th>\n",
       "      <th>3/4/20</th>\n",
       "      <th>3/5/20</th>\n",
       "      <th>3/6/20</th>\n",
       "      <th>3/7/20</th>\n",
       "      <th>3/8/20</th>\n",
       "      <th>3/9/20</th>\n",
       "      <th>3/10/20</th>\n",
       "      <th>3/11/20</th>\n",
       "      <th>3/12/20</th>\n",
       "    </tr>\n",
       "  </thead>\n",
       "  <tbody>\n",
       "    <tr>\n",
       "      <td>16</td>\n",
       "      <td>0</td>\n",
       "      <td>0</td>\n",
       "      <td>0</td>\n",
       "      <td>0</td>\n",
       "      <td>0</td>\n",
       "      <td>0</td>\n",
       "      <td>0</td>\n",
       "      <td>0</td>\n",
       "      <td>0</td>\n",
       "      <td>0</td>\n",
       "      <td>...</td>\n",
       "      <td>79</td>\n",
       "      <td>107</td>\n",
       "      <td>148</td>\n",
       "      <td>197</td>\n",
       "      <td>233</td>\n",
       "      <td>366</td>\n",
       "      <td>463</td>\n",
       "      <td>631</td>\n",
       "      <td>827</td>\n",
       "      <td>827</td>\n",
       "    </tr>\n",
       "  </tbody>\n",
       "</table>\n",
       "<p>1 rows × 51 columns</p>\n",
       "</div>"
      ],
      "text/plain": [
       "   1/22/20 1/23/20 1/24/20 1/25/20 1/26/20 1/27/20 1/28/20 1/29/20 1/30/20  \\\n",
       "16       0       0       0       0       0       0       0       0       0   \n",
       "\n",
       "   1/31/20  ... 3/3/20 3/4/20 3/5/20 3/6/20 3/7/20 3/8/20 3/9/20 3/10/20  \\\n",
       "16       0  ...     79    107    148    197    233    366    463     631   \n",
       "\n",
       "   3/11/20 3/12/20  \n",
       "16     827     827  \n",
       "\n",
       "[1 rows x 51 columns]"
      ]
     },
     "execution_count": 9,
     "metadata": {},
     "output_type": "execute_result"
    }
   ],
   "source": [
    "cumulative_deaths_italy = deaths[deaths['Country/Region'] == 'Italy'].T[4:]\n",
    "cumulative_deaths_italy.T # show the data in a row"
   ]
  },
  {
   "cell_type": "markdown",
   "metadata": {},
   "source": [
    "### Deaths per day\n",
    "The data gives the cumulative deaths so the deaths per day is the difference between two consecutive days"
   ]
  },
  {
   "cell_type": "code",
   "execution_count": 10,
   "metadata": {},
   "outputs": [
    {
     "data": {
      "text/plain": [
       "51"
      ]
     },
     "execution_count": 10,
     "metadata": {},
     "output_type": "execute_result"
    }
   ],
   "source": [
    "days = cumulative_deaths_italy.index\n",
    "days.size"
   ]
  },
  {
   "cell_type": "code",
   "execution_count": 11,
   "metadata": {},
   "outputs": [],
   "source": [
    "deaths_per_day_italy = [cumulative_deaths_italy.values[i + 1][0] - cumulative_deaths_italy.values[i][0] for i in range(0,days.size - 1)]"
   ]
  },
  {
   "cell_type": "code",
   "execution_count": 12,
   "metadata": {},
   "outputs": [],
   "source": [
    "# resize the default plot\n",
    "fig_size = plt.rcParams[\"figure.figsize\"]\n",
    "fig_size[0] = 20\n",
    "fig_size[1] = 10\n",
    "plt.rcParams[\"figure.figsize\"] = fig_size"
   ]
  },
  {
   "cell_type": "code",
   "execution_count": 13,
   "metadata": {},
   "outputs": [
    {
     "data": {
      "image/png": "[encoded data removed]",
      "text/plain": [
       "<Figure size 1440x720 with 1 Axes>"
      ]
     },
     "metadata": {
      "needs_background": "light"
     },
     "output_type": "display_data"
    }
   ],
   "source": [
    "plot_deaths_per_day_italy = plt.bar(days[1:days.size], deaths_per_day_italy[:days.size - 1])\n",
    "plt.xticks(rotation=70)\n",
    "plt.show(plot_deaths_per_day_italy)"
   ]
  },
  {
   "cell_type": "markdown",
   "metadata": {},
   "source": [
    "### Case fatality"
   ]
  },
  {
   "cell_type": "code",
   "execution_count": 14,
   "metadata": {},
   "outputs": [
    {
     "name": "stdout",
     "output_type": "stream",
     "text": [
      "Italy's case fatality = 6.6\n"
     ]
    }
   ],
   "source": [
    "infections_italy = confirmed_infections_italy.values[days.size - 1]\n",
    "deaths_italy = cumulative_deaths_italy.values[days.size - 1];\n",
    "case_fatality_italy = (deaths_italy / infections_italy) * 100 \n",
    "print(\"Italy's case fatality = %.1f\"%case_fatality_italy)  "
   ]
  },
  {
   "cell_type": "markdown",
   "metadata": {},
   "source": [
    "***\n",
    "## Germany"
   ]
  },
  {
   "cell_type": "code",
   "execution_count": 15,
   "metadata": {},
   "outputs": [
    {
     "name": "stdout",
     "output_type": "stream",
     "text": [
      "Germany's population (2019) = 83019213\n"
     ]
    }
   ],
   "source": [
    "population_de = population[population['country_code'] == 'DE']['total']\n",
    "print(\"Germany's population (2019) = %d\"%population_de)"
   ]
  },
  {
   "cell_type": "code",
   "execution_count": 16,
   "metadata": {},
   "outputs": [
    {
     "name": "stdout",
     "output_type": "stream",
     "text": [
      "Germany's public and private health care facilities, available beds in 2017 = 661448\n"
     ]
    }
   ],
   "source": [
    "beds_de = beds[beds['country_code'] == 'DE']['2017'].values\n",
    "print(\"Germany's public and private health care facilities, available beds in 2017 = %d\"%beds_de)"
   ]
  },
  {
   "cell_type": "code",
   "execution_count": 17,
   "metadata": {},
   "outputs": [
    {
     "name": "stdout",
     "output_type": "stream",
     "text": [
      "Number of persons per bed = 126\n"
     ]
    }
   ],
   "source": [
    "people_per_bed_de =  population_de / beds_de \n",
    "print(\"Number of persons per bed = %.0f\"%people_per_bed_de)"
   ]
  },
  {
   "cell_type": "markdown",
   "metadata": {},
   "source": [
    "### Confirmed infections"
   ]
  },
  {
   "cell_type": "code",
   "execution_count": 18,
   "metadata": {},
   "outputs": [
    {
     "data": {
      "text/html": [
       "<div>\n",
       "<style scoped>\n",
       "    .dataframe tbody tr th:only-of-type {\n",
       "        vertical-align: middle;\n",
       "    }\n",
       "\n",
       "    .dataframe tbody tr th {\n",
       "        vertical-align: top;\n",
       "    }\n",
       "\n",
       "    .dataframe thead th {\n",
       "        text-align: right;\n",
       "    }\n",
       "</style>\n",
       "<table border=\"1\" class=\"dataframe\">\n",
       "  <thead>\n",
       "    <tr style=\"text-align: right;\">\n",
       "      <th></th>\n",
       "      <th>1/22/20</th>\n",
       "      <th>1/23/20</th>\n",
       "      <th>1/24/20</th>\n",
       "      <th>1/25/20</th>\n",
       "      <th>1/26/20</th>\n",
       "      <th>1/27/20</th>\n",
       "      <th>1/28/20</th>\n",
       "      <th>1/29/20</th>\n",
       "      <th>1/30/20</th>\n",
       "      <th>1/31/20</th>\n",
       "      <th>...</th>\n",
       "      <th>3/3/20</th>\n",
       "      <th>3/4/20</th>\n",
       "      <th>3/5/20</th>\n",
       "      <th>3/6/20</th>\n",
       "      <th>3/7/20</th>\n",
       "      <th>3/8/20</th>\n",
       "      <th>3/9/20</th>\n",
       "      <th>3/10/20</th>\n",
       "      <th>3/11/20</th>\n",
       "      <th>3/12/20</th>\n",
       "    </tr>\n",
       "  </thead>\n",
       "  <tbody>\n",
       "    <tr>\n",
       "      <td>11</td>\n",
       "      <td>0</td>\n",
       "      <td>0</td>\n",
       "      <td>0</td>\n",
       "      <td>0</td>\n",
       "      <td>0</td>\n",
       "      <td>1</td>\n",
       "      <td>4</td>\n",
       "      <td>4</td>\n",
       "      <td>4</td>\n",
       "      <td>5</td>\n",
       "      <td>...</td>\n",
       "      <td>196</td>\n",
       "      <td>262</td>\n",
       "      <td>482</td>\n",
       "      <td>670</td>\n",
       "      <td>799</td>\n",
       "      <td>1040</td>\n",
       "      <td>1176</td>\n",
       "      <td>1457</td>\n",
       "      <td>1908</td>\n",
       "      <td>2078</td>\n",
       "    </tr>\n",
       "  </tbody>\n",
       "</table>\n",
       "<p>1 rows × 51 columns</p>\n",
       "</div>"
      ],
      "text/plain": [
       "   1/22/20 1/23/20 1/24/20 1/25/20 1/26/20 1/27/20 1/28/20 1/29/20 1/30/20  \\\n",
       "11       0       0       0       0       0       1       4       4       4   \n",
       "\n",
       "   1/31/20  ... 3/3/20 3/4/20 3/5/20 3/6/20 3/7/20 3/8/20 3/9/20 3/10/20  \\\n",
       "11       5  ...    196    262    482    670    799   1040   1176    1457   \n",
       "\n",
       "   3/11/20 3/12/20  \n",
       "11    1908    2078  \n",
       "\n",
       "[1 rows x 51 columns]"
      ]
     },
     "execution_count": 18,
     "metadata": {},
     "output_type": "execute_result"
    }
   ],
   "source": [
    "confirmed_infections_germany = confirmed[confirmed['Country/Region'] == 'Germany'].T[4:]\n",
    "confirmed_infections_germany.T # show data"
   ]
  },
  {
   "cell_type": "markdown",
   "metadata": {},
   "source": [
    "### Cumulative deaths"
   ]
  },
  {
   "cell_type": "code",
   "execution_count": 19,
   "metadata": {},
   "outputs": [
    {
     "data": {
      "text/html": [
       "<div>\n",
       "<style scoped>\n",
       "    .dataframe tbody tr th:only-of-type {\n",
       "        vertical-align: middle;\n",
       "    }\n",
       "\n",
       "    .dataframe tbody tr th {\n",
       "        vertical-align: top;\n",
       "    }\n",
       "\n",
       "    .dataframe thead th {\n",
       "        text-align: right;\n",
       "    }\n",
       "</style>\n",
       "<table border=\"1\" class=\"dataframe\">\n",
       "  <thead>\n",
       "    <tr style=\"text-align: right;\">\n",
       "      <th></th>\n",
       "      <th>1/22/20</th>\n",
       "      <th>1/23/20</th>\n",
       "      <th>1/24/20</th>\n",
       "      <th>1/25/20</th>\n",
       "      <th>1/26/20</th>\n",
       "      <th>1/27/20</th>\n",
       "      <th>1/28/20</th>\n",
       "      <th>1/29/20</th>\n",
       "      <th>1/30/20</th>\n",
       "      <th>1/31/20</th>\n",
       "      <th>...</th>\n",
       "      <th>3/3/20</th>\n",
       "      <th>3/4/20</th>\n",
       "      <th>3/5/20</th>\n",
       "      <th>3/6/20</th>\n",
       "      <th>3/7/20</th>\n",
       "      <th>3/8/20</th>\n",
       "      <th>3/9/20</th>\n",
       "      <th>3/10/20</th>\n",
       "      <th>3/11/20</th>\n",
       "      <th>3/12/20</th>\n",
       "    </tr>\n",
       "  </thead>\n",
       "  <tbody>\n",
       "    <tr>\n",
       "      <td>11</td>\n",
       "      <td>0</td>\n",
       "      <td>0</td>\n",
       "      <td>0</td>\n",
       "      <td>0</td>\n",
       "      <td>0</td>\n",
       "      <td>0</td>\n",
       "      <td>0</td>\n",
       "      <td>0</td>\n",
       "      <td>0</td>\n",
       "      <td>0</td>\n",
       "      <td>...</td>\n",
       "      <td>0</td>\n",
       "      <td>0</td>\n",
       "      <td>0</td>\n",
       "      <td>0</td>\n",
       "      <td>0</td>\n",
       "      <td>0</td>\n",
       "      <td>2</td>\n",
       "      <td>2</td>\n",
       "      <td>3</td>\n",
       "      <td>3</td>\n",
       "    </tr>\n",
       "  </tbody>\n",
       "</table>\n",
       "<p>1 rows × 51 columns</p>\n",
       "</div>"
      ],
      "text/plain": [
       "   1/22/20 1/23/20 1/24/20 1/25/20 1/26/20 1/27/20 1/28/20 1/29/20 1/30/20  \\\n",
       "11       0       0       0       0       0       0       0       0       0   \n",
       "\n",
       "   1/31/20  ... 3/3/20 3/4/20 3/5/20 3/6/20 3/7/20 3/8/20 3/9/20 3/10/20  \\\n",
       "11       0  ...      0      0      0      0      0      0      2       2   \n",
       "\n",
       "   3/11/20 3/12/20  \n",
       "11       3       3  \n",
       "\n",
       "[1 rows x 51 columns]"
      ]
     },
     "execution_count": 19,
     "metadata": {},
     "output_type": "execute_result"
    }
   ],
   "source": [
    "cumulative_deaths_germany = deaths[deaths['Country/Region'] == 'Germany'].T[4:]\n",
    "cumulative_deaths_germany.T # show data"
   ]
  },
  {
   "cell_type": "markdown",
   "metadata": {},
   "source": [
    "### Deaths per day"
   ]
  },
  {
   "cell_type": "markdown",
   "metadata": {},
   "source": [
    "The data gives the cumulative deaths so the deaths per day is the difference between two consecutive days"
   ]
  },
  {
   "cell_type": "code",
   "execution_count": 20,
   "metadata": {},
   "outputs": [],
   "source": [
    "deaths_per_day_germany = [cumulative_deaths_germany.values[i + 1][0] - cumulative_deaths_germany.values[i][0] for i in range(0,days.size - 1)]"
   ]
  },
  {
   "cell_type": "code",
   "execution_count": 21,
   "metadata": {},
   "outputs": [
    {
     "data": {
      "image/png": "[encoded data removed]",
      "text/plain": [
       "<Figure size 1440x720 with 1 Axes>"
      ]
     },
     "metadata": {
      "needs_background": "light"
     },
     "output_type": "display_data"
    }
   ],
   "source": [
    "plot_deaths_per_day_germany = plt.bar(days[1:days.size], deaths_per_day_germany[:days.size - 1], color='orange')\n",
    "plt.xticks(rotation=70)\n",
    "plt.show(plot_deaths_per_day_germany)"
   ]
  },
  {
   "cell_type": "markdown",
   "metadata": {},
   "source": [
    "### Case fatality"
   ]
  },
  {
   "cell_type": "code",
   "execution_count": 22,
   "metadata": {},
   "outputs": [
    {
     "name": "stdout",
     "output_type": "stream",
     "text": [
      "Germany's case fatality = 0.1\n"
     ]
    }
   ],
   "source": [
    "infections_germany = confirmed_infections_germany.values[days.size - 1]\n",
    "deaths_germany = cumulative_deaths_germany.values[days.size - 1];\n",
    "case_fatality_germany = (deaths_germany / infections_germany) * 100 \n",
    "print(\"Germany's case fatality = %.1f\"%case_fatality_germany)  "
   ]
  },
  {
   "cell_type": "markdown",
   "metadata": {},
   "source": [
    "***\n",
    "## France"
   ]
  },
  {
   "cell_type": "code",
   "execution_count": 23,
   "metadata": {},
   "outputs": [
    {
     "name": "stdout",
     "output_type": "stream",
     "text": [
      "France's population (2019) = 67012883\n"
     ]
    }
   ],
   "source": [
    "population_fr = population[population['country_code'] == 'FR']['total']\n",
    "print(\"France's population (2019) = %d\"%population_fr)"
   ]
  },
  {
   "cell_type": "code",
   "execution_count": 24,
   "metadata": {},
   "outputs": [
    {
     "name": "stdout",
     "output_type": "stream",
     "text": [
      "France's public and private health care facilities, available beds in 2017 = 399865\n"
     ]
    }
   ],
   "source": [
    "beds_fr = beds[beds['country_code'] == 'FR']['2017'].values\n",
    "print(\"France's public and private health care facilities, available beds in 2017 = %d\"%beds_fr)"
   ]
  },
  {
   "cell_type": "code",
   "execution_count": 25,
   "metadata": {},
   "outputs": [
    {
     "name": "stdout",
     "output_type": "stream",
     "text": [
      "Number of persons per bed = 168\n"
     ]
    }
   ],
   "source": [
    "people_per_bed_fr =  population_fr / beds_fr \n",
    "print(\"Number of persons per bed = %.0f\"%people_per_bed_fr)"
   ]
  },
  {
   "cell_type": "markdown",
   "metadata": {},
   "source": [
    "### Confirmed infections"
   ]
  },
  {
   "cell_type": "code",
   "execution_count": 26,
   "metadata": {},
   "outputs": [
    {
     "data": {
      "text/html": [
       "<div>\n",
       "<style scoped>\n",
       "    .dataframe tbody tr th:only-of-type {\n",
       "        vertical-align: middle;\n",
       "    }\n",
       "\n",
       "    .dataframe tbody tr th {\n",
       "        vertical-align: top;\n",
       "    }\n",
       "\n",
       "    .dataframe thead th {\n",
       "        text-align: right;\n",
       "    }\n",
       "</style>\n",
       "<table border=\"1\" class=\"dataframe\">\n",
       "  <thead>\n",
       "    <tr style=\"text-align: right;\">\n",
       "      <th></th>\n",
       "      <th>1/22/20</th>\n",
       "      <th>1/23/20</th>\n",
       "      <th>1/24/20</th>\n",
       "      <th>1/25/20</th>\n",
       "      <th>1/26/20</th>\n",
       "      <th>1/27/20</th>\n",
       "      <th>1/28/20</th>\n",
       "      <th>1/29/20</th>\n",
       "      <th>1/30/20</th>\n",
       "      <th>1/31/20</th>\n",
       "      <th>...</th>\n",
       "      <th>3/3/20</th>\n",
       "      <th>3/4/20</th>\n",
       "      <th>3/5/20</th>\n",
       "      <th>3/6/20</th>\n",
       "      <th>3/7/20</th>\n",
       "      <th>3/8/20</th>\n",
       "      <th>3/9/20</th>\n",
       "      <th>3/10/20</th>\n",
       "      <th>3/11/20</th>\n",
       "      <th>3/12/20</th>\n",
       "    </tr>\n",
       "  </thead>\n",
       "  <tbody>\n",
       "    <tr>\n",
       "      <td>159</td>\n",
       "      <td>0</td>\n",
       "      <td>0</td>\n",
       "      <td>2</td>\n",
       "      <td>3</td>\n",
       "      <td>3</td>\n",
       "      <td>3</td>\n",
       "      <td>4</td>\n",
       "      <td>5</td>\n",
       "      <td>5</td>\n",
       "      <td>5</td>\n",
       "      <td>...</td>\n",
       "      <td>204</td>\n",
       "      <td>285</td>\n",
       "      <td>377</td>\n",
       "      <td>653</td>\n",
       "      <td>949</td>\n",
       "      <td>1126</td>\n",
       "      <td>1209</td>\n",
       "      <td>1784</td>\n",
       "      <td>2281</td>\n",
       "      <td>2281</td>\n",
       "    </tr>\n",
       "  </tbody>\n",
       "</table>\n",
       "<p>1 rows × 51 columns</p>\n",
       "</div>"
      ],
      "text/plain": [
       "    1/22/20 1/23/20 1/24/20 1/25/20 1/26/20 1/27/20 1/28/20 1/29/20 1/30/20  \\\n",
       "159       0       0       2       3       3       3       4       5       5   \n",
       "\n",
       "    1/31/20  ... 3/3/20 3/4/20 3/5/20 3/6/20 3/7/20 3/8/20 3/9/20 3/10/20  \\\n",
       "159       5  ...    204    285    377    653    949   1126   1209    1784   \n",
       "\n",
       "    3/11/20 3/12/20  \n",
       "159    2281    2281  \n",
       "\n",
       "[1 rows x 51 columns]"
      ]
     },
     "execution_count": 26,
     "metadata": {},
     "output_type": "execute_result"
    }
   ],
   "source": [
    "confirmed_infections_france = confirmed[confirmed['Province/State'] == 'France'].T[4:]\n",
    "confirmed_infections_france.T # show data"
   ]
  },
  {
   "cell_type": "markdown",
   "metadata": {},
   "source": [
    "### Cumulative deaths"
   ]
  },
  {
   "cell_type": "code",
   "execution_count": 27,
   "metadata": {},
   "outputs": [
    {
     "data": {
      "text/html": [
       "<div>\n",
       "<style scoped>\n",
       "    .dataframe tbody tr th:only-of-type {\n",
       "        vertical-align: middle;\n",
       "    }\n",
       "\n",
       "    .dataframe tbody tr th {\n",
       "        vertical-align: top;\n",
       "    }\n",
       "\n",
       "    .dataframe thead th {\n",
       "        text-align: right;\n",
       "    }\n",
       "</style>\n",
       "<table border=\"1\" class=\"dataframe\">\n",
       "  <thead>\n",
       "    <tr style=\"text-align: right;\">\n",
       "      <th></th>\n",
       "      <th>1/22/20</th>\n",
       "      <th>1/23/20</th>\n",
       "      <th>1/24/20</th>\n",
       "      <th>1/25/20</th>\n",
       "      <th>1/26/20</th>\n",
       "      <th>1/27/20</th>\n",
       "      <th>1/28/20</th>\n",
       "      <th>1/29/20</th>\n",
       "      <th>1/30/20</th>\n",
       "      <th>1/31/20</th>\n",
       "      <th>...</th>\n",
       "      <th>3/3/20</th>\n",
       "      <th>3/4/20</th>\n",
       "      <th>3/5/20</th>\n",
       "      <th>3/6/20</th>\n",
       "      <th>3/7/20</th>\n",
       "      <th>3/8/20</th>\n",
       "      <th>3/9/20</th>\n",
       "      <th>3/10/20</th>\n",
       "      <th>3/11/20</th>\n",
       "      <th>3/12/20</th>\n",
       "    </tr>\n",
       "  </thead>\n",
       "  <tbody>\n",
       "    <tr>\n",
       "      <td>159</td>\n",
       "      <td>0</td>\n",
       "      <td>0</td>\n",
       "      <td>0</td>\n",
       "      <td>0</td>\n",
       "      <td>0</td>\n",
       "      <td>0</td>\n",
       "      <td>0</td>\n",
       "      <td>0</td>\n",
       "      <td>0</td>\n",
       "      <td>0</td>\n",
       "      <td>...</td>\n",
       "      <td>4</td>\n",
       "      <td>4</td>\n",
       "      <td>6</td>\n",
       "      <td>9</td>\n",
       "      <td>11</td>\n",
       "      <td>19</td>\n",
       "      <td>19</td>\n",
       "      <td>33</td>\n",
       "      <td>48</td>\n",
       "      <td>48</td>\n",
       "    </tr>\n",
       "  </tbody>\n",
       "</table>\n",
       "<p>1 rows × 51 columns</p>\n",
       "</div>"
      ],
      "text/plain": [
       "    1/22/20 1/23/20 1/24/20 1/25/20 1/26/20 1/27/20 1/28/20 1/29/20 1/30/20  \\\n",
       "159       0       0       0       0       0       0       0       0       0   \n",
       "\n",
       "    1/31/20  ... 3/3/20 3/4/20 3/5/20 3/6/20 3/7/20 3/8/20 3/9/20 3/10/20  \\\n",
       "159       0  ...      4      4      6      9     11     19     19      33   \n",
       "\n",
       "    3/11/20 3/12/20  \n",
       "159      48      48  \n",
       "\n",
       "[1 rows x 51 columns]"
      ]
     },
     "execution_count": 27,
     "metadata": {},
     "output_type": "execute_result"
    }
   ],
   "source": [
    "cumulative_deaths_france = deaths[deaths['Province/State'] == 'France'].T[4:]\n",
    "cumulative_deaths_france.T # show data"
   ]
  },
  {
   "cell_type": "markdown",
   "metadata": {},
   "source": [
    "### Deaths per day"
   ]
  },
  {
   "cell_type": "markdown",
   "metadata": {},
   "source": [
    "The data gives the cumulative deaths so the deaths per day is the difference between two consecutive days"
   ]
  },
  {
   "cell_type": "code",
   "execution_count": 28,
   "metadata": {},
   "outputs": [],
   "source": [
    "deaths_per_day_france = [cumulative_deaths_france.values[i + 1][0] - cumulative_deaths_france.values[i][0] for i in range(0,days.size - 1)]"
   ]
  },
  {
   "cell_type": "code",
   "execution_count": 29,
   "metadata": {},
   "outputs": [
    {
     "data": {
      "image/png": "[encoded data removed]",
      "text/plain": [
       "<Figure size 1440x720 with 1 Axes>"
      ]
     },
     "metadata": {
      "needs_background": "light"
     },
     "output_type": "display_data"
    }
   ],
   "source": [
    "plot_deaths_per_day_france = plt.bar(days[1:days.size], deaths_per_day_france[:days.size - 1], color='green')\n",
    "plt.xticks(rotation=70)\n",
    "plt.show(plot_deaths_per_day_france)"
   ]
  },
  {
   "cell_type": "markdown",
   "metadata": {},
   "source": [
    "### Case fatality"
   ]
  },
  {
   "cell_type": "code",
   "execution_count": 30,
   "metadata": {},
   "outputs": [
    {
     "name": "stdout",
     "output_type": "stream",
     "text": [
      "France's case fatality = 2.1\n"
     ]
    }
   ],
   "source": [
    "infections_france = confirmed_infections_france.values[days.size - 1]\n",
    "deaths_france = cumulative_deaths_france.values[days.size - 1];\n",
    "case_fatality_france = (deaths_france / infections_france) * 100 \n",
    "print(\"France's case fatality = %.1f\"%case_fatality_france)  "
   ]
  },
  {
   "cell_type": "markdown",
   "metadata": {},
   "source": [
    "***\n",
    "## Spain"
   ]
  },
  {
   "cell_type": "code",
   "execution_count": 31,
   "metadata": {},
   "outputs": [
    {
     "name": "stdout",
     "output_type": "stream",
     "text": [
      "Spain's population (2019) = 46937060\n"
     ]
    }
   ],
   "source": [
    "population_es = population[population['country_code'] == 'ES']['total']\n",
    "print(\"Spain's population (2019) = %d\"%population_es)"
   ]
  },
  {
   "cell_type": "code",
   "execution_count": 32,
   "metadata": {},
   "outputs": [
    {
     "name": "stdout",
     "output_type": "stream",
     "text": [
      "Spain's public and private health care facilities, available beds in 2017 = 138511\n"
     ]
    }
   ],
   "source": [
    "beds_es = beds[beds['country_code'] == 'ES']['2017'].values\n",
    "print(\"Spain's public and private health care facilities, available beds in 2017 = %d\"%beds_es)"
   ]
  },
  {
   "cell_type": "code",
   "execution_count": 33,
   "metadata": {},
   "outputs": [
    {
     "name": "stdout",
     "output_type": "stream",
     "text": [
      "Number of persons per bed = 339\n"
     ]
    }
   ],
   "source": [
    "people_per_bed_es =  population_es / beds_es \n",
    "print(\"Number of persons per bed = %.0f\"%people_per_bed_es)"
   ]
  },
  {
   "cell_type": "markdown",
   "metadata": {},
   "source": [
    "### Confirmed infections"
   ]
  },
  {
   "cell_type": "code",
   "execution_count": 34,
   "metadata": {},
   "outputs": [
    {
     "data": {
      "text/html": [
       "<div>\n",
       "<style scoped>\n",
       "    .dataframe tbody tr th:only-of-type {\n",
       "        vertical-align: middle;\n",
       "    }\n",
       "\n",
       "    .dataframe tbody tr th {\n",
       "        vertical-align: top;\n",
       "    }\n",
       "\n",
       "    .dataframe thead th {\n",
       "        text-align: right;\n",
       "    }\n",
       "</style>\n",
       "<table border=\"1\" class=\"dataframe\">\n",
       "  <thead>\n",
       "    <tr style=\"text-align: right;\">\n",
       "      <th></th>\n",
       "      <th>1/22/20</th>\n",
       "      <th>1/23/20</th>\n",
       "      <th>1/24/20</th>\n",
       "      <th>1/25/20</th>\n",
       "      <th>1/26/20</th>\n",
       "      <th>1/27/20</th>\n",
       "      <th>1/28/20</th>\n",
       "      <th>1/29/20</th>\n",
       "      <th>1/30/20</th>\n",
       "      <th>1/31/20</th>\n",
       "      <th>...</th>\n",
       "      <th>3/3/20</th>\n",
       "      <th>3/4/20</th>\n",
       "      <th>3/5/20</th>\n",
       "      <th>3/6/20</th>\n",
       "      <th>3/7/20</th>\n",
       "      <th>3/8/20</th>\n",
       "      <th>3/9/20</th>\n",
       "      <th>3/10/20</th>\n",
       "      <th>3/11/20</th>\n",
       "      <th>3/12/20</th>\n",
       "    </tr>\n",
       "  </thead>\n",
       "  <tbody>\n",
       "    <tr>\n",
       "      <td>18</td>\n",
       "      <td>0</td>\n",
       "      <td>0</td>\n",
       "      <td>0</td>\n",
       "      <td>0</td>\n",
       "      <td>0</td>\n",
       "      <td>0</td>\n",
       "      <td>0</td>\n",
       "      <td>0</td>\n",
       "      <td>0</td>\n",
       "      <td>0</td>\n",
       "      <td>...</td>\n",
       "      <td>165</td>\n",
       "      <td>222</td>\n",
       "      <td>259</td>\n",
       "      <td>400</td>\n",
       "      <td>500</td>\n",
       "      <td>673</td>\n",
       "      <td>1073</td>\n",
       "      <td>1695</td>\n",
       "      <td>2277</td>\n",
       "      <td>2277</td>\n",
       "    </tr>\n",
       "  </tbody>\n",
       "</table>\n",
       "<p>1 rows × 51 columns</p>\n",
       "</div>"
      ],
      "text/plain": [
       "   1/22/20 1/23/20 1/24/20 1/25/20 1/26/20 1/27/20 1/28/20 1/29/20 1/30/20  \\\n",
       "18       0       0       0       0       0       0       0       0       0   \n",
       "\n",
       "   1/31/20  ... 3/3/20 3/4/20 3/5/20 3/6/20 3/7/20 3/8/20 3/9/20 3/10/20  \\\n",
       "18       0  ...    165    222    259    400    500    673   1073    1695   \n",
       "\n",
       "   3/11/20 3/12/20  \n",
       "18    2277    2277  \n",
       "\n",
       "[1 rows x 51 columns]"
      ]
     },
     "execution_count": 34,
     "metadata": {},
     "output_type": "execute_result"
    }
   ],
   "source": [
    "confirmed_infections_spain = confirmed[confirmed['Country/Region'] == 'Spain'].T[4:]\n",
    "confirmed_infections_spain.T # show the data in a row"
   ]
  },
  {
   "cell_type": "markdown",
   "metadata": {},
   "source": [
    "### Cumulative deaths"
   ]
  },
  {
   "cell_type": "code",
   "execution_count": 35,
   "metadata": {},
   "outputs": [
    {
     "data": {
      "text/html": [
       "<div>\n",
       "<style scoped>\n",
       "    .dataframe tbody tr th:only-of-type {\n",
       "        vertical-align: middle;\n",
       "    }\n",
       "\n",
       "    .dataframe tbody tr th {\n",
       "        vertical-align: top;\n",
       "    }\n",
       "\n",
       "    .dataframe thead th {\n",
       "        text-align: right;\n",
       "    }\n",
       "</style>\n",
       "<table border=\"1\" class=\"dataframe\">\n",
       "  <thead>\n",
       "    <tr style=\"text-align: right;\">\n",
       "      <th></th>\n",
       "      <th>1/22/20</th>\n",
       "      <th>1/23/20</th>\n",
       "      <th>1/24/20</th>\n",
       "      <th>1/25/20</th>\n",
       "      <th>1/26/20</th>\n",
       "      <th>1/27/20</th>\n",
       "      <th>1/28/20</th>\n",
       "      <th>1/29/20</th>\n",
       "      <th>1/30/20</th>\n",
       "      <th>1/31/20</th>\n",
       "      <th>...</th>\n",
       "      <th>3/3/20</th>\n",
       "      <th>3/4/20</th>\n",
       "      <th>3/5/20</th>\n",
       "      <th>3/6/20</th>\n",
       "      <th>3/7/20</th>\n",
       "      <th>3/8/20</th>\n",
       "      <th>3/9/20</th>\n",
       "      <th>3/10/20</th>\n",
       "      <th>3/11/20</th>\n",
       "      <th>3/12/20</th>\n",
       "    </tr>\n",
       "  </thead>\n",
       "  <tbody>\n",
       "    <tr>\n",
       "      <td>18</td>\n",
       "      <td>0</td>\n",
       "      <td>0</td>\n",
       "      <td>0</td>\n",
       "      <td>0</td>\n",
       "      <td>0</td>\n",
       "      <td>0</td>\n",
       "      <td>0</td>\n",
       "      <td>0</td>\n",
       "      <td>0</td>\n",
       "      <td>0</td>\n",
       "      <td>...</td>\n",
       "      <td>1</td>\n",
       "      <td>2</td>\n",
       "      <td>3</td>\n",
       "      <td>5</td>\n",
       "      <td>10</td>\n",
       "      <td>17</td>\n",
       "      <td>28</td>\n",
       "      <td>35</td>\n",
       "      <td>54</td>\n",
       "      <td>55</td>\n",
       "    </tr>\n",
       "  </tbody>\n",
       "</table>\n",
       "<p>1 rows × 51 columns</p>\n",
       "</div>"
      ],
      "text/plain": [
       "   1/22/20 1/23/20 1/24/20 1/25/20 1/26/20 1/27/20 1/28/20 1/29/20 1/30/20  \\\n",
       "18       0       0       0       0       0       0       0       0       0   \n",
       "\n",
       "   1/31/20  ... 3/3/20 3/4/20 3/5/20 3/6/20 3/7/20 3/8/20 3/9/20 3/10/20  \\\n",
       "18       0  ...      1      2      3      5     10     17     28      35   \n",
       "\n",
       "   3/11/20 3/12/20  \n",
       "18      54      55  \n",
       "\n",
       "[1 rows x 51 columns]"
      ]
     },
     "execution_count": 35,
     "metadata": {},
     "output_type": "execute_result"
    }
   ],
   "source": [
    "cumulative_deaths_spain = deaths[deaths['Country/Region'] == 'Spain'].T[4:]\n",
    "cumulative_deaths_spain.T # show the data in a row"
   ]
  },
  {
   "cell_type": "markdown",
   "metadata": {},
   "source": [
    "### Deaths per day\n",
    "The data gives the cumulative deaths so the deaths per day is the difference between two consecutive days"
   ]
  },
  {
   "cell_type": "code",
   "execution_count": 36,
   "metadata": {},
   "outputs": [],
   "source": [
    "deaths_per_day_spain = [cumulative_deaths_spain.values[i + 1][0] - cumulative_deaths_spain.values[i][0] for i in range(0,days.size - 1)]"
   ]
  },
  {
   "cell_type": "code",
   "execution_count": 37,
   "metadata": {},
   "outputs": [
    {
     "data": {
      "image/png": "[encoded data removed]",
      "text/plain": [
       "<Figure size 1440x720 with 1 Axes>"
      ]
     },
     "metadata": {
      "needs_background": "light"
     },
     "output_type": "display_data"
    }
   ],
   "source": [
    "plot_deaths_per_day_spain = plt.bar(days[1:days.size], deaths_per_day_spain[:days.size - 1], color='red')\n",
    "plt.xticks(rotation=70)\n",
    "plt.show(plot_deaths_per_day_spain)"
   ]
  },
  {
   "cell_type": "markdown",
   "metadata": {},
   "source": [
    "### Case fatality"
   ]
  },
  {
   "cell_type": "code",
   "execution_count": 38,
   "metadata": {},
   "outputs": [
    {
     "name": "stdout",
     "output_type": "stream",
     "text": [
      "Spain's case fatality = 2.4\n"
     ]
    }
   ],
   "source": [
    "infections_spain = confirmed_infections_spain.values[days.size - 1]\n",
    "deaths_spain = cumulative_deaths_spain.values[days.size - 1];\n",
    "case_fatality_spain = (deaths_spain / infections_spain) * 100 \n",
    "print(\"Spain's case fatality = %.1f\"%case_fatality_spain)  "
   ]
  },
  {
   "cell_type": "markdown",
   "metadata": {},
   "source": [
    "***\n",
    "## Comparisons\n",
    "Merged graphs for Italy, Germany, France and Spain"
   ]
  },
  {
   "cell_type": "markdown",
   "metadata": {},
   "source": [
    "### Confirmed infections"
   ]
  },
  {
   "cell_type": "code",
   "execution_count": 39,
   "metadata": {},
   "outputs": [
    {
     "data": {
      "text/plain": [
       "<matplotlib.legend.Legend at 0x1e004ece9c8>"
      ]
     },
     "execution_count": 39,
     "metadata": {},
     "output_type": "execute_result"
    },
    {
     "data": {
      "image/png": "[encoded data removed]",
      "text/plain": [
       "<Figure size 1440x720 with 1 Axes>"
      ]
     },
     "metadata": {
      "needs_background": "light"
     },
     "output_type": "display_data"
    }
   ],
   "source": [
    "# add labels\n",
    "plt.xlabel(\"day\")\n",
    "plt.ylabel(\"cumulative infections\");\n",
    "plt.xticks(rotation=70)\n",
    "# plot the data\n",
    "pi_italy = plt.plot(confirmed_infections_italy, label='Italy')\n",
    "pi_germany = plt.plot(confirmed_infections_germany, label='Germany')\n",
    "pi_france = plt.plot(confirmed_infections_france, label='France')\n",
    "pi_spain = plt.plot(confirmed_infections_spain, label='Spain')\n",
    "# add legend\n",
    "plt.legend((pi_italy[0], pi_germany[0], pi_france[0], pi_spain[0]),['Italy','Germany', 'France', 'Spain'])"
   ]
  },
  {
   "cell_type": "markdown",
   "metadata": {},
   "source": [
    "### Cumulative deaths"
   ]
  },
  {
   "cell_type": "code",
   "execution_count": 40,
   "metadata": {},
   "outputs": [
    {
     "data": {
      "text/plain": [
       "<matplotlib.legend.Legend at 0x1e0070616c8>"
      ]
     },
     "execution_count": 40,
     "metadata": {},
     "output_type": "execute_result"
    },
    {
     "data": {
      "image/png": "[encoded data removed]",
      "text/plain": [
       "<Figure size 1440x720 with 1 Axes>"
      ]
     },
     "metadata": {
      "needs_background": "light"
     },
     "output_type": "display_data"
    }
   ],
   "source": [
    "# add labels\n",
    "plt.xlabel(\"day\")\n",
    "plt.ylabel(\"cumulative deaths\");\n",
    "plt.xticks(rotation=70)\n",
    "# plot the data\n",
    "pd_italy = plt.plot(cumulative_deaths_italy, label='Italy', color='c')\n",
    "pd_germany = plt.plot(cumulative_deaths_germany, label='Germany', color='orange')\n",
    "pd_france = plt.plot(cumulative_deaths_france, label='France', color='green')\n",
    "pd_spain = plt.plot(cumulative_deaths_spain, label='Spain', color='red')\n",
    "# add legend\n",
    "plt.legend((pd_italy[0], pd_germany[0], pd_france[0], pd_spain[0]),['Italy','Germany', 'France', 'Spain'])"
   ]
  },
  {
   "cell_type": "markdown",
   "metadata": {},
   "source": [
    "### Deaths per day"
   ]
  },
  {
   "cell_type": "code",
   "execution_count": 41,
   "metadata": {},
   "outputs": [
    {
     "data": {
      "image/png": "[encoded data removed]",
      "text/plain": [
       "<Figure size 1440x720 with 1 Axes>"
      ]
     },
     "metadata": {
      "needs_background": "light"
     },
     "output_type": "display_data"
    }
   ],
   "source": [
    "fig, ax = plt.subplots()\n",
    "plt.ylabel('Deaths')\n",
    "plt.title('New deaths per day')\n",
    "pi = plt.bar(days[1:days.size], deaths_per_day_italy[:days.size])\n",
    "pg = plt.bar(days[1:days.size], deaths_per_day_germany[:days.size], bottom = deaths_per_day_italy[:days.size])\n",
    "pf = plt.bar(days[1:days.size], deaths_per_day_france[:days.size], bottom = deaths_per_day_germany[:days.size])\n",
    "ps = plt.bar(days[1:days.size], deaths_per_day_spain[:days.size], bottom = deaths_per_day_france[:days.size])\n",
    "plt.xticks(rotation=70)\n",
    "plt.legend((pi[0], pg[0], pf[0], ps[0]), ['Italy', 'Germany', 'France', 'Spain'])\n",
    "plt.show()"
   ]
  },
  {
   "cell_type": "code",
   "execution_count": null,
   "metadata": {},
   "outputs": [],
   "source": []
  }
 ],
 "metadata": {
  "kernelspec": {
   "display_name": "Python 3",
   "language": "python",
   "name": "python3"
  },
  "language_info": {
   "codemirror_mode": {
    "name": "ipython",
    "version": 3
   },
   "file_extension": ".py",
   "mimetype": "text/x-python",
   "name": "python",
   "nbconvert_exporter": "python",
   "pygments_lexer": "ipython3",
   "version": "3.7.4"
  }
 },
 "nbformat": 4,
 "nbformat_minor": 2
}
