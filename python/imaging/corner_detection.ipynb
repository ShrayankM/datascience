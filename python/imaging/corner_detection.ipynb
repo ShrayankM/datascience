{
 "cells": [
  {
   "cell_type": "markdown",
   "metadata": {},
   "source": [
    "# Corner detection"
   ]
  },
  {
   "cell_type": "code",
   "execution_count": 1,
   "metadata": {},
   "outputs": [
    {
     "name": "stdout",
     "output_type": "stream",
     "text": [
      "python version: 3.8.2\n",
      "numpy version: 1.18.1\n",
      "skimage version: 0.17.2\n",
      "matplotlib version: 3.3.1\n"
     ]
    }
   ],
   "source": [
    "import numpy as np\n",
    "import math\n",
    "import skimage\n",
    "from skimage import io\n",
    "from skimage import filters\n",
    "from skimage import util\n",
    "import matplotlib as mpl\n",
    "import matplotlib.pyplot as plt\n",
    "from platform import python_version\n",
    "print(\"python version: %s\"%python_version())\n",
    "print(\"numpy version: %s\"%np.__version__)\n",
    "#print(\"pandas version: %s\"%pd.__version__)\n",
    "print(\"skimage version: %s\"%skimage.__version__)\n",
    "print(\"matplotlib version: %s\"%mpl.__version__)"
   ]
  },
  {
   "cell_type": "code",
   "execution_count": 3,
   "metadata": {},
   "outputs": [],
   "source": [
    "from ipynb.fs.full.edges_contours import dip_horizontalDerivative\n",
    "from ipynb.fs.full.edges_contours import dip_verticalDerivative"
   ]
  },
  {
   "cell_type": "code",
   "execution_count": 4,
   "metadata": {},
   "outputs": [
    {
     "data": {
      "text/plain": [
       "(200, 200)"
      ]
     },
     "execution_count": 4,
     "metadata": {},
     "output_type": "execute_result"
    },
    {
     "data": {
      "image/png": "[encoded data removed]",
      "text/plain": [
       "<Figure size 432x288 with 1 Axes>"
      ]
     },
     "metadata": {
      "needs_background": "light"
     },
     "output_type": "display_data"
    }
   ],
   "source": [
    "checkboard_img = skimage.data.checkerboard()\n",
    "plt.imshow(checkboard_img, cmap='gray')\n",
    "checkboard_img.shape"
   ]
  },
  {
   "cell_type": "code",
   "execution_count": 8,
   "metadata": {},
   "outputs": [],
   "source": [
    "def dip_gaussianFilter(image):\n",
    "    # Creates a smoothed image from the input one by computing the\n",
    "    # average value of each pixel from its neighbors' values. The size\n",
    "    # of the filter is 5x5\n",
    "    H = np.array(((0, 1, 2, 1, 0), \n",
    "                  (1, 3, 5, 3, 1), \n",
    "                  (2, 5, 9, 5, 2), \n",
    "                  (1, 3, 5, 3, 1), \n",
    "                  (0, 1, 2, 1, 0))) # filter\n",
    "    rows = image.shape[0]\n",
    "    cols = image.shape[1]\n",
    "    smooth_img = np.zeros((rows, cols), dtype=int)\n",
    "    \n",
    "    for col in range(0, cols - 1):\n",
    "        for row in range(0, rows - 1):\n",
    "            sum = 0\n",
    "            for i in range(-1, 2):\n",
    "                for j in range(-1, 2):\n",
    "                    v = image[row + i, col + j] * H[i + 1, j + 1]\n",
    "                    sum = sum + v\n",
    "            smooth_img[row, col] = int(round( sum ))\n",
    "    \n",
    "    return smooth_img / 57"
   ]
  },
  {
   "cell_type": "code",
   "execution_count": 12,
   "metadata": {},
   "outputs": [],
   "source": [
    "def corner_response(image, alpha, threshold):\n",
    "    rows = image.shape[0]\n",
    "    cols = image.shape[1]\n",
    "    candidates = np.zeros((100, 2), dtype=int)\n",
    "    Ix = dip_horizontalDerivative(image)\n",
    "    Iy = dip_verticalDerivative(image)\n",
    "    A = Ix * Ix\n",
    "    B = Iy * Iy\n",
    "    C = Ix * Iy\n",
    "    A_ = dip_gaussianFilter(A)\n",
    "    B_ = dip_gaussianFilter(B)\n",
    "    C_ = dip_gaussianFilter(C)\n",
    "    Q = A_ * B_  - C_ * C_ - alpha * (A_ + B_) * (A_ + B_)\n",
    "    \n",
    "    counter = 0\n",
    "    for col in range(0, cols - 1):\n",
    "        for row in range(0, rows - 1):\n",
    "            if Q[row, col] > threshold and row > 0 and col > 0:\n",
    "                candidates[counter, 0] = row\n",
    "                candidates[counter, 1] = col\n",
    "                counter = counter + 1\n",
    "    \n",
    "    corners = np.zeros((counter, 2), dtype=int)\n",
    "    for i in range(0, counter):\n",
    "        corners[i, 0] = candidates[i, 0]\n",
    "        corners[i, 1] = candidates[i, 1]\n",
    "    \n",
    "    return corners"
   ]
  },
  {
   "cell_type": "code",
   "execution_count": 13,
   "metadata": {},
   "outputs": [
    {
     "data": {
      "text/plain": [
       "(49, 2)"
      ]
     },
     "execution_count": 13,
     "metadata": {},
     "output_type": "execute_result"
    }
   ],
   "source": [
    "corners = corner_response(checkboard_img, 0.17, 1000000)\n",
    "corners.shape"
   ]
  },
  {
   "cell_type": "code",
   "execution_count": 14,
   "metadata": {},
   "outputs": [
    {
     "data": {
      "image/png": "[encoded data removed]",
      "text/plain": [
       "<Figure size 432x288 with 1 Axes>"
      ]
     },
     "metadata": {
      "needs_background": "light"
     },
     "output_type": "display_data"
    }
   ],
   "source": [
    "fig, ax = plt.subplots()\n",
    "ax.imshow(checkboard_img, cmap=plt.cm.gray)\n",
    "ax.plot(corners[:, 1], corners[:, 0], color='cyan', marker='o', linestyle='None', markersize=6)\n",
    "ax.axis((0, 200, 200, 0))\n",
    "plt.show()"
   ]
  },
  {
   "cell_type": "markdown",
   "metadata": {},
   "source": [
    "## Skimage test"
   ]
  },
  {
   "cell_type": "code",
   "execution_count": 16,
   "metadata": {},
   "outputs": [
    {
     "data": {
      "text/plain": [
       "(49, 2)"
      ]
     },
     "execution_count": 16,
     "metadata": {},
     "output_type": "execute_result"
    }
   ],
   "source": [
    "from skimage.feature import corner_harris, corner_peaks, corner_subpix\n",
    "coords = corner_peaks(corner_harris(checkboard_img), min_distance=5, threshold_rel=0.02)\n",
    "coords_subpix = corner_subpix(checkboard_img, coords, window_size=13)\n",
    "coords.shape"
   ]
  },
  {
   "cell_type": "code",
   "execution_count": 17,
   "metadata": {},
   "outputs": [
    {
     "data": {
      "image/png": "[encoded data removed]",
      "text/plain": [
       "<Figure size 432x288 with 1 Axes>"
      ]
     },
     "metadata": {
      "needs_background": "light"
     },
     "output_type": "display_data"
    }
   ],
   "source": [
    "fig, ax = plt.subplots()\n",
    "ax.imshow(checkboard_img, cmap=plt.cm.gray)\n",
    "ax.plot(coords[:, 1], coords[:, 0], color='cyan', marker='o', linestyle='None', markersize=6)\n",
    "ax.plot(coords_subpix[:, 1], coords_subpix[:, 0], '+r', markersize=15)\n",
    "ax.axis((0, 200, 200, 0))\n",
    "plt.show()"
   ]
  },
  {
   "cell_type": "code",
   "execution_count": null,
   "metadata": {},
   "outputs": [],
   "source": []
  }
 ],
 "metadata": {
  "kernelspec": {
   "display_name": "Python 3",
   "language": "python",
   "name": "python3"
  },
  "language_info": {
   "codemirror_mode": {
    "name": "ipython",
    "version": 3
   },
   "file_extension": ".py",
   "mimetype": "text/x-python",
   "name": "python",
   "nbconvert_exporter": "python",
   "pygments_lexer": "ipython3",
   "version": "3.8.2"
  }
 },
 "nbformat": 4,
 "nbformat_minor": 4
}
