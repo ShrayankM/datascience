{
 "cells": [
  {
   "cell_type": "markdown",
   "metadata": {},
   "source": [
    "# Digital Image Processing Functions"
   ]
  },
  {
   "cell_type": "code",
   "execution_count": 1,
   "metadata": {},
   "outputs": [],
   "source": [
    "import numpy as np\n",
    "import math"
   ]
  },
  {
   "cell_type": "markdown",
   "metadata": {},
   "source": [
    "## Edge detection"
   ]
  },
  {
   "cell_type": "code",
   "execution_count": 2,
   "metadata": {},
   "outputs": [],
   "source": [
    "def dip_horizontalDerivative(image):\n",
    "    # Computes the first horizontal derivative of the intensity \n",
    "    # at each pixel in the image. \n",
    "    rows = image.shape[0]\n",
    "    cols = image.shape[1]\n",
    "    Hx = np.array([-1, 0, 1])\n",
    "    derived_img = np.zeros((rows, cols), dtype=int)\n",
    "    \n",
    "    for col in range(0, cols - 1):\n",
    "        for row in range(0, rows - 1):\n",
    "            h_derivative = 0\n",
    "            for j in range(-1, 2):\n",
    "                    v = image[row, col + j]  \n",
    "                    h_derivative = h_derivative + (1 / 2) * v * Hx[j + 1]\n",
    "            derived_img[row, col] = h_derivative\n",
    "    \n",
    "    return derived_img"
   ]
  },
  {
   "cell_type": "code",
   "execution_count": 3,
   "metadata": {},
   "outputs": [],
   "source": [
    "def dip_verticalDerivative(image):\n",
    "    # Computes the first vertical derivative of the intensity \n",
    "    # at each pixel in the image.\n",
    "    rows = image.shape[0]\n",
    "    cols = image.shape[1]\n",
    "    Hy = np.array([-1, 0, 1])\n",
    "    derived_img = np.zeros((rows, cols), dtype=int)\n",
    "    \n",
    "    for col in range(0, cols - 1):\n",
    "        for row in range(0, rows - 1):\n",
    "            v_derivative = 0\n",
    "            for i in range(-1, 2):\n",
    "                    v = image[row + i, col]  \n",
    "                    v_derivative = v_derivative + (1 / 2) * v * Hy[i + 1]\n",
    "            derived_img[row, col] = v_derivative\n",
    "    \n",
    "    return derived_img"
   ]
  },
  {
   "cell_type": "code",
   "execution_count": null,
   "metadata": {},
   "outputs": [],
   "source": [
    "def dip_localGradient(image):\n",
    "    # Computes the local gradient of the intensity \n",
    "    # at each pixel as the square root of the sum of the\n",
    "    # squares of the horizontal and vertical derivatives\n",
    "    rows = image.shape[0]\n",
    "    cols = image.shape[1]\n",
    "    Hx = np.array([-1, 0, 1])\n",
    "    Hy = np.array([-1, 0, 1])\n",
    "    derived_img = np.zeros((rows, cols), dtype=int)\n",
    "    \n",
    "    for col in range(0, cols - 1):\n",
    "        for row in range(0, rows - 1):\n",
    "            v_derivative = 0\n",
    "            # vertical derivative\n",
    "            for i in range(-1, 2):\n",
    "                    v = image[row + i, col]  \n",
    "                    v_derivative = v_derivative + (1 / 2) * v * Hy[i + 1]\n",
    "            h_derivative = 0\n",
    "            # horizontal derivative\n",
    "            for j in range(-1, 2):\n",
    "                    v = image[row, col + j]  \n",
    "                    h_derivative = h_derivative + (1 / 2) * v * Hx[j + 1]\n",
    "            \n",
    "            derived_img[row, col] = math.sqrt(h_derivative * h_derivative + v_derivative * v_derivative)  \n",
    "    \n",
    "    return derived_img"
   ]
  }
 ],
 "metadata": {
  "kernelspec": {
   "display_name": "Python 3",
   "language": "python",
   "name": "python3"
  },
  "language_info": {
   "codemirror_mode": {
    "name": "ipython",
    "version": 3
   },
   "file_extension": ".py",
   "mimetype": "text/x-python",
   "name": "python",
   "nbconvert_exporter": "python",
   "pygments_lexer": "ipython3",
   "version": "3.8.2"
  }
 },
 "nbformat": 4,
 "nbformat_minor": 4
}
