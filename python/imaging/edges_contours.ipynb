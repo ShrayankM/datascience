{
 "cells": [
  {
   "cell_type": "markdown",
   "metadata": {},
   "source": [
    "# Edges and contours\n",
    "Edges are sets of pixels whose value changes remarkably along a particular orientation. The amount of change is represented by the first derivative of the intensity. Since the intensity is not a continuous function we must compute the derivative as the ratio of the difference between two pixel values along one direction, e.g. the horizontal direction $\\vec{i}$, to the distance between the two pixels.\n",
    "\n",
    "$$\\frac{\\Delta I(u)}{\\Delta u} = \\frac{I(u + 1) - I(u - 1)}{(u + 1) - (u - 1)}$$\n",
    "\n",
    "We can do the same to compute the first derivative along the vertical direction $\\vec{j}$ and define the image gradient \n",
    "\n",
    "$$\\vec{\\nabla} I(u, v) = \\frac{\\Delta I(u, v)}{\\Delta u} \\vec{i} + \\frac{\\Delta I(u, v)}{\\Delta v} \\vec{j}$$ "
   ]
  },
  {
   "cell_type": "code",
   "execution_count": null,
   "metadata": {},
   "outputs": [],
   "source": []
  }
 ],
 "metadata": {
  "kernelspec": {
   "display_name": "Python 3",
   "language": "python",
   "name": "python3"
  },
  "language_info": {
   "codemirror_mode": {
    "name": "ipython",
    "version": 3
   },
   "file_extension": ".py",
   "mimetype": "text/x-python",
   "name": "python",
   "nbconvert_exporter": "python",
   "pygments_lexer": "ipython3",
   "version": "3.8.2"
  }
 },
 "nbformat": 4,
 "nbformat_minor": 4
}
