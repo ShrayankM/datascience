{
 "cells": [
  {
   "cell_type": "markdown",
   "metadata": {},
   "source": [
    "# Shapes\n",
    "Images of shapes used to test digital image processing functions. \n",
    "In Python an image is usually represented as a two-dimensional array so in order to build an image of a geometric shape we have to compute the coordinates x and y of the shape as integer values for the rows and columns of the pixels and give to those points a value, e.g. 0 for black and 255 for white. This notebook contains the functions for lines and circles. Being images two-dimensional arrays, images of lines and circles can be added multiple times to one image if the size of all the images are the same."
   ]
  },
  {
   "cell_type": "code",
   "execution_count": 3,
   "metadata": {},
   "outputs": [],
   "source": [
    "import math\n",
    "import numpy as np\n",
    "import matplotlib as mpl\n",
    "import matplotlib.pyplot as plt\n",
    "from matplotlib import cm"
   ]
  },
  {
   "cell_type": "markdown",
   "metadata": {},
   "source": [
    "## Line\n",
    "The reference system used is with the origin at the upper left corner of the image. The horizontal axes X represent the columns\n",
    "and the vertical axes, from the origin down to the bottom of the image, represents the rows."
   ]
  },
  {
   "cell_type": "code",
   "execution_count": 63,
   "metadata": {},
   "outputs": [],
   "source": [
    "def dip_line(x1, y1, x2, y2, M, N):\n",
    "    '''\n",
    "    Creates an MxN image of a line segment given its two endpoints (x1, y1) and (x2, y2)\n",
    "    1) Computes the value of the slope and intercept\n",
    "    2) Computes the value of the segment's x and y as integer variables\n",
    "    3) Creates a 2-dimensional array of points (x, y) of the line\n",
    "    4) Creates a two-dimensional array of the image\n",
    "    5) Adds the points to the empty image\n",
    "    6) Returns the image\n",
    "    '''\n",
    "    num_pixels = np.absolute(x2 - x1) * 4\n",
    "    \n",
    "    X = np.linspace(x1, x2, num_pixels)\n",
    "    slope = (y2 - y1) / (x2 - x1)\n",
    "    intercept = y2 - slope * x2\n",
    "    Y = slope * X + intercept\n",
    "    \n",
    "    X = np.rint(X).astype(int) # row index of the line's pixels in the image two-dimensional array\n",
    "    Y = np.rint(Y).astype(int) # column index of the line's pixels in the image two dimensional array\n",
    "    \n",
    "    image = np.zeros((M, N), dtype='int') \n",
    "    for i in range(0, X.shape[0]):\n",
    "        row = Y[i]\n",
    "        col = X[i]\n",
    "        image[row, col] = 255\n",
    "    \n",
    "    return image"
   ]
  },
  {
   "cell_type": "code",
   "execution_count": 64,
   "metadata": {},
   "outputs": [
    {
     "data": {
      "text/plain": [
       "<matplotlib.image.AxesImage at 0x27ac471abe0>"
      ]
     },
     "execution_count": 64,
     "metadata": {},
     "output_type": "execute_result"
    },
    {
     "data": {
      "image/png": "[encoded data removed]",
      "text/plain": [
       "<Figure size 720x720 with 1 Axes>"
      ]
     },
     "metadata": {
      "needs_background": "light"
     },
     "output_type": "display_data"
    }
   ],
   "source": [
    "fig, ax = plt.subplots(1, 1, figsize=(10, 10))\n",
    "M = 50\n",
    "N = 50\n",
    "line1 = dip_line(10, 10, 20, 40, M, N)\n",
    "line2 = dip_line(10, 10, 40, 10, M, N)\n",
    "line3 = dip_line(20, 40, 40, 10, M, N)\n",
    "lines = line1 + line2 + line3\n",
    "ax.imshow(lines, cmap=cm.gray)"
   ]
  },
  {
   "cell_type": "code",
   "execution_count": 65,
   "metadata": {},
   "outputs": [
    {
     "data": {
      "text/plain": [
       "3"
      ]
     },
     "execution_count": 65,
     "metadata": {},
     "output_type": "execute_result"
    }
   ],
   "source": [
    "np.sum(lines > 256)"
   ]
  },
  {
   "cell_type": "markdown",
   "metadata": {},
   "source": [
    "## Circle"
   ]
  },
  {
   "cell_type": "code",
   "execution_count": 51,
   "metadata": {},
   "outputs": [],
   "source": [
    "def dip_circle(a, b, r, M, N):\n",
    "    '''\n",
    "    Creates an MxN image of a circular shape given its center (a,b) and radius r.\n",
    "    a, b and r are given in number of pixels.\n",
    "    1) Computes the value of the x and y as integer variables\n",
    "    2) Creates a 2-dimensional array of points (x, y) of the circle\n",
    "    3) Creates a two-dimensional array of the image\n",
    "    4) Adds the points to the empty image\n",
    "    5) Returns the image\n",
    "    '''\n",
    "    num_pixels = max(r, 360) \n",
    "    theta = np.linspace(-np.pi, np.pi, num_pixels)\n",
    "\n",
    "    X = a + r * np.cos(theta)\n",
    "    Y = b + r * np.sin(theta)\n",
    "    X = np.rint(X).astype(int) # row index of the circle's pixels in the image two-dimensional array\n",
    "    Y = np.rint(Y).astype(int) # column index of the circle's pixels in the image two dimensional array\n",
    "    \n",
    "    image = np.zeros((M, N))\n",
    "    for i in range(0, X.shape[0]):\n",
    "        row = Y[i]\n",
    "        col = X[i]\n",
    "        image[row, col] = 255\n",
    "    return image"
   ]
  },
  {
   "cell_type": "code",
   "execution_count": 52,
   "metadata": {},
   "outputs": [
    {
     "data": {
      "text/plain": [
       "<matplotlib.image.AxesImage at 0x27ac6c347f0>"
      ]
     },
     "execution_count": 52,
     "metadata": {},
     "output_type": "execute_result"
    },
    {
     "data": {
      "image/png": "[encoded data removed]",
      "text/plain": [
       "<Figure size 1080x720 with 1 Axes>"
      ]
     },
     "metadata": {
      "needs_background": "light"
     },
     "output_type": "display_data"
    }
   ],
   "source": [
    "fig, ax = plt.subplots(1, 1, figsize=(15, 10))\n",
    "circle = dip_circle(200, 200, 100, 500, 500)\n",
    "ax.imshow(circle, cmap=cm.gray)"
   ]
  },
  {
   "cell_type": "code",
   "execution_count": null,
   "metadata": {},
   "outputs": [],
   "source": []
  }
 ],
 "metadata": {
  "kernelspec": {
   "display_name": "Python 3",
   "language": "python",
   "name": "python3"
  },
  "language_info": {
   "codemirror_mode": {
    "name": "ipython",
    "version": 3
   },
   "file_extension": ".py",
   "mimetype": "text/x-python",
   "name": "python",
   "nbconvert_exporter": "python",
   "pygments_lexer": "ipython3",
   "version": "3.8.2"
  }
 },
 "nbformat": 4,
 "nbformat_minor": 4
}
