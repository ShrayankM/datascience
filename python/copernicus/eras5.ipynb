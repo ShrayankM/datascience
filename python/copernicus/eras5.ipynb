{
 "cells": [
  {
   "cell_type": "markdown",
   "metadata": {},
   "source": [
    "# The Copernicus Climate Change Service\n",
    "ERA5 hourly data on single levels from 1979 to present."
   ]
  },
  {
   "cell_type": "code",
   "execution_count": 39,
   "metadata": {},
   "outputs": [
    {
     "name": "stdout",
     "output_type": "stream",
     "text": [
      "python version: 3.8.2\n",
      "pandas version: 1.0.2\n"
     ]
    }
   ],
   "source": [
    "import pandas as pd\n",
    "import cdsapi\n",
    "from platform import python_version\n",
    "print(\"python version: %s\"%python_version())\n",
    "print(\"pandas version: %s\"%pd.__version__)"
   ]
  },
  {
   "cell_type": "code",
   "execution_count": 40,
   "metadata": {},
   "outputs": [
    {
     "name": "stderr",
     "output_type": "stream",
     "text": [
      "2020-10-08 19:33:24,188 INFO Welcome to the CDS\n",
      "2020-10-08 19:33:24,189 INFO Sending request to https://cds.climate.copernicus.eu/api/v2/resources/reanalysis-era5-single-levels\n",
      "2020-10-08 19:33:24,421 INFO Request is completed\n",
      "2020-10-08 19:33:24,423 INFO Downloading http://136.156.133.36/cache-compute-0010/cache/data5/adaptor.mars.internal-1602161850.9795794-28216-29-7f2a730c-c3be-4d46-a4c5-02a85132425d.nc to download.nc (2.1M)\n",
      "2020-10-08 19:33:26,852 INFO Download rate 877.6K/s \n"
     ]
    },
    {
     "data": {
      "text/plain": [
       "Result(content_length=2182316,content_type=application/x-netcdf,location=http://136.156.133.36/cache-compute-0010/cache/data5/adaptor.mars.internal-1602161850.9795794-28216-29-7f2a730c-c3be-4d46-a4c5-02a85132425d.nc)"
      ]
     },
     "execution_count": 40,
     "metadata": {},
     "output_type": "execute_result"
    }
   ],
   "source": [
    "c = cdsapi.Client()\n",
    "\n",
    "c.retrieve(\n",
    "    'reanalysis-era5-single-levels',\n",
    "    {\n",
    "        'product_type': 'reanalysis',\n",
    "        'variable': [\n",
    "            '2m_temperature', 'sea_surface_temperature',\n",
    "        ],\n",
    "        'year': '2020',\n",
    "        'month': [\n",
    "            '09', '10',\n",
    "        ],\n",
    "        'day': [\n",
    "            '01', '02', '03',\n",
    "            '04', '05', '06',\n",
    "            '07', '08', '09',\n",
    "            '10', '11', '12',\n",
    "            '13', '14', '15',\n",
    "            '16', '17', '18',\n",
    "            '19', '20', '21',\n",
    "            '22', '23', '24',\n",
    "            '25', '26', '27',\n",
    "            '28', '29', '30',\n",
    "        ],\n",
    "        'time': [\n",
    "            '00:00', '03:00', '06:00',\n",
    "            '09:00', '12:00', '15:00',\n",
    "            '18:00', '21:00',\n",
    "        ],\n",
    "        'area': [\n",
    "            47.12, 6.57, 36.4,\n",
    "            18.52,\n",
    "        ],\n",
    "        'format': 'netcdf',\n",
    "    },\n",
    "    'download.nc')"
   ]
  },
  {
   "cell_type": "code",
   "execution_count": 41,
   "metadata": {},
   "outputs": [],
   "source": [
    "from netCDF4 import Dataset as nc\n",
    "file=nc('download.nc')\n",
    "time=file.variables['time'][:]"
   ]
  },
  {
   "cell_type": "code",
   "execution_count": 42,
   "metadata": {},
   "outputs": [],
   "source": [
    "lon=file.variables['longitude'][:]\n",
    "lat=file.variables['latitude'][:]"
   ]
  },
  {
   "cell_type": "code",
   "execution_count": 43,
   "metadata": {},
   "outputs": [
    {
     "data": {
      "text/plain": [
       "masked_array(data=[46.9 , 46.65, 46.4 , 46.15, 45.9 , 45.65, 45.4 , 45.15,\n",
       "                   44.9 , 44.65, 44.4 , 44.15, 43.9 , 43.65, 43.4 , 43.15,\n",
       "                   42.9 , 42.65, 42.4 , 42.15, 41.9 , 41.65, 41.4 , 41.15,\n",
       "                   40.9 , 40.65, 40.4 , 40.15, 39.9 , 39.65, 39.4 , 39.15,\n",
       "                   38.9 , 38.65, 38.4 , 38.15, 37.9 , 37.65, 37.4 , 37.15,\n",
       "                   36.9 , 36.65, 36.4 ],\n",
       "             mask=False,\n",
       "       fill_value=1e+20,\n",
       "            dtype=float32)"
      ]
     },
     "execution_count": 43,
     "metadata": {},
     "output_type": "execute_result"
    }
   ],
   "source": [
    "lat"
   ]
  },
  {
   "cell_type": "code",
   "execution_count": 44,
   "metadata": {},
   "outputs": [
    {
     "data": {
      "text/plain": [
       "masked_array(data=[ 6.57,  6.82,  7.07,  7.32,  7.57,  7.82,  8.07,  8.32,\n",
       "                    8.57,  8.82,  9.07,  9.32,  9.57,  9.82, 10.07, 10.32,\n",
       "                   10.57, 10.82, 11.07, 11.32, 11.57, 11.82, 12.07, 12.32,\n",
       "                   12.57, 12.82, 13.07, 13.32, 13.57, 13.82, 14.07, 14.32,\n",
       "                   14.57, 14.82, 15.07, 15.32, 15.57, 15.82, 16.07, 16.32,\n",
       "                   16.57, 16.82, 17.07, 17.32, 17.57, 17.82, 18.07, 18.32],\n",
       "             mask=False,\n",
       "       fill_value=1e+20,\n",
       "            dtype=float32)"
      ]
     },
     "execution_count": 44,
     "metadata": {},
     "output_type": "execute_result"
    }
   ],
   "source": [
    "lon"
   ]
  },
  {
   "cell_type": "code",
   "execution_count": 45,
   "metadata": {},
   "outputs": [
    {
     "data": {
      "text/plain": [
       "(264, 43, 48)"
      ]
     },
     "execution_count": 45,
     "metadata": {},
     "output_type": "execute_result"
    }
   ],
   "source": [
    "images = file.variables['t2m']\n",
    "images.shape"
   ]
  },
  {
   "cell_type": "code",
   "execution_count": null,
   "metadata": {},
   "outputs": [],
   "source": []
  }
 ],
 "metadata": {
  "kernelspec": {
   "display_name": "Python 3",
   "language": "python",
   "name": "python3"
  },
  "language_info": {
   "codemirror_mode": {
    "name": "ipython",
    "version": 3
   },
   "file_extension": ".py",
   "mimetype": "text/x-python",
   "name": "python",
   "nbconvert_exporter": "python",
   "pygments_lexer": "ipython3",
   "version": "3.8.2"
  }
 },
 "nbformat": 4,
 "nbformat_minor": 2
}
