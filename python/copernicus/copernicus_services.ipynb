{
 "cells": [
  {
   "cell_type": "markdown",
   "metadata": {},
   "source": [
    "# Copernicus Services\n",
    "This project is a collection of Jupyter notebooks developed to learn how to use the data sets published by the [Copernicus services](https://www.copernicus.eu/en/services)\n",
    "\n",
    "- [The Copernicus Atmosphere Monitoring Service](solar_radiation.ipynb) \n",
    "- [The Copernicus Climate Change Service](era5_temperature.ipynb)\n",
    "- [Air Quality for Europe](air_quality_forecasts.ipynb)"
   ]
  },
  {
   "cell_type": "code",
   "execution_count": null,
   "metadata": {},
   "outputs": [],
   "source": []
  }
 ],
 "metadata": {
  "kernelspec": {
   "display_name": "Python 3",
   "language": "python",
   "name": "python3"
  },
  "language_info": {
   "codemirror_mode": {
    "name": "ipython",
    "version": 3
   },
   "file_extension": ".py",
   "mimetype": "text/x-python",
   "name": "python",
   "nbconvert_exporter": "python",
   "pygments_lexer": "ipython3",
   "version": "3.8.2"
  }
 },
 "nbformat": 4,
 "nbformat_minor": 4
}
