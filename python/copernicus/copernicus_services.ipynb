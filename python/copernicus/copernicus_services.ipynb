{
 "cells": [
  {
   "cell_type": "markdown",
   "metadata": {},
   "source": [
    "![datiaperti logo](images/datiaperti_small.png)"
   ]
  },
  {
   "cell_type": "markdown",
   "metadata": {},
   "source": [
    "# Copernicus Services\n",
    "This project is a collection of Jupyter notebooks developed to learn how to use the data sets published by the [Copernicus services](https://www.copernicus.eu/en/services)\n",
    "\n",
    "- [The Copernicus Atmosphere Monitoring Service](solar_radiation.ipynb) \n",
    "- [The Copernicus Climate Change Service](era5_temperature.ipynb)\n",
    "- [Air Quality for Europe](air_quality_forecasts.ipynb)\n",
    "- [Land Use and Land Cover Classification using a ResNet Deep Learning Architecture](deeplearning_land_use_land_cover_classification.ipynb)"
   ]
  }
 ],
 "metadata": {
  "kernelspec": {
   "display_name": "Python 3 (ipykernel)",
   "language": "python",
   "name": "python3"
  },
  "language_info": {
   "codemirror_mode": {
    "name": "ipython",
    "version": 3
   },
   "file_extension": ".py",
   "mimetype": "text/x-python",
   "name": "python",
   "nbconvert_exporter": "python",
   "pygments_lexer": "ipython3",
   "version": "3.8.10"
  }
 },
 "nbformat": 4,
 "nbformat_minor": 4
}
