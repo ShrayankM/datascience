{
 "cells": [
  {
   "cell_type": "markdown",
   "metadata": {},
   "source": [
    "# ATN Sales Orders Analysis"
   ]
  },
  {
   "cell_type": "code",
   "execution_count": 1,
   "metadata": {},
   "outputs": [
    {
     "name": "stdout",
     "output_type": "stream",
     "text": [
      "C:\\Users\\lselmi\\cygwin64\\home\\lselmi\\anaconda\\altertech\\datasets\n"
     ]
    }
   ],
   "source": [
    "cd C:\\Users\\lselmi\\cygwin64\\home\\lselmi\\anaconda\\altertech\\datasets"
   ]
  },
  {
   "cell_type": "code",
   "execution_count": 2,
   "metadata": {},
   "outputs": [
    {
     "data": {
      "text/plain": [
       "'0.22.0'"
      ]
     },
     "execution_count": 2,
     "metadata": {},
     "output_type": "execute_result"
    }
   ],
   "source": [
    "import pandas as pd\n",
    "import numpy as np\n",
    "from datetime import datetime\n",
    "from pandas import Series, DataFrame\n",
    "%matplotlib inline\n",
    "import matplotlib.pyplot as plt\n",
    "plt.style.use('seaborn-whitegrid')\n",
    "pd.__version__"
   ]
  },
  {
   "cell_type": "markdown",
   "metadata": {},
   "source": [
    "### Read the data\n",
    "Import the records from a CSV file into a dataframe"
   ]
  },
  {
   "cell_type": "code",
   "execution_count": 3,
   "metadata": {},
   "outputs": [
    {
     "name": "stderr",
     "output_type": "stream",
     "text": [
      "C:\\Users\\lselmi\\Downloads\\Anaconda3\\lib\\site-packages\\IPython\\core\\interactiveshell.py:2728: DtypeWarning: Columns (21) have mixed types. Specify dtype option on import or set low_memory=False.\n",
      "  interactivity=interactivity, compiler=compiler, result=result)\n"
     ]
    }
   ],
   "source": [
    "sales = pd.read_csv('PurchaseData_20180319.csv')"
   ]
  },
  {
   "cell_type": "code",
   "execution_count": 4,
   "metadata": {},
   "outputs": [
    {
     "data": {
      "text/html": [
       "<div>\n",
       "<style scoped>\n",
       "    .dataframe tbody tr th:only-of-type {\n",
       "        vertical-align: middle;\n",
       "    }\n",
       "\n",
       "    .dataframe tbody tr th {\n",
       "        vertical-align: top;\n",
       "    }\n",
       "\n",
       "    .dataframe thead th {\n",
       "        text-align: right;\n",
       "    }\n",
       "</style>\n",
       "<table border=\"1\" class=\"dataframe\">\n",
       "  <thead>\n",
       "    <tr style=\"text-align: right;\">\n",
       "      <th></th>\n",
       "      <th>FamilyPath_Flight</th>\n",
       "      <th>ComponentNumber_MAT_Flight</th>\n",
       "      <th>Style_Flight</th>\n",
       "      <th>QLevel_Flight</th>\n",
       "      <th>PRICE LABEL</th>\n",
       "      <th>Material</th>\n",
       "      <th>MAT_Flight</th>\n",
       "      <th>PO_Date</th>\n",
       "      <th>PO_Currency</th>\n",
       "      <th>PO_Change</th>\n",
       "      <th>...</th>\n",
       "      <th>PACKAGE</th>\n",
       "      <th>FINISH</th>\n",
       "      <th>FamilyRoot</th>\n",
       "      <th>MnfrDoeeetName</th>\n",
       "      <th>POP_MfrContinent</th>\n",
       "      <th>ManufacturerCountry</th>\n",
       "      <th>Qualified</th>\n",
       "      <th>StyleStandard</th>\n",
       "      <th>QualityValueName</th>\n",
       "      <th>SpecificationName</th>\n",
       "    </tr>\n",
       "  </thead>\n",
       "  <tbody>\n",
       "    <tr>\n",
       "      <th>0</th>\n",
       "      <td>Microcircuits/Signal Acquisition-Conditioning/...</td>\n",
       "      <td>5962-8771002GA</td>\n",
       "      <td>LM158</td>\n",
       "      <td>QML Q</td>\n",
       "      <td>MATERIAL UNIT PRICE</td>\n",
       "      <td>AB68ALM158AH000</td>\n",
       "      <td>AB68ALM158AH000</td>\n",
       "      <td>20130402</td>\n",
       "      <td>EUR</td>\n",
       "      <td>1.0</td>\n",
       "      <td>...</td>\n",
       "      <td>CAN-8</td>\n",
       "      <td>NaN</td>\n",
       "      <td>Microcircuits</td>\n",
       "      <td>Texas Instruments SVA(formerly NSC)</td>\n",
       "      <td>North America</td>\n",
       "      <td>USA</td>\n",
       "      <td>Y</td>\n",
       "      <td>Generic_158</td>\n",
       "      <td>Class 2</td>\n",
       "      <td>5962-87710</td>\n",
       "    </tr>\n",
       "    <tr>\n",
       "      <th>1</th>\n",
       "      <td>Resistors/Film/Precision</td>\n",
       "      <td>4001011089091B</td>\n",
       "      <td>RCK02HR</td>\n",
       "      <td>ESCC</td>\n",
       "      <td>MATERIAL UNIT PRICE</td>\n",
       "      <td>AB6AM6PK0900000</td>\n",
       "      <td>AB6AM6PK0900000</td>\n",
       "      <td>20130403</td>\n",
       "      <td>EUR</td>\n",
       "      <td>1.0</td>\n",
       "      <td>...</td>\n",
       "      <td>Radial</td>\n",
       "      <td>NaN</td>\n",
       "      <td>Resistors</td>\n",
       "      <td>Vishay Sfernice</td>\n",
       "      <td>Europe</td>\n",
       "      <td>France</td>\n",
       "      <td>N</td>\n",
       "      <td>RNC90</td>\n",
       "      <td>Class 1</td>\n",
       "      <td>ESCC 4001/011</td>\n",
       "    </tr>\n",
       "    <tr>\n",
       "      <th>2</th>\n",
       "      <td>Capacitors/Tantalum Solid</td>\n",
       "      <td>M39003/06-4076B</td>\n",
       "      <td>CSR33</td>\n",
       "      <td>WEIBULL D</td>\n",
       "      <td>MATERIAL UNIT PRICE</td>\n",
       "      <td>ARG0Q133V000000</td>\n",
       "      <td>ARG0Q133V000000</td>\n",
       "      <td>20140728</td>\n",
       "      <td>EUR</td>\n",
       "      <td>1.0</td>\n",
       "      <td>...</td>\n",
       "      <td>Axial</td>\n",
       "      <td>NaN</td>\n",
       "      <td>Capacitors</td>\n",
       "      <td>Kemet Electronics Corp.</td>\n",
       "      <td>North America</td>\n",
       "      <td>USA</td>\n",
       "      <td>Y</td>\n",
       "      <td>CSR33</td>\n",
       "      <td>Class 1</td>\n",
       "      <td>MIL-PRF-39003/6</td>\n",
       "    </tr>\n",
       "    <tr>\n",
       "      <th>3</th>\n",
       "      <td>Capacitors/Tantalum Solid</td>\n",
       "      <td>CWR29MK106JRHB</td>\n",
       "      <td>CWR29</td>\n",
       "      <td>FAILURE RATE R</td>\n",
       "      <td>MATERIAL UNIT PRICE</td>\n",
       "      <td>ARG0T291000JA00</td>\n",
       "      <td>ARG0T291000JA00</td>\n",
       "      <td>20171011</td>\n",
       "      <td>EUR</td>\n",
       "      <td>1.0</td>\n",
       "      <td>...</td>\n",
       "      <td>Chip</td>\n",
       "      <td>NaN</td>\n",
       "      <td>Capacitors</td>\n",
       "      <td>Kemet Electronics Corp.</td>\n",
       "      <td>North America</td>\n",
       "      <td>USA</td>\n",
       "      <td>Y</td>\n",
       "      <td>CWR29</td>\n",
       "      <td>Class 2</td>\n",
       "      <td>MIL-PRF-55365/11</td>\n",
       "    </tr>\n",
       "    <tr>\n",
       "      <th>4</th>\n",
       "      <td>Capacitors/Tantalum Solid</td>\n",
       "      <td>CWR29MK685JRGB</td>\n",
       "      <td>CWR29</td>\n",
       "      <td>FAILURE RATE R</td>\n",
       "      <td>MATERIAL UNIT PRICE</td>\n",
       "      <td>ARG0T295680JA00</td>\n",
       "      <td>ARG0T295680JA00</td>\n",
       "      <td>20171011</td>\n",
       "      <td>EUR</td>\n",
       "      <td>1.0</td>\n",
       "      <td>...</td>\n",
       "      <td>Chip</td>\n",
       "      <td>NaN</td>\n",
       "      <td>Capacitors</td>\n",
       "      <td>Kemet Electronics Corp.</td>\n",
       "      <td>North America</td>\n",
       "      <td>USA</td>\n",
       "      <td>Y</td>\n",
       "      <td>CWR29</td>\n",
       "      <td>Class 2</td>\n",
       "      <td>MIL-PRF-55365/11</td>\n",
       "    </tr>\n",
       "  </tbody>\n",
       "</table>\n",
       "<p>5 rows × 49 columns</p>\n",
       "</div>"
      ],
      "text/plain": [
       "                                   FamilyPath_Flight  \\\n",
       "0  Microcircuits/Signal Acquisition-Conditioning/...   \n",
       "1                           Resistors/Film/Precision   \n",
       "2                          Capacitors/Tantalum Solid   \n",
       "3                          Capacitors/Tantalum Solid   \n",
       "4                          Capacitors/Tantalum Solid   \n",
       "\n",
       "  ComponentNumber_MAT_Flight Style_Flight   QLevel_Flight  \\\n",
       "0             5962-8771002GA        LM158           QML Q   \n",
       "1             4001011089091B      RCK02HR            ESCC   \n",
       "2            M39003/06-4076B        CSR33       WEIBULL D   \n",
       "3             CWR29MK106JRHB        CWR29  FAILURE RATE R   \n",
       "4             CWR29MK685JRGB        CWR29  FAILURE RATE R   \n",
       "\n",
       "           PRICE LABEL         Material       MAT_Flight   PO_Date  \\\n",
       "0  MATERIAL UNIT PRICE  AB68ALM158AH000  AB68ALM158AH000  20130402   \n",
       "1  MATERIAL UNIT PRICE  AB6AM6PK0900000  AB6AM6PK0900000  20130403   \n",
       "2  MATERIAL UNIT PRICE  ARG0Q133V000000  ARG0Q133V000000  20140728   \n",
       "3  MATERIAL UNIT PRICE  ARG0T291000JA00  ARG0T291000JA00  20171011   \n",
       "4  MATERIAL UNIT PRICE  ARG0T295680JA00  ARG0T295680JA00  20171011   \n",
       "\n",
       "  PO_Currency  PO_Change        ...         PACKAGE  FINISH     FamilyRoot  \\\n",
       "0         EUR        1.0        ...           CAN-8     NaN  Microcircuits   \n",
       "1         EUR        1.0        ...          Radial     NaN      Resistors   \n",
       "2         EUR        1.0        ...           Axial     NaN     Capacitors   \n",
       "3         EUR        1.0        ...            Chip     NaN     Capacitors   \n",
       "4         EUR        1.0        ...            Chip     NaN     Capacitors   \n",
       "\n",
       "                        MnfrDoeeetName  POP_MfrContinent ManufacturerCountry  \\\n",
       "0  Texas Instruments SVA(formerly NSC)     North America                 USA   \n",
       "1                      Vishay Sfernice            Europe              France   \n",
       "2              Kemet Electronics Corp.     North America                 USA   \n",
       "3              Kemet Electronics Corp.     North America                 USA   \n",
       "4              Kemet Electronics Corp.     North America                 USA   \n",
       "\n",
       "   Qualified StyleStandard  QualityValueName SpecificationName  \n",
       "0          Y   Generic_158           Class 2        5962-87710  \n",
       "1          N         RNC90           Class 1     ESCC 4001/011  \n",
       "2          Y         CSR33           Class 1   MIL-PRF-39003/6  \n",
       "3          Y         CWR29           Class 2  MIL-PRF-55365/11  \n",
       "4          Y         CWR29           Class 2  MIL-PRF-55365/11  \n",
       "\n",
       "[5 rows x 49 columns]"
      ]
     },
     "execution_count": 4,
     "metadata": {},
     "output_type": "execute_result"
    }
   ],
   "source": [
    "sales.head()"
   ]
  },
  {
   "cell_type": "code",
   "execution_count": 5,
   "metadata": {},
   "outputs": [
    {
     "data": {
      "text/plain": [
       "Index(['FamilyPath_Flight', 'ComponentNumber_MAT_Flight', 'Style_Flight',\n",
       "       'QLevel_Flight', 'PRICE LABEL', 'Material', 'MAT_Flight', 'PO_Date',\n",
       "       'PO_Currency', 'PO_Change', 'POP_DeliveryDate', 'POP_Qty',\n",
       "       'POP_QtyUnit', 'POP_UnitPrice_CU', 'POP_MfrLeadTime_Calc',\n",
       "       'INDUCTANCE_T', 'INDUCTANCE_N', 'RESISTANCE_T', 'RESISTANCE_N',\n",
       "       'CAPACITANCE_T', 'CAPACITANCE_N', 'FREQUENCY_T', 'FREQUENCY_N',\n",
       "       'CONTACT_CONFIGURATION', 'RES_CASESIZE', 'CAP_CASE', 'TOLERANCE_T',\n",
       "       'TOLERANCE_N', 'TEMPCOEFFICIENT_T', 'TEMPCOEFFICIENT_N',\n",
       "       'DC_RATED_VOLTAGE_T', 'DC_RATED_VOLTAGE_N', 'RATED_COIL_VOLTAGE_T',\n",
       "       'RATED_COIL_VOLTAGE_N', 'TID_HDR_T', 'TID_HDR_N', 'TID_LDR_T',\n",
       "       'TID_LDR_N', 'PACKAGECLASS', 'PACKAGE', 'FINISH', 'FamilyRoot',\n",
       "       'MnfrDoeeetName', 'POP_MfrContinent', 'ManufacturerCountry',\n",
       "       'Qualified', 'StyleStandard', 'QualityValueName', 'SpecificationName'],\n",
       "      dtype='object')"
      ]
     },
     "execution_count": 5,
     "metadata": {},
     "output_type": "execute_result"
    }
   ],
   "source": [
    "sales.columns # print all columns"
   ]
  },
  {
   "cell_type": "markdown",
   "metadata": {},
   "source": [
    "### Data preparation\n",
    "1. Use only records without charges\n",
    "2. Convert all the prices to €"
   ]
  },
  {
   "cell_type": "markdown",
   "metadata": {},
   "source": [
    "#### Use only records without charges"
   ]
  },
  {
   "cell_type": "code",
   "execution_count": 6,
   "metadata": {},
   "outputs": [
    {
     "data": {
      "text/plain": [
       "18508"
      ]
     },
     "execution_count": 6,
     "metadata": {},
     "output_type": "execute_result"
    }
   ],
   "source": [
    "sales = sales[sales['PRICE LABEL'] == 'MATERIAL UNIT PRICE']\n",
    "sales.index.size"
   ]
  },
  {
   "cell_type": "markdown",
   "metadata": {},
   "source": [
    "#### Convert all the prices to €\n",
    "TBD"
   ]
  },
  {
   "cell_type": "markdown",
   "metadata": {},
   "source": [
    "### Families of electronic components\n",
    "(see Wikipedia's __[page](https://en.wikipedia.org/wiki/Electronic_component)__)\n",
    "- Passive Components\n",
    " - Capacitors                     \n",
    " - Inductors, Coils and Chokes    \n",
    " - Resistors                      \n",
    " - Thermistors                    \n",
    " - Wire and Cables                \n",
    " - Transformers                 \n",
    " - Filters                        \n",
    " - Fuses                          \n",
    "\n",
    "- Active Components\n",
    " - Relays                         \n",
    " - Discretes                      \n",
    " - Microcircuits                  \n",
    "\n",
    "- Electromechanical Components\n",
    " - Switches                       \n",
    " - Crystals                       \n",
    " - Connectors                     "
   ]
  },
  {
   "cell_type": "markdown",
   "metadata": {},
   "source": [
    "#### Number of records per component family"
   ]
  },
  {
   "cell_type": "code",
   "execution_count": 7,
   "metadata": {},
   "outputs": [
    {
     "name": "stdout",
     "output_type": "stream",
     "text": [
      "Capacitors                     records=2812\n",
      "Connectors                     records=2232\n",
      "Crystals                       records=1\n",
      "Discretes                      records=1711\n",
      "Filters                        records=12\n",
      "Fuses                          records=23\n",
      "Inductors, Coils and Chokes    records=318\n",
      "Microcircuits                  records=3041\n",
      "Relays                         records=35\n",
      "Resistors                      records=8027\n",
      "Switches                       records=61\n",
      "Thermistors                    records=123\n",
      "Transformers                   records=22\n",
      "Wire and Cables                records=90\n"
     ]
    }
   ],
   "source": [
    "for (family, group) in sales.groupby('FamilyRoot'):\n",
    "    print(\"{0:30s} records={1}\".format(family, group.shape[0]))"
   ]
  },
  {
   "cell_type": "markdown",
   "metadata": {},
   "source": [
    "### General Data Analysis\n",
    "1. Number of records per component family\n",
    "2. Number of records per part number\n",
    "3. ..."
   ]
  },
  {
   "cell_type": "markdown",
   "metadata": {},
   "source": [
    "#### Number of records per part number\n",
    "There are 9062 part numbers. 50 % of the records are about one single part number."
   ]
  },
  {
   "cell_type": "code",
   "execution_count": 8,
   "metadata": {},
   "outputs": [
    {
     "data": {
      "text/plain": [
       "count    9062.000000\n",
       "mean        2.042375\n",
       "std         2.810376\n",
       "min         1.000000\n",
       "25%         1.000000\n",
       "50%         1.000000\n",
       "75%         2.000000\n",
       "max        47.000000\n",
       "dtype: float64"
      ]
     },
     "execution_count": 8,
     "metadata": {},
     "output_type": "execute_result"
    }
   ],
   "source": [
    "recordsByPartNumberDict = {}\n",
    "for (partnumber, group) in sales.groupby('ComponentNumber_MAT_Flight'):\n",
    "    partnumber = \"'\" + partnumber + \"'\"\n",
    "    recordsByPartNumberDict[partnumber] = group.shape[0]\n",
    "    #print(\"{0:30s} shape={1}\".format(partnumber, group.shape[0]))\n",
    "recordsByPartNumber = pd.Series(recordsByPartNumberDict)\n",
    "recordsByPartNumber.describe()"
   ]
  },
  {
   "cell_type": "markdown",
   "metadata": {},
   "source": [
    "#### Components with only 1 record (%)"
   ]
  },
  {
   "cell_type": "code",
   "execution_count": 19,
   "metadata": {},
   "outputs": [
    {
     "data": {
      "text/plain": [
       "65.81328625027588"
      ]
     },
     "execution_count": 19,
     "metadata": {},
     "output_type": "execute_result"
    }
   ],
   "source": [
    "partNumber1 = recordsByPartNumber[recordsByPartNumber.values == 1]\n",
    "100 * partNumber1.size / recordsByPartNumber.count()\n"
   ]
  },
  {
   "cell_type": "markdown",
   "metadata": {},
   "source": [
    "#### Components with 2 or more records"
   ]
  },
  {
   "cell_type": "code",
   "execution_count": 21,
   "metadata": {},
   "outputs": [
    {
     "data": {
      "text/plain": [
       "3098"
      ]
     },
     "execution_count": 21,
     "metadata": {},
     "output_type": "execute_result"
    }
   ],
   "source": [
    "partNumber2 = recordsByPartNumber[recordsByPartNumber.values >= 2]\n",
    "partNumber2.size "
   ]
  },
  {
   "cell_type": "markdown",
   "metadata": {},
   "source": [
    "### Extract the part numbers "
   ]
  },
  {
   "cell_type": "code",
   "execution_count": 299,
   "metadata": {},
   "outputs": [],
   "source": [
    "partNumbers = pd.Series(sales['ComponentNumber_MAT_Flight'])"
   ]
  },
  {
   "cell_type": "code",
   "execution_count": 300,
   "metadata": {},
   "outputs": [
    {
     "data": {
      "text/plain": [
       "0     5962-8771002GA\n",
       "1     4001011089091B\n",
       "2    M39003/06-4076B\n",
       "Name: ComponentNumber_MAT_Flight, dtype: object"
      ]
     },
     "execution_count": 300,
     "metadata": {},
     "output_type": "execute_result"
    }
   ],
   "source": [
    "partNumbers[:3]"
   ]
  },
  {
   "cell_type": "code",
   "execution_count": 301,
   "metadata": {},
   "outputs": [
    {
     "data": {
      "text/plain": [
       "array(['5962-8771002GA', '4001011089091B', 'M39003/06-4076B', ...,\n",
       "       '520200105', '520200105', '520200105'], dtype=object)"
      ]
     },
     "execution_count": 301,
     "metadata": {},
     "output_type": "execute_result"
    }
   ],
   "source": [
    "partNumbers.values"
   ]
  },
  {
   "cell_type": "code",
   "execution_count": 302,
   "metadata": {},
   "outputs": [
    {
     "data": {
      "text/plain": [
       "18508"
      ]
     },
     "execution_count": 302,
     "metadata": {},
     "output_type": "execute_result"
    }
   ],
   "source": [
    "partNumbers.size"
   ]
  },
  {
   "cell_type": "markdown",
   "metadata": {},
   "source": [
    "### Examples\n",
    "We analyze the dependency of the price on the quantity. For each component we use only the records fro which the field \"PRICE LABEL\" is set to \"MATERIAL UNIT PRICE\". All the examples are active components.\n",
    "1. 5962F0252401VXC\n",
    "2. 5962R0722701VZA\n",
    "3. 520100205R\n",
    "4. 5962R9673802VDA\n",
    "5. 520200105R\n",
    "6. 510102608\n",
    "7. 5962F0253501VXA\n",
    "8. 520301006R\n",
    "9. 520700215\n",
    "10. 5962F0252401VXA"
   ]
  },
  {
   "cell_type": "markdown",
   "metadata": {},
   "source": [
    "#### Compute the average price per unit per quantity"
   ]
  },
  {
   "cell_type": "code",
   "execution_count": 362,
   "metadata": {},
   "outputs": [],
   "source": [
    "def compute_average_price(partNumber):\n",
    "    \"\"\"\n",
    "    Computes the average prices of a component when sold in different quantities\n",
    "    \"\"\"\n",
    "    quality_intervals = np.array([[0,11], [10,26], [25,51], [50,101], [100,201], [200,501]])\n",
    "    price_per_quantity = list() # stores the average price for each quantity interval\n",
    "    error_per_quantity = list() # stores the price error \n",
    "    for i in range(quality_intervals.shape[0]):  \n",
    "        lower_quantity = quality_intervals[i][0]\n",
    "        upper_quantity = quality_intervals[i][1]\n",
    "        component = sales[partNumbers.values == partNumber] # select the records related to the part number\n",
    "        unit_price = component[(component['POP_Qty'] > lower_quantity) & (component['POP_Qty'] <= upper_quantity)]['POP_UnitPrice_CU']\n",
    "        price_per_quantity.append(unit_price.mean()) # compute the mean of the prices within a quantity interval\n",
    "        error_per_quantity.append(unit_price.std())\n",
    "    return price_per_quantity, error_per_quantity"
   ]
  },
  {
   "cell_type": "code",
   "execution_count": 394,
   "metadata": {},
   "outputs": [],
   "source": [
    "def plot_prices(prices, errors):\n",
    "    \"\"\"\n",
    "    Plots the component's average price per quantity\n",
    "    \"\"\"\n",
    "    x_pos = np.arange(len(prices))\n",
    "    plt.xlabel(\"quantity bucket\")\n",
    "    plt.ylabel(\"average price per quantity\");\n",
    "    plt.errorbar(x_pos,prices, yerr=errors, marker='o')"
   ]
  },
  {
   "cell_type": "markdown",
   "metadata": {},
   "source": [
    "## Analysis of the dependence of the price from the quantity\n",
    "For microcircuits"
   ]
  },
  {
   "cell_type": "markdown",
   "metadata": {},
   "source": [
    "#### Example 1 Part number 5962F0252401VXC (Microcircuit)"
   ]
  },
  {
   "cell_type": "code",
   "execution_count": 384,
   "metadata": {},
   "outputs": [
    {
     "name": "stdout",
     "output_type": "stream",
     "text": [
      "[415.305, 409.54333333333335, 402.0, 406.0, 418.40000000000003, 386.0]\n"
     ]
    },
    {
     "data": {
      "image/png": "[encoded data removed]",
      "text/plain": [
       "<matplotlib.figure.Figure at 0xa7b1cb8208>"
      ]
     },
     "metadata": {},
     "output_type": "display_data"
    }
   ],
   "source": [
    "example1_prices, example1_errors = compute_average_price('5962F0252401VXC')\n",
    "print(example1_prices)\n",
    "plot_prices(example1_prices, example1_errors)"
   ]
  },
  {
   "cell_type": "markdown",
   "metadata": {},
   "source": [
    "#### Example 2 - Part Number 5962R0722701VZA (Microcircuit)"
   ]
  },
  {
   "cell_type": "code",
   "execution_count": 385,
   "metadata": {},
   "outputs": [
    {
     "name": "stdout",
     "output_type": "stream",
     "text": [
      "[2555.6395652173915, 2585.564, 2476.25, 2312.5, nan, 2358.75]\n"
     ]
    },
    {
     "data": {
      "image/png": "[encoded data removed]",
      "text/plain": [
       "<matplotlib.figure.Figure at 0xa7b1d0b470>"
      ]
     },
     "metadata": {},
     "output_type": "display_data"
    }
   ],
   "source": [
    "example2_prices, example2_errors = compute_average_price('5962R0722701VZA')\n",
    "print(example2_prices)\n",
    "plot_prices(example2_prices, example2_errors)"
   ]
  },
  {
   "cell_type": "markdown",
   "metadata": {},
   "source": [
    "#### Example 3 - Part number 520100205R (Descrete)"
   ]
  },
  {
   "cell_type": "code",
   "execution_count": 386,
   "metadata": {},
   "outputs": [
    {
     "name": "stdout",
     "output_type": "stream",
     "text": [
      "[55.54999999999999, 51.001666666666665, 49.5, 48.74285714285714, 38.419999999999995, 45.26666666666667]\n"
     ]
    },
    {
     "data": {
      "image/png": "[encoded data removed]",
      "text/plain": [
       "<matplotlib.figure.Figure at 0xa7b1dbb8d0>"
      ]
     },
     "metadata": {},
     "output_type": "display_data"
    }
   ],
   "source": [
    "example3_prices, example3_errors = compute_average_price('520100205R')\n",
    "print(example3_prices)\n",
    "plot_prices(example3_prices, example3_errors)"
   ]
  },
  {
   "cell_type": "markdown",
   "metadata": {},
   "source": [
    "#### Example 4 - Part number 5962R9673802VDA (Microcircuit)"
   ]
  },
  {
   "cell_type": "code",
   "execution_count": 387,
   "metadata": {},
   "outputs": [
    {
     "name": "stdout",
     "output_type": "stream",
     "text": [
      "[268.57142857142856, 232.5, 231.05, 249.16666666666666, 253.0, 190.66]\n"
     ]
    },
    {
     "data": {
      "image/png": "[encoded data removed]",
      "text/plain": [
       "<matplotlib.figure.Figure at 0xa7b1eb14a8>"
      ]
     },
     "metadata": {},
     "output_type": "display_data"
    }
   ],
   "source": [
    "example4_prices, example4_errors = compute_average_price('5962R9673802VDA')\n",
    "print(example4_prices)\n",
    "plot_prices(example4_prices, example4_errors)"
   ]
  },
  {
   "cell_type": "markdown",
   "metadata": {},
   "source": [
    "#### Example 5 - Part number 520200105R (Descrete)"
   ]
  },
  {
   "cell_type": "code",
   "execution_count": 388,
   "metadata": {},
   "outputs": [
    {
     "name": "stdout",
     "output_type": "stream",
     "text": [
      "[52.73199999999999, 49.606, 50.559000000000005, 47.75, 43.29, 39.685]\n"
     ]
    },
    {
     "data": {
      "image/png": "[encoded data removed]",
      "text/plain": [
       "<matplotlib.figure.Figure at 0xa7b2ed85f8>"
      ]
     },
     "metadata": {},
     "output_type": "display_data"
    }
   ],
   "source": [
    "example5_prices, example5_errors = compute_average_price('520200105R')\n",
    "print(example5_prices)\n",
    "plot_prices(example5_prices, example5_errors)"
   ]
  },
  {
   "cell_type": "markdown",
   "metadata": {},
   "source": [
    "#### Example 6 - Part number 510102608 (Descrete)"
   ]
  },
  {
   "cell_type": "code",
   "execution_count": 389,
   "metadata": {},
   "outputs": [
    {
     "name": "stdout",
     "output_type": "stream",
     "text": [
      "[39.29333333333333, 38.055, 36.419999999999995, 36.60857142857143, 39.5, 36.0]\n"
     ]
    },
    {
     "data": {
      "image/png": "[encoded data removed]",
      "text/plain": [
       "<matplotlib.figure.Figure at 0xa7b1d96be0>"
      ]
     },
     "metadata": {},
     "output_type": "display_data"
    }
   ],
   "source": [
    "example6_prices, example6_errors = compute_average_price('510102608')\n",
    "print(example6_prices)\n",
    "plot_prices(example6_prices, example6_errors)"
   ]
  },
  {
   "cell_type": "markdown",
   "metadata": {},
   "source": [
    "#### Example 7 - Part number 5962F0253501VXA (Microcircuit)"
   ]
  },
  {
   "cell_type": "code",
   "execution_count": 390,
   "metadata": {},
   "outputs": [
    {
     "name": "stdout",
     "output_type": "stream",
     "text": [
      "[nan, 407.5, 461.8333333333333, 387.5, nan, nan]\n"
     ]
    },
    {
     "data": {
      "image/png": "[encoded data removed]",
      "text/plain": [
       "<matplotlib.figure.Figure at 0xa7b1e74828>"
      ]
     },
     "metadata": {},
     "output_type": "display_data"
    }
   ],
   "source": [
    "example7_prices, example7_errors = compute_average_price('5962F0253501VXA')\n",
    "print(example7_prices)\n",
    "plot_prices(example7_prices, example7_errors)"
   ]
  },
  {
   "cell_type": "markdown",
   "metadata": {},
   "source": [
    "#### Example 8 - Part number 520301006R (Discrete)"
   ]
  },
  {
   "cell_type": "code",
   "execution_count": 391,
   "metadata": {},
   "outputs": [
    {
     "name": "stdout",
     "output_type": "stream",
     "text": [
      "[68.83, 69.70749999999998, 67.1, 69.2, 65.0, nan]\n"
     ]
    },
    {
     "data": {
      "image/png": "[encoded data removed]",
      "text/plain": [
       "<matplotlib.figure.Figure at 0xa7b1cfd518>"
      ]
     },
     "metadata": {},
     "output_type": "display_data"
    }
   ],
   "source": [
    "example8_prices, example8_errors = compute_average_price('520301006R')\n",
    "print(example8_prices)\n",
    "plot_prices(example8_prices, example8_errors)"
   ]
  },
  {
   "cell_type": "markdown",
   "metadata": {},
   "source": [
    "#### Example 9 - Part number 520700215 (Discrete)"
   ]
  },
  {
   "cell_type": "code",
   "execution_count": 392,
   "metadata": {},
   "outputs": [
    {
     "name": "stdout",
     "output_type": "stream",
     "text": [
      "[111.78999999999999, 109.0, 107.61666666666667, 109.0, nan, 106.5]\n"
     ]
    },
    {
     "data": {
      "image/png": "[encoded data removed]",
      "text/plain": [
       "<matplotlib.figure.Figure at 0xa7b3025828>"
      ]
     },
     "metadata": {},
     "output_type": "display_data"
    }
   ],
   "source": [
    "example9_prices, example9_errors = compute_average_price('520700215')\n",
    "print(example9_prices)\n",
    "plot_prices(example9_prices, example9_errors)"
   ]
  },
  {
   "cell_type": "markdown",
   "metadata": {},
   "source": [
    "#### Example 10 - Part number 5962F0252401VXA (Microcircuit)"
   ]
  },
  {
   "cell_type": "code",
   "execution_count": 393,
   "metadata": {
    "scrolled": true
   },
   "outputs": [
    {
     "name": "stdout",
     "output_type": "stream",
     "text": [
      "[411.0681818181818, 407.0, 421.0833333333333, 387.5, 340.0, nan]\n"
     ]
    },
    {
     "data": {
      "image/png": "[encoded data removed]",
      "text/plain": [
       "<matplotlib.figure.Figure at 0xa7b1ed8240>"
      ]
     },
     "metadata": {},
     "output_type": "display_data"
    }
   ],
   "source": [
    "example10_prices, example10_errors = compute_average_price('5962F0252401VXA')\n",
    "print(example10_prices)\n",
    "plot_prices(example10_prices, example10_errors)"
   ]
  },
  {
   "cell_type": "code",
   "execution_count": null,
   "metadata": {},
   "outputs": [],
   "source": []
  }
 ],
 "metadata": {
  "kernelspec": {
   "display_name": "Python 3",
   "language": "python",
   "name": "python3"
  },
  "language_info": {
   "codemirror_mode": {
    "name": "ipython",
    "version": 3
   },
   "file_extension": ".py",
   "mimetype": "text/x-python",
   "name": "python",
   "nbconvert_exporter": "python",
   "pygments_lexer": "ipython3",
   "version": "3.6.5"
  }
 },
 "nbformat": 4,
 "nbformat_minor": 2
}
