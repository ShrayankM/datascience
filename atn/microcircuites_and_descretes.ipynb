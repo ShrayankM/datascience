{
 "cells": [
  {
   "cell_type": "markdown",
   "metadata": {},
   "source": [
    "# Microcircuits and Descretes"
   ]
  },
  {
   "cell_type": "code",
   "execution_count": 1,
   "metadata": {},
   "outputs": [
    {
     "name": "stdout",
     "output_type": "stream",
     "text": [
      "C:\\Users\\lselmi\\cygwin64\\home\\lselmi\\anaconda\\altertech\\datasets\n"
     ]
    }
   ],
   "source": [
    "cd C:\\Users\\lselmi\\cygwin64\\home\\lselmi\\anaconda\\altertech\\datasets"
   ]
  },
  {
   "cell_type": "code",
   "execution_count": 48,
   "metadata": {},
   "outputs": [
    {
     "data": {
      "text/plain": [
       "'0.22.0'"
      ]
     },
     "execution_count": 48,
     "metadata": {},
     "output_type": "execute_result"
    }
   ],
   "source": [
    "import pandas as pd\n",
    "import numpy as np\n",
    "from datetime import datetime\n",
    "from pandas import Series, DataFrame\n",
    "%matplotlib inline\n",
    "import matplotlib.pyplot as plt\n",
    "import warnings; warnings.simplefilter('ignore')\n",
    "plt.style.use('seaborn-whitegrid')\n",
    "pd.__version__"
   ]
  },
  {
   "cell_type": "markdown",
   "metadata": {},
   "source": [
    "### Read the data"
   ]
  },
  {
   "cell_type": "code",
   "execution_count": 85,
   "metadata": {},
   "outputs": [],
   "source": [
    "sales = pd.read_csv('PurchaseData_20180319.csv')"
   ]
  },
  {
   "cell_type": "markdown",
   "metadata": {},
   "source": [
    "# Microcircuits Data Analysis\n",
    "In order to predict the price (POP_UnitPrice) and the delivery time (PO_Date) of microcircuits we have received from ATN, with the data, a list of features that should be relevant for the task at hand and a set of rules. The relevant features are a subset of the fields in the data set.\n",
    "\n",
    "1. Component number (ComponentNumber_MAT_Flight)\n",
    "2. Specification name (SpecificationName)\n",
    "3. Family path (FamilyPath_Flight)\n",
    "4. Style (Style_Flight)\n",
    "5. Quality level (QLevel_Flight)\n",
    "6. Package class (PACKAGECLASS)\n",
    "7. Package (PACKAGE)\n",
    "8. Finish (FINISH)\n",
    "9. Radiation level (TID_HDR_N)\n",
    "10. Quality Value Name (QualityValueName)\n",
    "11. Manufacturer (MnfrDoeeetName)\n",
    "12. Quantity (POP_Qty)\n",
    "13. Date of purchase (PO_Date)\n",
    "14. Unit price (POP_UnitPrice)\n",
    "15. Date of delivery (POP_DeliveryDate)\n",
    "\n",
    "The assumption is that the data and the rules should allow us to predict the price and delivery time of a microcircuit whether there are records about that specific microcircuit in the sample data set or not. The first 12 paramenters are called features or predictors while the unit price and the date of delivery are called targets. A client, requesting a prediction about the price of a component, will send in the request the predictors that will allow the server to \n",
    "\n",
    "1. Identify the component (component number, specification name, family path)\n",
    "2. Determine the quality characteristics of the component (style, package, package class, finish, radiation level, quality value)\n",
    "3. Use other information that might impact the price (manufacturer, quantity, date of purchase) \n",
    "\n",
    "In order to make a prediction of the price of a component, the algorithm looks into the data to find records about that same component and return the unit price or an average value. In case no records are available about that component number, it looks for records with the same specification name and applies some rules to make a prediction for the price. \n",
    "\n",
    "The component number and the specification name encode, among other information, the specific family of the component, e.g. whether it is an operational amplifier or an analog to digital converter. When there are no records with the same component number or specification name, the algorithm looks for records about similar components and apply some rules to make a prediction. So the next step in this case is to look for records with the same family path or the same most specific name in the family path. \n"
   ]
  },
  {
   "cell_type": "markdown",
   "metadata": {},
   "source": [
    "## Data preparation for microcircuits\n",
    "Before implementing the algorithm to predict unit price and delivery time for a microcircuit, we have to extract the records from the sale orders data set and apply the following transformation\n",
    "\n",
    "1. Filter out the records about services (aka \"charges\") \n",
    "2. Select the records about microcircuits (family root -> microcircuits)\n",
    "3. Extract the most specific family of the component from the hierarchy (family path)\n",
    "4. Transform all the prices in euro\n",
    "5. Update the all the unit prices applying an increase of 5 % per year (using the compund interest formula) \n",
    "\n",
    "After the data is prepared we can implement the algorithms for microcircuits \n",
    "\n",
    "1. Price prediction\n",
    "2. Delivery time prediction\n"
   ]
  },
  {
   "cell_type": "markdown",
   "metadata": {},
   "source": [
    "####  1. Filter out records about services"
   ]
  },
  {
   "cell_type": "code",
   "execution_count": 86,
   "metadata": {},
   "outputs": [
    {
     "data": {
      "text/plain": [
       "18508"
      ]
     },
     "execution_count": 86,
     "metadata": {},
     "output_type": "execute_result"
    }
   ],
   "source": [
    "sales = sales[sales['PRICE LABEL'] == 'MATERIAL UNIT PRICE']\n",
    "sales.index.size"
   ]
  },
  {
   "cell_type": "markdown",
   "metadata": {},
   "source": [
    "#### 2. Select the records about microcircuits"
   ]
  },
  {
   "cell_type": "code",
   "execution_count": 87,
   "metadata": {},
   "outputs": [
    {
     "name": "stdout",
     "output_type": "stream",
     "text": [
      "Number of records for microcircuits: 3041\n"
     ]
    }
   ],
   "source": [
    "microcircuits_records = sales[sales['FamilyRoot'] == 'Microcircuits']\n",
    "num_microcircuits_records = microcircuits_records.index.size\n",
    "print(\"Number of records for microcircuits: \" + str(num_microcircuits_records))"
   ]
  },
  {
   "cell_type": "markdown",
   "metadata": {},
   "source": [
    "#### 3. Extract the family root and leaf "
   ]
  },
  {
   "cell_type": "code",
   "execution_count": 88,
   "metadata": {},
   "outputs": [
    {
     "name": "stdout",
     "output_type": "stream",
     "text": [
      "Family root: Microcircuits, Family leaf: Operational Amplifier\n"
     ]
    }
   ],
   "source": [
    "microcircuits_records['family_leaf'] = [family.split(\"/\")[len(family.split(\"/\")) - 1] for family in microcircuits_records['FamilyPath_Flight'] ]\n",
    "microcircuits_records['family_root'] = [family.split(\"/\")[0] for family in microcircuits_records['FamilyPath_Flight'] ]\n",
    "print(\"Family root: \" + microcircuits_records['family_root'][0] + \", Family leaf: \" + microcircuits_records['family_leaf'][0])"
   ]
  },
  {
   "cell_type": "markdown",
   "metadata": {},
   "source": [
    "#### 4. Transform all the unit prices in US dollars to euros"
   ]
  },
  {
   "cell_type": "code",
   "execution_count": 89,
   "metadata": {},
   "outputs": [],
   "source": [
    "microcircuits_records['price_euros'] = microcircuits_records['POP_UnitPrice_CU'] * microcircuits_records['PO_Change'] * (microcircuits_records['PO_Currency'] == 'USD')\n",
    "microcircuits_records['price_euros'] += microcircuits_records['POP_UnitPrice_CU'] * (microcircuits_records['PO_Currency'] == 'EUR')"
   ]
  },
  {
   "cell_type": "code",
   "execution_count": 90,
   "metadata": {},
   "outputs": [],
   "source": [
    "#microcircuits_records['price_euros_simple'] = [price * microcircuits_records['PO_Change'] for price in microcircuits_records['POP_UnitPrice_CU']]"
   ]
  },
  {
   "cell_type": "markdown",
   "metadata": {},
   "source": [
    "#### 5. Update the unit prices\n",
    "The date of purchase is used to compute the adjusted price (AP) from the unit price (P) in each record using the formula \n",
    "\n",
    "> AP = P*(1 + %)^Y\n",
    "\n",
    "where % is the increase in price per year, e.g. 5 %, Y is the number of years since the date of purchase in the record."
   ]
  },
  {
   "cell_type": "code",
   "execution_count": 117,
   "metadata": {},
   "outputs": [
    {
     "name": "stdout",
     "output_type": "stream",
     "text": [
      "Price in 2013: 9.85. Adjusted price: 12.571373390625004\n"
     ]
    }
   ],
   "source": [
    "# Change the type of PO_Date from int64 to str\n",
    "years_str = pd.Series(microcircuits_records['PO_Date']).astype('str')\n",
    "# Extract the 1st 4 digits\n",
    "years_str = [year_str[0:4] for year_str in years_str]\n",
    "# Change back from str to int and compute the number of years from the purchase date to 2018\n",
    "years = [2018 - int(year_str) for year_str in years_str]\n",
    "microcircuits_records['years'] = years\n",
    "microcircuits_records['adjusted_price'] = microcircuits_records['price_euros'] * np.power(1 + 0.05, microcircuits_records['years'])\n",
    "print(\"Price in \" + str(2018 - microcircuits_records['years'][0]) + \": \" + str(microcircuits_records['price_euros'][0]) + \". Adjusted price: \" + str(microcircuits_records['adjusted_price'][0]))"
   ]
  },
  {
   "cell_type": "markdown",
   "metadata": {},
   "source": [
    "## Price prediction for microcircuits\n",
    "The client will send all the 12 predictors, each mapped to a field in the dataset\n",
    "\n",
    "1. Component number\n",
    "2. Specification name\n",
    "3. Family path\n",
    "4. Style \n",
    "5. Quality level\n",
    "6. Package class\n",
    "7. Package\n",
    "8. Finish \n",
    "9. Radiation level\n",
    "10. Quality Value Name\n",
    "11. Manufacturer\n",
    "12. Quantity\n",
    "\n",
    "In order to make a prediction the algorithm must find some records about the same component or  a similar one in the sale orders. The following three scenarios might happen\n",
    "\n",
    "1. The component number in the request matches with a component number in the dataset\n",
    "2. The component number in the request does not match with any in the dataset but the specification name matches\n",
    "3. Neither the component number nor the specification name in the request matches with a record in the sale orders"
   ]
  },
  {
   "cell_type": "markdown",
   "metadata": {},
   "source": [
    "### Scenario 1\n",
    "The component number in the request matches with a component number in the datase.\n",
    "\n",
    "In this scenario the only parameters to use to predict the price are\n",
    "\n",
    "- Manufacturer\n",
    "- Date of purchase\n",
    "- Quantity\n",
    "\n",
    "The manufacturer is used to select the records with the same manufacturer. If the manufacturer is different the records with the different manufacturer will be used. \n",
    "\n",
    "Compute the average adjusted price for the same quantity in the sale orders and the standard deviation. This step can be performed in the data preparation phase.\n",
    "\n",
    "If more than one records are availabe with different quantities use a linear interpolation average adjusted prices to find the average adjusted price for the quantity requested. If only one record is available, returns the adjusted price.\n"
   ]
  },
  {
   "cell_type": "markdown",
   "metadata": {},
   "source": [
    "### Scenario 2\n",
    "The component number in the request does not match with any in the dataset but the specification name matches.\n",
    "\n",
    "In this scenario the algorithm must select the records that are about a similar component using the specification name and the family path.\n",
    "\n",
    "It must also filter the records, about the same specification name and family path"
   ]
  },
  {
   "cell_type": "markdown",
   "metadata": {},
   "source": [
    "### Scenario 3\n",
    "Neither the component number nor the specification name in the request matches with a record in the sale orders"
   ]
  },
  {
   "cell_type": "code",
   "execution_count": null,
   "metadata": {},
   "outputs": [],
   "source": []
  }
 ],
 "metadata": {
  "kernelspec": {
   "display_name": "Python 3",
   "language": "python",
   "name": "python3"
  },
  "language_info": {
   "codemirror_mode": {
    "name": "ipython",
    "version": 3
   },
   "file_extension": ".py",
   "mimetype": "text/x-python",
   "name": "python",
   "nbconvert_exporter": "python",
   "pygments_lexer": "ipython3",
   "version": "3.6.4"
  }
 },
 "nbformat": 4,
 "nbformat_minor": 2
}
